{
  "nbformat": 4,
  "nbformat_minor": 0,
  "metadata": {
    "colab": {
      "provenance": [],
      "include_colab_link": true
    },
    "kernelspec": {
      "name": "python3",
      "display_name": "Python 3"
    },
    "language_info": {
      "name": "python"
    }
  },
  "cells": [
    {
      "cell_type": "markdown",
      "metadata": {
        "id": "view-in-github",
        "colab_type": "text"
      },
      "source": [
        "<a href=\"https://colab.research.google.com/github/nathaliacastelobranco/infnet-analise-de-dados-pyspark/blob/main/01_EDA_An%C3%A1lise_de_dados_com_PySpark.ipynb\" target=\"_parent\"><img src=\"https://colab.research.google.com/assets/colab-badge.svg\" alt=\"Open In Colab\"/></a>"
      ]
    },
    {
      "cell_type": "markdown",
      "source": [
        "# Análise de dados com PySpark []\n",
        "\n",
        "Nathalia Castelo Branco\n",
        "\n",
        "---\n",
        "### Parte 1\n",
        "\n",
        "1. Desenvolva um notebook bem documentado em Python utilizando a biblioteca PySpark para apresentar as análises realizadas no trabalho do Hadoop\n",
        "\n",
        "- Para cada análise realizada, escreva a consulta em SQL no Spark e também utilize as funções vistas em aula\n",
        "- Acrescente novas análises para uma análise exploratória mais detalhada\n",
        "- Utilize funções de agregação (count, min, max, avg, sum, etc.)"
      ],
      "metadata": {
        "id": "HlincfOG44fc"
      }
    },
    {
      "cell_type": "markdown",
      "source": [
        "O desenvolvimento deste trabalho é baseado em outra análise de dados desenvolvida em Hive (Disciplina Infraestrutura Hadoop).\n",
        "\n",
        "- Link para Github do projeto Hadoop: https://github.com/nathaliacastelobranco/infnet-infraestrutura-hadoop"
      ],
      "metadata": {
        "id": "NrBOhhgf59VB"
      }
    },
    {
      "cell_type": "code",
      "execution_count": 1,
      "metadata": {
        "colab": {
          "base_uri": "https://localhost:8080/"
        },
        "id": "ffUrqV43idV_",
        "outputId": "e5fd8b2c-85d3-459f-8412-b7f1180bacb0"
      },
      "outputs": [
        {
          "output_type": "stream",
          "name": "stdout",
          "text": [
            "Requirement already satisfied: pyspark in /usr/local/lib/python3.12/dist-packages (3.5.1)\n",
            "Requirement already satisfied: py4j==0.10.9.7 in /usr/local/lib/python3.12/dist-packages (from pyspark) (0.10.9.7)\n",
            "\u001b[2K   \u001b[90m━━━━━━━━━━━━━━━━━━━━━━━━━━━━━━━━━━━━━━━━\u001b[0m \u001b[32m1.8/1.8 MB\u001b[0m \u001b[31m21.7 MB/s\u001b[0m eta \u001b[36m0:00:00\u001b[0m\n",
            "\u001b[?25h"
          ]
        }
      ],
      "source": [
        "# ==============================================\n",
        "# 0. Instalações\n",
        "# ==============================================\n",
        "\n",
        "!pip install pyspark\n",
        "\n",
        "!pip install gcsfs pyarrow fastparquet -q\n",
        "\n",
        "!apt-get install openjdk-11-jdk-headless -qq > /dev/null\n",
        "!wget -q https://repo1.maven.org/maven2/com/google/cloud/bigdataoss/gcs-connector/hadoop3-2.2.5/gcs-connector-hadoop3-2.2.5-shaded.jar -O gcs-connector.jar"
      ]
    },
    {
      "cell_type": "code",
      "source": [
        "# ==============================================\n",
        "# 1. Dependências, autenticação e configurações\n",
        "# ==============================================\n",
        "from pyspark.sql import SparkSession\n",
        "from pyspark.sql.functions import count, desc, col, max, when, isnan, substring, when, col, lit\n",
        "\n",
        "import os\n",
        "import shutil\n",
        "import pyarrow as pa\n",
        "import pyarrow.parquet as pq\n",
        "from google.cloud import storage\n",
        "\n",
        "import matplotlib.pyplot as plt\n",
        "from matplotlib.ticker import ScalarFormatter\n",
        "import seaborn as sns\n",
        "import pandas as pd\n",
        "\n",
        "# Autenticação\n",
        "from google.colab import auth\n",
        "auth.authenticate_user()"
      ],
      "metadata": {
        "id": "KLxVXKoP7OWY"
      },
      "execution_count": 2,
      "outputs": []
    },
    {
      "cell_type": "code",
      "source": [
        "sns.color_palette(\"rocket\")"
      ],
      "metadata": {
        "id": "jkjBrntyrgji",
        "colab": {
          "base_uri": "https://localhost:8080/",
          "height": 76
        },
        "outputId": "22c3ad06-55ef-4059-aba6-9f5776f921d2"
      },
      "execution_count": 3,
      "outputs": [
        {
          "output_type": "execute_result",
          "data": {
            "text/plain": [
              "[(0.20973515, 0.09747934, 0.24238489),\n",
              " (0.43860848, 0.12177004, 0.34119475),\n",
              " (0.67824099, 0.09192342, 0.3504148),\n",
              " (0.8833417, 0.19830556, 0.26014181),\n",
              " (0.95381595, 0.46373781, 0.31769923),\n",
              " (0.96516917, 0.70776351, 0.5606593)]"
            ],
            "text/html": [
              "<svg  width=\"330\" height=\"55\"><rect x=\"0\" y=\"0\" width=\"55\" height=\"55\" style=\"fill:#35193e;stroke-width:2;stroke:rgb(255,255,255)\"/><rect x=\"55\" y=\"0\" width=\"55\" height=\"55\" style=\"fill:#701f57;stroke-width:2;stroke:rgb(255,255,255)\"/><rect x=\"110\" y=\"0\" width=\"55\" height=\"55\" style=\"fill:#ad1759;stroke-width:2;stroke:rgb(255,255,255)\"/><rect x=\"165\" y=\"0\" width=\"55\" height=\"55\" style=\"fill:#e13342;stroke-width:2;stroke:rgb(255,255,255)\"/><rect x=\"220\" y=\"0\" width=\"55\" height=\"55\" style=\"fill:#f37651;stroke-width:2;stroke:rgb(255,255,255)\"/><rect x=\"275\" y=\"0\" width=\"55\" height=\"55\" style=\"fill:#f6b48f;stroke-width:2;stroke:rgb(255,255,255)\"/></svg>"
            ]
          },
          "metadata": {},
          "execution_count": 3
        }
      ]
    },
    {
      "cell_type": "code",
      "source": [
        "sns.set_palette(\"rocket\")"
      ],
      "metadata": {
        "id": "5V9iWnjxrhjS"
      },
      "execution_count": 4,
      "outputs": []
    },
    {
      "cell_type": "code",
      "source": [
        "# ========================================\n",
        "# 2. Sessão Spark e Exploração dos dados\n",
        "# ========================================\n",
        "spark = SparkSession \\\n",
        "        .builder \\\n",
        "        .appName(\"CAGED-Spark\") \\\n",
        "        .config(\"spark.jars\", \"gcs-connector.jar\") \\\n",
        "        .config(\"spark.hadoop.fs.gs.impl\", \"com.google.cloud.hadoop.fs.gcs.GoogleHadoopFileSystem\") \\\n",
        "        .getOrCreate()"
      ],
      "metadata": {
        "id": "ykss9qlY7Yxn"
      },
      "execution_count": 5,
      "outputs": []
    },
    {
      "cell_type": "markdown",
      "source": [
        "## Leitura dos arquivos no Google Cloud Storage"
      ],
      "metadata": {
        "id": "3emy3rYeeXYI"
      }
    },
    {
      "cell_type": "markdown",
      "source": [
        "### Fato CAGED"
      ],
      "metadata": {
        "id": "XEnzS1MreaNa"
      }
    },
    {
      "cell_type": "code",
      "source": [
        "fato_caged = spark.read.parquet(\"gs://bucket_caged/caged_unificado/\")\n",
        "fato_caged.createOrReplaceTempView(\"fato_caged\")\n",
        "fato_caged.show(5, truncate=False)"
      ],
      "metadata": {
        "id": "ORz1jiBq7_Ej",
        "colab": {
          "base_uri": "https://localhost:8080/"
        },
        "outputId": "e29bcf7a-6f0e-4209-ed63-a7604eee5f70"
      },
      "execution_count": 6,
      "outputs": [
        {
          "output_type": "stream",
          "name": "stdout",
          "text": [
            "+--------------+------+---+---------+-----+---------+-----------------+---------------+---------+---------------+-----+----------------+-------+----+--------------+-------------------+----------------+---------------+-------------------+--------------+--------+-----------+-----------------+--------------------+----------------------+--------------------+----------------+--------------+-------------------+-------+---------------+-------------+------------+-------+--------------+-----------------+\n",
            "|competenciamov|regiao|uf |municipio|secao|subclasse|saldomovimentacao|cbo2002ocupacao|categoria|graudeinstrucao|idade|horascontratuais|racacor|sexo|tipoempregador|tipoestabelecimento|tipomovimentacao|tipodeficiencia|indtrabintermitente|indtrabparcial|salario |tamestabjan|indicadoraprendiz|origemdainformaÃ§Ã£o|indicadordeforadoprazo|unidadesalariocodigo|valorsalariofixo|competenciaexc|indicadordeexclusao|ano_mov|natureza_evento|impacto_saldo|faixa_etaria|ano_dec|competenciadec|origem_declaracao|\n",
            "+--------------+------+---+---------+-----+---------+-----------------+---------------+---------+---------------+-----+----------------+-------+----+--------------+-------------------+----------------+---------------+-------------------+--------------+--------+-----------+-----------------+--------------------+----------------------+--------------------+----------------+--------------+-------------------+-------+---------------+-------------+------------+-------+--------------+-----------------+\n",
            "|202507        |3     |33 |330455   |N    |8121400  |1                |514320         |101      |4              |40.0 |44,00           |3      |3   |0             |1                  |97              |0              |0                  |0             |1730,75 |10         |0                |1                   |0                     |5                   |1730,75         |NULL          |NULL               |2025   |admissao       |1            |35-44       |2025   |202507        |PRAZO            |\n",
            "|202507        |5     |51 |510792   |A    |115600   |-1               |414110         |101      |4              |35.0 |44,00           |3      |1   |2             |3                  |43              |0              |0                  |0             |2000,00 |2          |0                |1                   |0                     |5                   |2000,00         |NULL          |NULL               |2025   |desligamento   |-1           |35-44       |2025   |202507        |PRAZO            |\n",
            "|202507        |3     |35 |355030   |N    |8299799  |-1               |410235         |101      |9              |38.0 |44,00           |1      |3   |0             |1                  |31              |0              |0                  |0             |12408,32|8          |0                |1                   |0                     |5                   |12408,32        |NULL          |NULL               |2025   |desligamento   |-1           |35-44       |2025   |202507        |PRAZO            |\n",
            "|202507        |4     |41 |411915   |G    |4634601  |-1               |782510         |101      |7              |19.0 |44,00           |1      |1   |0             |1                  |31              |0              |0                  |0             |2262,87 |5          |0                |1                   |0                     |5                   |2262,87         |NULL          |NULL               |2025   |desligamento   |-1           |19-24       |2025   |202507        |PRAZO            |\n",
            "|202507        |3     |35 |355030   |G    |4633801  |1                |783215         |101      |7              |36.0 |44,00           |3      |1   |0             |1                  |97              |0              |0                  |0             |2270,91 |5          |0                |1                   |0                     |5                   |2270,91         |NULL          |NULL               |2025   |admissao       |1            |35-44       |2025   |202507        |PRAZO            |\n",
            "+--------------+------+---+---------+-----+---------+-----------------+---------------+---------+---------------+-----+----------------+-------+----+--------------+-------------------+----------------+---------------+-------------------+--------------+--------+-----------+-----------------+--------------------+----------------------+--------------------+----------------+--------------+-------------------+-------+---------------+-------------+------------+-------+--------------+-----------------+\n",
            "only showing top 5 rows\n",
            "\n"
          ]
        }
      ]
    },
    {
      "cell_type": "markdown",
      "source": [
        "### Dimensão UF"
      ],
      "metadata": {
        "id": "cwfre8zheeyl"
      }
    },
    {
      "cell_type": "code",
      "source": [
        "dim_uf = spark.read.csv(\"gs://bucket_caged/dimensoes/dim_uf/dim_uf.csv\", header=False, inferSchema=True)\n",
        "dim_uf = dim_uf.toDF(\"uf\", \"descricao_uf\")\n",
        "dim_uf.createOrReplaceTempView(\"dim_uf\")\n",
        "dim_uf.show()"
      ],
      "metadata": {
        "id": "qL4QuUr2xF9W",
        "colab": {
          "base_uri": "https://localhost:8080/"
        },
        "outputId": "fc055a0a-2dda-402d-b757-a030cecd0f54"
      },
      "execution_count": 7,
      "outputs": [
        {
          "output_type": "stream",
          "name": "stdout",
          "text": [
            "+---+-------------------+\n",
            "| uf|       descricao_uf|\n",
            "+---+-------------------+\n",
            "| 11|           Rondonia|\n",
            "| 12|               Acre|\n",
            "| 13|           Amazonas|\n",
            "| 14|            Roraima|\n",
            "| 15|               Para|\n",
            "| 16|              Amapa|\n",
            "| 17|          Tocantins|\n",
            "| 21|           Maranhao|\n",
            "| 22|              Piaui|\n",
            "| 23|              Ceara|\n",
            "| 24|Rio Grande do Norte|\n",
            "| 25|            Paraiba|\n",
            "| 26|         Pernambuco|\n",
            "| 27|            Alagoas|\n",
            "| 28|            Sergipe|\n",
            "| 29|              Bahia|\n",
            "| 31|       Minas Gerais|\n",
            "| 32|     Espirito Santo|\n",
            "| 33|     Rio de Janeiro|\n",
            "| 35|          Sao Paulo|\n",
            "+---+-------------------+\n",
            "only showing top 20 rows\n",
            "\n"
          ]
        }
      ]
    },
    {
      "cell_type": "markdown",
      "source": [
        "### Dimensão Região"
      ],
      "metadata": {
        "id": "DgeNFkOeehgU"
      }
    },
    {
      "cell_type": "code",
      "source": [
        "dim_regiao = spark.read.csv(\"gs://bucket_caged/dimensoes/dim_regiao/dim_regiao.csv\", header=False, inferSchema=True)\n",
        "dim_regiao = dim_regiao.toDF(\"regiao\", \"descricao_regiao\")\n",
        "dim_regiao.createOrReplaceTempView(\"dim_regiao\")\n",
        "dim_regiao.show()"
      ],
      "metadata": {
        "id": "qHouhD7Naftk",
        "colab": {
          "base_uri": "https://localhost:8080/"
        },
        "outputId": "75f15b0c-4742-4551-84cd-e073581ef397"
      },
      "execution_count": 8,
      "outputs": [
        {
          "output_type": "stream",
          "name": "stdout",
          "text": [
            "+------+----------------+\n",
            "|regiao|descricao_regiao|\n",
            "+------+----------------+\n",
            "|     1|           Norte|\n",
            "|     2|        Nordeste|\n",
            "|     3|         Sudeste|\n",
            "|     4|             Sul|\n",
            "|     5|    Centro-Oeste|\n",
            "|     9|Nao identificado|\n",
            "+------+----------------+\n",
            "\n"
          ]
        }
      ]
    },
    {
      "cell_type": "markdown",
      "source": [
        "### Dimensão Seção"
      ],
      "metadata": {
        "id": "RH5d0k3Gejcm"
      }
    },
    {
      "cell_type": "code",
      "source": [
        "dim_secao = spark.read.csv(\"gs://bucket_caged/dimensoes/dim_secao/dim_secao.csv\", header=False, inferSchema=True, sep=\";\")\n",
        "dim_secao = dim_secao.toDF(\"secao\", \"descricao_secao\")\n",
        "dim_secao.createOrReplaceTempView(\"dim_secao\")\n",
        "dim_secao.show()"
      ],
      "metadata": {
        "id": "d1UtV4WWcNgO",
        "colab": {
          "base_uri": "https://localhost:8080/"
        },
        "outputId": "1d244eb2-cc94-4d2e-8e06-fa877c68f6cc"
      },
      "execution_count": 9,
      "outputs": [
        {
          "output_type": "stream",
          "name": "stdout",
          "text": [
            "+-----+--------------------+\n",
            "|secao|     descricao_secao|\n",
            "+-----+--------------------+\n",
            "|    A|Agricultura, Pecu...|\n",
            "|    B|Industrias Extrat...|\n",
            "|    C|Industrias de Tra...|\n",
            "|    D|  Eletricidade e Gas|\n",
            "|    E|Agua, Esgoto, Ati...|\n",
            "|    F|          Construcao|\n",
            "|    G|Comercio, Reparac...|\n",
            "|    H|Transporte, Armaz...|\n",
            "|    I|Alojamento e Alim...|\n",
            "|    J|Informacao e Comu...|\n",
            "|    K|Atividades Financ...|\n",
            "|    L|Atividades Imobil...|\n",
            "|    M|Atividades Profis...|\n",
            "|    N|Atividades Admini...|\n",
            "|    O|Administracao Pub...|\n",
            "|    P|            Educacao|\n",
            "|    Q|Saude Humana e Se...|\n",
            "|    R|Artes, Cultura, E...|\n",
            "|    S|Outras Atividades...|\n",
            "|    T| Servicos Domesticos|\n",
            "+-----+--------------------+\n",
            "only showing top 20 rows\n",
            "\n"
          ]
        }
      ]
    },
    {
      "cell_type": "markdown",
      "source": [
        "### Dimensão Motivo de movimentação (admissão ou demissão)"
      ],
      "metadata": {
        "id": "Ny4MngkYelbV"
      }
    },
    {
      "cell_type": "code",
      "source": [
        "dim_motivo = spark.read.csv(\"gs://bucket_caged/dimensoes/dim_motivo/dim_motivo.csv\", header=False, inferSchema=True, sep=\";\")\n",
        "dim_motivo = dim_motivo.toDF(\"tipomovimentacao\", \"descricao_motivo\")\n",
        "dim_motivo.createOrReplaceTempView(\"dim_motivo\")\n",
        "dim_motivo.show()"
      ],
      "metadata": {
        "id": "T54FY51bdpm4",
        "colab": {
          "base_uri": "https://localhost:8080/"
        },
        "outputId": "81189a83-8f28-490f-c6c8-d7c86946ad7f"
      },
      "execution_count": 10,
      "outputs": [
        {
          "output_type": "stream",
          "name": "stdout",
          "text": [
            "+----------------+--------------------+\n",
            "|tipomovimentacao|    descricao_motivo|\n",
            "+----------------+--------------------+\n",
            "|              97|Admissao de Tipo ...|\n",
            "|              25|Admissao por cont...|\n",
            "|              10|Admissao por prim...|\n",
            "|              20|Admissao por reem...|\n",
            "|              35|Admissao por rein...|\n",
            "|              70|Admissao por tran...|\n",
            "|              33|     Culpa Reciproca|\n",
            "|              40|Desligamento a pe...|\n",
            "|              98|Desligamento de T...|\n",
            "|              90|Desligamento por ...|\n",
            "|              50|Desligamento por ...|\n",
            "|              32|Desligamento por ...|\n",
            "|              31|Desligamento por ...|\n",
            "|              60|Desligamento por ...|\n",
            "|              45|Desligamento por ...|\n",
            "|              80|Desligamento por ...|\n",
            "|              99|    Nao Identificado|\n",
            "|              43|Termino contrato ...|\n",
            "+----------------+--------------------+\n",
            "\n"
          ]
        }
      ]
    },
    {
      "cell_type": "markdown",
      "source": [
        "### Dimensão Grau de instrução"
      ],
      "metadata": {
        "id": "mK6T3MRYer1w"
      }
    },
    {
      "cell_type": "code",
      "source": [
        "dim_graudeinstrucao = spark.read.csv(\"gs://bucket_caged/dimensoes/dim_graudeinstrucao/dim_graudeinstrucao.csv\", header=False, inferSchema=True, sep=\";\")\n",
        "dim_graudeinstrucao = dim_graudeinstrucao.toDF(\"graudeinstrucao\", \"descricao_instrucao\")\n",
        "dim_graudeinstrucao.createOrReplaceTempView(\"dim_graudeinstrucao\")\n",
        "dim_graudeinstrucao.show()"
      ],
      "metadata": {
        "id": "OXhHUusWdzRF",
        "colab": {
          "base_uri": "https://localhost:8080/"
        },
        "outputId": "468c06f3-2a43-4ed0-fd42-d12a5da034d5"
      },
      "execution_count": 11,
      "outputs": [
        {
          "output_type": "stream",
          "name": "stdout",
          "text": [
            "+---------------+--------------------+\n",
            "|graudeinstrucao| descricao_instrucao|\n",
            "+---------------+--------------------+\n",
            "|              1|          Analfabeto|\n",
            "|              2|   Ate 5a Incompleto|\n",
            "|              3|5a Completo Funda...|\n",
            "|              4| 6a a 9a Fundamental|\n",
            "|              5|Fundamental Completo|\n",
            "|              6|    Medio Incompleto|\n",
            "|              7|      Medio Completo|\n",
            "|              8| Superior Incompleto|\n",
            "|              9|   Superior Completo|\n",
            "|             10|            Mestrado|\n",
            "|             11|           Doutorado|\n",
            "|             80|Pos-Graduacao Com...|\n",
            "|             99|    Nao Identificado|\n",
            "+---------------+--------------------+\n",
            "\n"
          ]
        }
      ]
    },
    {
      "cell_type": "markdown",
      "source": [
        "### Dimensão CBO (Classificação Brasileira de Ocupações)"
      ],
      "metadata": {
        "id": "736UvnXCewSJ"
      }
    },
    {
      "cell_type": "code",
      "source": [
        "dim_cbo = spark.read.csv(\"gs://bucket_caged/dimensoes/dim_cbo/dim_cbo.csv\", header=False, inferSchema=True, sep=\";\")\n",
        "dim_cbo = dim_cbo.toDF(\"cbo\", \"descricao_cbo\")\n",
        "dim_cbo.createOrReplaceTempView(\"dim_cbo\")\n",
        "dim_cbo.show()"
      ],
      "metadata": {
        "id": "NyoxFznbd7BQ",
        "colab": {
          "base_uri": "https://localhost:8080/"
        },
        "outputId": "bda94d3a-c1ef-494a-b3e2-fb598cc9bafb"
      },
      "execution_count": 12,
      "outputs": [
        {
          "output_type": "stream",
          "name": "stdout",
          "text": [
            "+-----+--------------------+\n",
            "|  cbo|       descricao_cbo|\n",
            "+-----+--------------------+\n",
            "|10105|Oficial General d...|\n",
            "|10110|Oficial General d...|\n",
            "|10115|Oficial General d...|\n",
            "|10205|Oficial da Aerona...|\n",
            "|10210| Oficial do Exercito|\n",
            "|10215|  Oficial da Marinha|\n",
            "|10305|Praca da Aeronautica|\n",
            "|10310|   Praca do Exercito|\n",
            "|10315|    Praca da Marinha|\n",
            "|20105|Coronel da Polici...|\n",
            "|20110|Tenente-Coronel d...|\n",
            "|20115|Major da Policia ...|\n",
            "|20205|Capitao da Polici...|\n",
            "|20305|Primeiro Tenente ...|\n",
            "|20310|Segundo Tenente d...|\n",
            "|21105|Subtenente da Pol...|\n",
            "|21110|Sargento da Polic...|\n",
            "|21205|Cabo da Policia M...|\n",
            "|21210|Soldado da Polici...|\n",
            "|30105|Coronel Bombeiro ...|\n",
            "+-----+--------------------+\n",
            "only showing top 20 rows\n",
            "\n"
          ]
        }
      ]
    },
    {
      "cell_type": "markdown",
      "source": [
        "## Lista de todas as tabelas temporárias"
      ],
      "metadata": {
        "id": "AUDDs7eYezzY"
      }
    },
    {
      "cell_type": "code",
      "source": [
        "spark.sql(\"SHOW TABLES\").show()"
      ],
      "metadata": {
        "id": "vLAILOkdeCu7",
        "colab": {
          "base_uri": "https://localhost:8080/"
        },
        "outputId": "0701ae51-5667-48d6-bfe6-80c812e4496e"
      },
      "execution_count": 13,
      "outputs": [
        {
          "output_type": "stream",
          "name": "stdout",
          "text": [
            "+---------+-------------------+-----------+\n",
            "|namespace|          tableName|isTemporary|\n",
            "+---------+-------------------+-----------+\n",
            "|         |            dim_cbo|       true|\n",
            "|         |dim_graudeinstrucao|       true|\n",
            "|         |         dim_motivo|       true|\n",
            "|         |         dim_regiao|       true|\n",
            "|         |          dim_secao|       true|\n",
            "|         |             dim_uf|       true|\n",
            "|         |         fato_caged|       true|\n",
            "+---------+-------------------+-----------+\n",
            "\n"
          ]
        }
      ]
    },
    {
      "cell_type": "markdown",
      "source": [
        "# Perguntas"
      ],
      "metadata": {
        "id": "J9CJ2K_jfEn8"
      }
    },
    {
      "cell_type": "markdown",
      "source": [
        "## 1. Quantas admissões e desligamentos ocorreram em cada ano?"
      ],
      "metadata": {
        "id": "73LEcTpefJ3o"
      }
    },
    {
      "cell_type": "code",
      "source": [
        "q1 = spark.sql(\n",
        "\"\"\"SELECT\n",
        "    f.ano_dec,\n",
        "    m.descricao_motivo,\n",
        "    COUNT(*) AS qtd_mov\n",
        "FROM fato_caged f\n",
        "LEFT JOIN dim_motivo m\n",
        "    ON f.tipomovimentacao = m.tipomovimentacao\n",
        "GROUP BY f.ano_dec, m.tipomovimentacao, m.descricao_motivo\n",
        "ORDER BY f.ano_dec, qtd_mov DESC;\"\"\")"
      ],
      "metadata": {
        "id": "zhPZ3I7zeODO"
      },
      "execution_count": 14,
      "outputs": []
    },
    {
      "cell_type": "code",
      "source": [
        "q1.explain()"
      ],
      "metadata": {
        "id": "cYBEmkRbfccn",
        "colab": {
          "base_uri": "https://localhost:8080/"
        },
        "outputId": "35f19928-d3a0-431b-9cb2-bfe077046fcf"
      },
      "execution_count": 15,
      "outputs": [
        {
          "output_type": "stream",
          "name": "stdout",
          "text": [
            "== Physical Plan ==\n",
            "AdaptiveSparkPlan isFinalPlan=false\n",
            "+- Sort [ano_dec#33 ASC NULLS FIRST, qtd_mov#469L DESC NULLS LAST], true, 0\n",
            "   +- Exchange rangepartitioning(ano_dec#33 ASC NULLS FIRST, qtd_mov#469L DESC NULLS LAST, 200), ENSURE_REQUIREMENTS, [plan_id=270]\n",
            "      +- HashAggregate(keys=[ano_dec#33, tipomovimentacao#350, descricao_motivo#351], functions=[count(1)])\n",
            "         +- Exchange hashpartitioning(ano_dec#33, tipomovimentacao#350, descricao_motivo#351, 200), ENSURE_REQUIREMENTS, [plan_id=267]\n",
            "            +- HashAggregate(keys=[ano_dec#33, tipomovimentacao#350, descricao_motivo#351], functions=[partial_count(1)])\n",
            "               +- Project [ano_dec#33, tipomovimentacao#350, descricao_motivo#351]\n",
            "                  +- BroadcastHashJoin [tipomovimentacao#16L], [cast(tipomovimentacao#350 as bigint)], LeftOuter, BuildRight, false\n",
            "                     :- Project [tipomovimentacao#16L, ano_dec#33]\n",
            "                     :  +- FileScan parquet [tipomovimentacao#16L,ano_dec#33,competenciadec#34,origem_declaracao#35] Batched: true, DataFilters: [], Format: Parquet, Location: InMemoryFileIndex(1 paths)[gs://bucket_caged/caged_unificado], PartitionFilters: [], PushedFilters: [], ReadSchema: struct<tipomovimentacao:bigint>\n",
            "                     +- BroadcastExchange HashedRelationBroadcastMode(List(cast(input[0, int, true] as bigint)),false), [plan_id=262]\n",
            "                        +- Project [_c0#346 AS tipomovimentacao#350, _c1#347 AS descricao_motivo#351]\n",
            "                           +- Filter isnotnull(_c0#346)\n",
            "                              +- FileScan csv [_c0#346,_c1#347] Batched: false, DataFilters: [isnotnull(_c0#346)], Format: CSV, Location: InMemoryFileIndex(1 paths)[gs://bucket_caged/dimensoes/dim_motivo/dim_motivo.csv], PartitionFilters: [], PushedFilters: [IsNotNull(_c0)], ReadSchema: struct<_c0:int,_c1:string>\n",
            "\n",
            "\n"
          ]
        }
      ]
    },
    {
      "cell_type": "code",
      "source": [
        "q1.show()"
      ],
      "metadata": {
        "id": "WRs2bX3Vfnhm",
        "colab": {
          "base_uri": "https://localhost:8080/"
        },
        "outputId": "55a6eb54-d4e0-43ff-a050-0036af5ce828"
      },
      "execution_count": 16,
      "outputs": [
        {
          "output_type": "stream",
          "name": "stdout",
          "text": [
            "+-------+--------------------+--------+\n",
            "|ano_dec|    descricao_motivo| qtd_mov|\n",
            "+-------+--------------------+--------+\n",
            "|   NULL|                NULL|      10|\n",
            "|   NULL|Admissao de Tipo ...|       3|\n",
            "|   NULL|Termino contrato ...|       1|\n",
            "|   2020|Admissao por reem...|26503963|\n",
            "|   2020|Desligamento por ...|16183592|\n",
            "|   2020|Desligamento a pe...| 6765867|\n",
            "|   2020|Termino contrato ...| 4311273|\n",
            "|   2020|Admissao por prim...| 1934321|\n",
            "|   2020|Desligamento por ...|  432908|\n",
            "|   2020|Desligamento por ...|  361950|\n",
            "|   2020|Desligamento por ...|  336268|\n",
            "|   2020|Admissao por cont...|  140482|\n",
            "|   2020|Desligamento por ...|  116744|\n",
            "|   2020|     Culpa Reciproca|   40501|\n",
            "|   2020|Admissao por rein...|   29080|\n",
            "|   2020|Desligamento por ...|   26393|\n",
            "|   2020|Desligamento de T...|    1251|\n",
            "|   2021|Admissao por reem...| 6467287|\n",
            "|   2021|Admissao de Tipo ...| 6076270|\n",
            "|   2021|Desligamento por ...| 5643787|\n",
            "+-------+--------------------+--------+\n",
            "only showing top 20 rows\n",
            "\n"
          ]
        }
      ]
    },
    {
      "cell_type": "code",
      "source": [
        "pandas_q1 = q1.toPandas()"
      ],
      "metadata": {
        "id": "Ai-tULt5m6Nx"
      },
      "execution_count": 17,
      "outputs": []
    },
    {
      "cell_type": "code",
      "source": [
        "pandas_q1.head()"
      ],
      "metadata": {
        "id": "Qp5qePtQnnjB",
        "colab": {
          "base_uri": "https://localhost:8080/",
          "height": 206
        },
        "outputId": "5e26762d-5e61-46df-bee4-9053fd0f47c2"
      },
      "execution_count": 18,
      "outputs": [
        {
          "output_type": "execute_result",
          "data": {
            "text/plain": [
              "   ano_dec                             descricao_motivo   qtd_mov\n",
              "0      NaN                                         None        10\n",
              "1      NaN                    Admissao de Tipo Ignorado         3\n",
              "2      NaN  Termino contrato trabalho prazo determinado         1\n",
              "3   2020.0                       Admissao por reemprego  26503963\n",
              "4   2020.0    Desligamento por demissao sem justa causa  16183592"
            ],
            "text/html": [
              "\n",
              "  <div id=\"df-e830553f-e405-4f72-be1f-c38a8bf4bea8\" class=\"colab-df-container\">\n",
              "    <div>\n",
              "<style scoped>\n",
              "    .dataframe tbody tr th:only-of-type {\n",
              "        vertical-align: middle;\n",
              "    }\n",
              "\n",
              "    .dataframe tbody tr th {\n",
              "        vertical-align: top;\n",
              "    }\n",
              "\n",
              "    .dataframe thead th {\n",
              "        text-align: right;\n",
              "    }\n",
              "</style>\n",
              "<table border=\"1\" class=\"dataframe\">\n",
              "  <thead>\n",
              "    <tr style=\"text-align: right;\">\n",
              "      <th></th>\n",
              "      <th>ano_dec</th>\n",
              "      <th>descricao_motivo</th>\n",
              "      <th>qtd_mov</th>\n",
              "    </tr>\n",
              "  </thead>\n",
              "  <tbody>\n",
              "    <tr>\n",
              "      <th>0</th>\n",
              "      <td>NaN</td>\n",
              "      <td>None</td>\n",
              "      <td>10</td>\n",
              "    </tr>\n",
              "    <tr>\n",
              "      <th>1</th>\n",
              "      <td>NaN</td>\n",
              "      <td>Admissao de Tipo Ignorado</td>\n",
              "      <td>3</td>\n",
              "    </tr>\n",
              "    <tr>\n",
              "      <th>2</th>\n",
              "      <td>NaN</td>\n",
              "      <td>Termino contrato trabalho prazo determinado</td>\n",
              "      <td>1</td>\n",
              "    </tr>\n",
              "    <tr>\n",
              "      <th>3</th>\n",
              "      <td>2020.0</td>\n",
              "      <td>Admissao por reemprego</td>\n",
              "      <td>26503963</td>\n",
              "    </tr>\n",
              "    <tr>\n",
              "      <th>4</th>\n",
              "      <td>2020.0</td>\n",
              "      <td>Desligamento por demissao sem justa causa</td>\n",
              "      <td>16183592</td>\n",
              "    </tr>\n",
              "  </tbody>\n",
              "</table>\n",
              "</div>\n",
              "    <div class=\"colab-df-buttons\">\n",
              "\n",
              "  <div class=\"colab-df-container\">\n",
              "    <button class=\"colab-df-convert\" onclick=\"convertToInteractive('df-e830553f-e405-4f72-be1f-c38a8bf4bea8')\"\n",
              "            title=\"Convert this dataframe to an interactive table.\"\n",
              "            style=\"display:none;\">\n",
              "\n",
              "  <svg xmlns=\"http://www.w3.org/2000/svg\" height=\"24px\" viewBox=\"0 -960 960 960\">\n",
              "    <path d=\"M120-120v-720h720v720H120Zm60-500h600v-160H180v160Zm220 220h160v-160H400v160Zm0 220h160v-160H400v160ZM180-400h160v-160H180v160Zm440 0h160v-160H620v160ZM180-180h160v-160H180v160Zm440 0h160v-160H620v160Z\"/>\n",
              "  </svg>\n",
              "    </button>\n",
              "\n",
              "  <style>\n",
              "    .colab-df-container {\n",
              "      display:flex;\n",
              "      gap: 12px;\n",
              "    }\n",
              "\n",
              "    .colab-df-convert {\n",
              "      background-color: #E8F0FE;\n",
              "      border: none;\n",
              "      border-radius: 50%;\n",
              "      cursor: pointer;\n",
              "      display: none;\n",
              "      fill: #1967D2;\n",
              "      height: 32px;\n",
              "      padding: 0 0 0 0;\n",
              "      width: 32px;\n",
              "    }\n",
              "\n",
              "    .colab-df-convert:hover {\n",
              "      background-color: #E2EBFA;\n",
              "      box-shadow: 0px 1px 2px rgba(60, 64, 67, 0.3), 0px 1px 3px 1px rgba(60, 64, 67, 0.15);\n",
              "      fill: #174EA6;\n",
              "    }\n",
              "\n",
              "    .colab-df-buttons div {\n",
              "      margin-bottom: 4px;\n",
              "    }\n",
              "\n",
              "    [theme=dark] .colab-df-convert {\n",
              "      background-color: #3B4455;\n",
              "      fill: #D2E3FC;\n",
              "    }\n",
              "\n",
              "    [theme=dark] .colab-df-convert:hover {\n",
              "      background-color: #434B5C;\n",
              "      box-shadow: 0px 1px 3px 1px rgba(0, 0, 0, 0.15);\n",
              "      filter: drop-shadow(0px 1px 2px rgba(0, 0, 0, 0.3));\n",
              "      fill: #FFFFFF;\n",
              "    }\n",
              "  </style>\n",
              "\n",
              "    <script>\n",
              "      const buttonEl =\n",
              "        document.querySelector('#df-e830553f-e405-4f72-be1f-c38a8bf4bea8 button.colab-df-convert');\n",
              "      buttonEl.style.display =\n",
              "        google.colab.kernel.accessAllowed ? 'block' : 'none';\n",
              "\n",
              "      async function convertToInteractive(key) {\n",
              "        const element = document.querySelector('#df-e830553f-e405-4f72-be1f-c38a8bf4bea8');\n",
              "        const dataTable =\n",
              "          await google.colab.kernel.invokeFunction('convertToInteractive',\n",
              "                                                    [key], {});\n",
              "        if (!dataTable) return;\n",
              "\n",
              "        const docLinkHtml = 'Like what you see? Visit the ' +\n",
              "          '<a target=\"_blank\" href=https://colab.research.google.com/notebooks/data_table.ipynb>data table notebook</a>'\n",
              "          + ' to learn more about interactive tables.';\n",
              "        element.innerHTML = '';\n",
              "        dataTable['output_type'] = 'display_data';\n",
              "        await google.colab.output.renderOutput(dataTable, element);\n",
              "        const docLink = document.createElement('div');\n",
              "        docLink.innerHTML = docLinkHtml;\n",
              "        element.appendChild(docLink);\n",
              "      }\n",
              "    </script>\n",
              "  </div>\n",
              "\n",
              "\n",
              "    <div id=\"df-a9d8324a-eef5-445e-b23b-ddaff259d0af\">\n",
              "      <button class=\"colab-df-quickchart\" onclick=\"quickchart('df-a9d8324a-eef5-445e-b23b-ddaff259d0af')\"\n",
              "                title=\"Suggest charts\"\n",
              "                style=\"display:none;\">\n",
              "\n",
              "<svg xmlns=\"http://www.w3.org/2000/svg\" height=\"24px\"viewBox=\"0 0 24 24\"\n",
              "     width=\"24px\">\n",
              "    <g>\n",
              "        <path d=\"M19 3H5c-1.1 0-2 .9-2 2v14c0 1.1.9 2 2 2h14c1.1 0 2-.9 2-2V5c0-1.1-.9-2-2-2zM9 17H7v-7h2v7zm4 0h-2V7h2v10zm4 0h-2v-4h2v4z\"/>\n",
              "    </g>\n",
              "</svg>\n",
              "      </button>\n",
              "\n",
              "<style>\n",
              "  .colab-df-quickchart {\n",
              "      --bg-color: #E8F0FE;\n",
              "      --fill-color: #1967D2;\n",
              "      --hover-bg-color: #E2EBFA;\n",
              "      --hover-fill-color: #174EA6;\n",
              "      --disabled-fill-color: #AAA;\n",
              "      --disabled-bg-color: #DDD;\n",
              "  }\n",
              "\n",
              "  [theme=dark] .colab-df-quickchart {\n",
              "      --bg-color: #3B4455;\n",
              "      --fill-color: #D2E3FC;\n",
              "      --hover-bg-color: #434B5C;\n",
              "      --hover-fill-color: #FFFFFF;\n",
              "      --disabled-bg-color: #3B4455;\n",
              "      --disabled-fill-color: #666;\n",
              "  }\n",
              "\n",
              "  .colab-df-quickchart {\n",
              "    background-color: var(--bg-color);\n",
              "    border: none;\n",
              "    border-radius: 50%;\n",
              "    cursor: pointer;\n",
              "    display: none;\n",
              "    fill: var(--fill-color);\n",
              "    height: 32px;\n",
              "    padding: 0;\n",
              "    width: 32px;\n",
              "  }\n",
              "\n",
              "  .colab-df-quickchart:hover {\n",
              "    background-color: var(--hover-bg-color);\n",
              "    box-shadow: 0 1px 2px rgba(60, 64, 67, 0.3), 0 1px 3px 1px rgba(60, 64, 67, 0.15);\n",
              "    fill: var(--button-hover-fill-color);\n",
              "  }\n",
              "\n",
              "  .colab-df-quickchart-complete:disabled,\n",
              "  .colab-df-quickchart-complete:disabled:hover {\n",
              "    background-color: var(--disabled-bg-color);\n",
              "    fill: var(--disabled-fill-color);\n",
              "    box-shadow: none;\n",
              "  }\n",
              "\n",
              "  .colab-df-spinner {\n",
              "    border: 2px solid var(--fill-color);\n",
              "    border-color: transparent;\n",
              "    border-bottom-color: var(--fill-color);\n",
              "    animation:\n",
              "      spin 1s steps(1) infinite;\n",
              "  }\n",
              "\n",
              "  @keyframes spin {\n",
              "    0% {\n",
              "      border-color: transparent;\n",
              "      border-bottom-color: var(--fill-color);\n",
              "      border-left-color: var(--fill-color);\n",
              "    }\n",
              "    20% {\n",
              "      border-color: transparent;\n",
              "      border-left-color: var(--fill-color);\n",
              "      border-top-color: var(--fill-color);\n",
              "    }\n",
              "    30% {\n",
              "      border-color: transparent;\n",
              "      border-left-color: var(--fill-color);\n",
              "      border-top-color: var(--fill-color);\n",
              "      border-right-color: var(--fill-color);\n",
              "    }\n",
              "    40% {\n",
              "      border-color: transparent;\n",
              "      border-right-color: var(--fill-color);\n",
              "      border-top-color: var(--fill-color);\n",
              "    }\n",
              "    60% {\n",
              "      border-color: transparent;\n",
              "      border-right-color: var(--fill-color);\n",
              "    }\n",
              "    80% {\n",
              "      border-color: transparent;\n",
              "      border-right-color: var(--fill-color);\n",
              "      border-bottom-color: var(--fill-color);\n",
              "    }\n",
              "    90% {\n",
              "      border-color: transparent;\n",
              "      border-bottom-color: var(--fill-color);\n",
              "    }\n",
              "  }\n",
              "</style>\n",
              "\n",
              "      <script>\n",
              "        async function quickchart(key) {\n",
              "          const quickchartButtonEl =\n",
              "            document.querySelector('#' + key + ' button');\n",
              "          quickchartButtonEl.disabled = true;  // To prevent multiple clicks.\n",
              "          quickchartButtonEl.classList.add('colab-df-spinner');\n",
              "          try {\n",
              "            const charts = await google.colab.kernel.invokeFunction(\n",
              "                'suggestCharts', [key], {});\n",
              "          } catch (error) {\n",
              "            console.error('Error during call to suggestCharts:', error);\n",
              "          }\n",
              "          quickchartButtonEl.classList.remove('colab-df-spinner');\n",
              "          quickchartButtonEl.classList.add('colab-df-quickchart-complete');\n",
              "        }\n",
              "        (() => {\n",
              "          let quickchartButtonEl =\n",
              "            document.querySelector('#df-a9d8324a-eef5-445e-b23b-ddaff259d0af button');\n",
              "          quickchartButtonEl.style.display =\n",
              "            google.colab.kernel.accessAllowed ? 'block' : 'none';\n",
              "        })();\n",
              "      </script>\n",
              "    </div>\n",
              "\n",
              "    </div>\n",
              "  </div>\n"
            ],
            "application/vnd.google.colaboratory.intrinsic+json": {
              "type": "dataframe",
              "variable_name": "pandas_q1",
              "summary": "{\n  \"name\": \"pandas_q1\",\n  \"rows\": 84,\n  \"fields\": [\n    {\n      \"column\": \"ano_dec\",\n      \"properties\": {\n        \"dtype\": \"number\",\n        \"std\": 1.658312395177699,\n        \"min\": 2020.0,\n        \"max\": 2025.0,\n        \"num_unique_values\": 6,\n        \"samples\": [\n          2020.0,\n          2021.0,\n          2025.0\n        ],\n        \"semantic_type\": \"\",\n        \"description\": \"\"\n      }\n    },\n    {\n      \"column\": \"descricao_motivo\",\n      \"properties\": {\n        \"dtype\": \"category\",\n        \"num_unique_values\": 15,\n        \"samples\": [\n          \"Admissao por contrato trabalho prazo determinado\",\n          \"Culpa Reciproca\",\n          \"Admissao de Tipo Ignorado\"\n        ],\n        \"semantic_type\": \"\",\n        \"description\": \"\"\n      }\n    },\n    {\n      \"column\": \"qtd_mov\",\n      \"properties\": {\n        \"dtype\": \"number\",\n        \"std\": 5561098,\n        \"min\": 1,\n        \"max\": 26503963,\n        \"num_unique_values\": 84,\n        \"samples\": [\n          16251129,\n          10,\n          3032\n        ],\n        \"semantic_type\": \"\",\n        \"description\": \"\"\n      }\n    }\n  ]\n}"
            }
          },
          "metadata": {},
          "execution_count": 18
        }
      ]
    },
    {
      "cell_type": "code",
      "source": [
        "pandas_q1.dropna(inplace=True)\n",
        "pandas_q1[\"ano_dec\"] = pandas_q1[\"ano_dec\"].astype(int)"
      ],
      "metadata": {
        "id": "2xHceYhhr3Kn"
      },
      "execution_count": 19,
      "outputs": []
    },
    {
      "cell_type": "code",
      "source": [
        "pandas_q1.head()"
      ],
      "metadata": {
        "id": "PGX94v6xr6Ez",
        "colab": {
          "base_uri": "https://localhost:8080/",
          "height": 206
        },
        "outputId": "de31eb77-5f16-4002-e859-d4f94311dc54"
      },
      "execution_count": 20,
      "outputs": [
        {
          "output_type": "execute_result",
          "data": {
            "text/plain": [
              "   ano_dec                             descricao_motivo   qtd_mov\n",
              "3     2020                       Admissao por reemprego  26503963\n",
              "4     2020    Desligamento por demissao sem justa causa  16183592\n",
              "5     2020                        Desligamento a pedido   6765867\n",
              "6     2020  Termino contrato trabalho prazo determinado   4311273\n",
              "7     2020                Admissao por primeiro emprego   1934321"
            ],
            "text/html": [
              "\n",
              "  <div id=\"df-5edfc7d2-694e-453a-af43-0fbf7a2937c1\" class=\"colab-df-container\">\n",
              "    <div>\n",
              "<style scoped>\n",
              "    .dataframe tbody tr th:only-of-type {\n",
              "        vertical-align: middle;\n",
              "    }\n",
              "\n",
              "    .dataframe tbody tr th {\n",
              "        vertical-align: top;\n",
              "    }\n",
              "\n",
              "    .dataframe thead th {\n",
              "        text-align: right;\n",
              "    }\n",
              "</style>\n",
              "<table border=\"1\" class=\"dataframe\">\n",
              "  <thead>\n",
              "    <tr style=\"text-align: right;\">\n",
              "      <th></th>\n",
              "      <th>ano_dec</th>\n",
              "      <th>descricao_motivo</th>\n",
              "      <th>qtd_mov</th>\n",
              "    </tr>\n",
              "  </thead>\n",
              "  <tbody>\n",
              "    <tr>\n",
              "      <th>3</th>\n",
              "      <td>2020</td>\n",
              "      <td>Admissao por reemprego</td>\n",
              "      <td>26503963</td>\n",
              "    </tr>\n",
              "    <tr>\n",
              "      <th>4</th>\n",
              "      <td>2020</td>\n",
              "      <td>Desligamento por demissao sem justa causa</td>\n",
              "      <td>16183592</td>\n",
              "    </tr>\n",
              "    <tr>\n",
              "      <th>5</th>\n",
              "      <td>2020</td>\n",
              "      <td>Desligamento a pedido</td>\n",
              "      <td>6765867</td>\n",
              "    </tr>\n",
              "    <tr>\n",
              "      <th>6</th>\n",
              "      <td>2020</td>\n",
              "      <td>Termino contrato trabalho prazo determinado</td>\n",
              "      <td>4311273</td>\n",
              "    </tr>\n",
              "    <tr>\n",
              "      <th>7</th>\n",
              "      <td>2020</td>\n",
              "      <td>Admissao por primeiro emprego</td>\n",
              "      <td>1934321</td>\n",
              "    </tr>\n",
              "  </tbody>\n",
              "</table>\n",
              "</div>\n",
              "    <div class=\"colab-df-buttons\">\n",
              "\n",
              "  <div class=\"colab-df-container\">\n",
              "    <button class=\"colab-df-convert\" onclick=\"convertToInteractive('df-5edfc7d2-694e-453a-af43-0fbf7a2937c1')\"\n",
              "            title=\"Convert this dataframe to an interactive table.\"\n",
              "            style=\"display:none;\">\n",
              "\n",
              "  <svg xmlns=\"http://www.w3.org/2000/svg\" height=\"24px\" viewBox=\"0 -960 960 960\">\n",
              "    <path d=\"M120-120v-720h720v720H120Zm60-500h600v-160H180v160Zm220 220h160v-160H400v160Zm0 220h160v-160H400v160ZM180-400h160v-160H180v160Zm440 0h160v-160H620v160ZM180-180h160v-160H180v160Zm440 0h160v-160H620v160Z\"/>\n",
              "  </svg>\n",
              "    </button>\n",
              "\n",
              "  <style>\n",
              "    .colab-df-container {\n",
              "      display:flex;\n",
              "      gap: 12px;\n",
              "    }\n",
              "\n",
              "    .colab-df-convert {\n",
              "      background-color: #E8F0FE;\n",
              "      border: none;\n",
              "      border-radius: 50%;\n",
              "      cursor: pointer;\n",
              "      display: none;\n",
              "      fill: #1967D2;\n",
              "      height: 32px;\n",
              "      padding: 0 0 0 0;\n",
              "      width: 32px;\n",
              "    }\n",
              "\n",
              "    .colab-df-convert:hover {\n",
              "      background-color: #E2EBFA;\n",
              "      box-shadow: 0px 1px 2px rgba(60, 64, 67, 0.3), 0px 1px 3px 1px rgba(60, 64, 67, 0.15);\n",
              "      fill: #174EA6;\n",
              "    }\n",
              "\n",
              "    .colab-df-buttons div {\n",
              "      margin-bottom: 4px;\n",
              "    }\n",
              "\n",
              "    [theme=dark] .colab-df-convert {\n",
              "      background-color: #3B4455;\n",
              "      fill: #D2E3FC;\n",
              "    }\n",
              "\n",
              "    [theme=dark] .colab-df-convert:hover {\n",
              "      background-color: #434B5C;\n",
              "      box-shadow: 0px 1px 3px 1px rgba(0, 0, 0, 0.15);\n",
              "      filter: drop-shadow(0px 1px 2px rgba(0, 0, 0, 0.3));\n",
              "      fill: #FFFFFF;\n",
              "    }\n",
              "  </style>\n",
              "\n",
              "    <script>\n",
              "      const buttonEl =\n",
              "        document.querySelector('#df-5edfc7d2-694e-453a-af43-0fbf7a2937c1 button.colab-df-convert');\n",
              "      buttonEl.style.display =\n",
              "        google.colab.kernel.accessAllowed ? 'block' : 'none';\n",
              "\n",
              "      async function convertToInteractive(key) {\n",
              "        const element = document.querySelector('#df-5edfc7d2-694e-453a-af43-0fbf7a2937c1');\n",
              "        const dataTable =\n",
              "          await google.colab.kernel.invokeFunction('convertToInteractive',\n",
              "                                                    [key], {});\n",
              "        if (!dataTable) return;\n",
              "\n",
              "        const docLinkHtml = 'Like what you see? Visit the ' +\n",
              "          '<a target=\"_blank\" href=https://colab.research.google.com/notebooks/data_table.ipynb>data table notebook</a>'\n",
              "          + ' to learn more about interactive tables.';\n",
              "        element.innerHTML = '';\n",
              "        dataTable['output_type'] = 'display_data';\n",
              "        await google.colab.output.renderOutput(dataTable, element);\n",
              "        const docLink = document.createElement('div');\n",
              "        docLink.innerHTML = docLinkHtml;\n",
              "        element.appendChild(docLink);\n",
              "      }\n",
              "    </script>\n",
              "  </div>\n",
              "\n",
              "\n",
              "    <div id=\"df-ce74405a-9fbc-4488-b820-cc5f79a02ea4\">\n",
              "      <button class=\"colab-df-quickchart\" onclick=\"quickchart('df-ce74405a-9fbc-4488-b820-cc5f79a02ea4')\"\n",
              "                title=\"Suggest charts\"\n",
              "                style=\"display:none;\">\n",
              "\n",
              "<svg xmlns=\"http://www.w3.org/2000/svg\" height=\"24px\"viewBox=\"0 0 24 24\"\n",
              "     width=\"24px\">\n",
              "    <g>\n",
              "        <path d=\"M19 3H5c-1.1 0-2 .9-2 2v14c0 1.1.9 2 2 2h14c1.1 0 2-.9 2-2V5c0-1.1-.9-2-2-2zM9 17H7v-7h2v7zm4 0h-2V7h2v10zm4 0h-2v-4h2v4z\"/>\n",
              "    </g>\n",
              "</svg>\n",
              "      </button>\n",
              "\n",
              "<style>\n",
              "  .colab-df-quickchart {\n",
              "      --bg-color: #E8F0FE;\n",
              "      --fill-color: #1967D2;\n",
              "      --hover-bg-color: #E2EBFA;\n",
              "      --hover-fill-color: #174EA6;\n",
              "      --disabled-fill-color: #AAA;\n",
              "      --disabled-bg-color: #DDD;\n",
              "  }\n",
              "\n",
              "  [theme=dark] .colab-df-quickchart {\n",
              "      --bg-color: #3B4455;\n",
              "      --fill-color: #D2E3FC;\n",
              "      --hover-bg-color: #434B5C;\n",
              "      --hover-fill-color: #FFFFFF;\n",
              "      --disabled-bg-color: #3B4455;\n",
              "      --disabled-fill-color: #666;\n",
              "  }\n",
              "\n",
              "  .colab-df-quickchart {\n",
              "    background-color: var(--bg-color);\n",
              "    border: none;\n",
              "    border-radius: 50%;\n",
              "    cursor: pointer;\n",
              "    display: none;\n",
              "    fill: var(--fill-color);\n",
              "    height: 32px;\n",
              "    padding: 0;\n",
              "    width: 32px;\n",
              "  }\n",
              "\n",
              "  .colab-df-quickchart:hover {\n",
              "    background-color: var(--hover-bg-color);\n",
              "    box-shadow: 0 1px 2px rgba(60, 64, 67, 0.3), 0 1px 3px 1px rgba(60, 64, 67, 0.15);\n",
              "    fill: var(--button-hover-fill-color);\n",
              "  }\n",
              "\n",
              "  .colab-df-quickchart-complete:disabled,\n",
              "  .colab-df-quickchart-complete:disabled:hover {\n",
              "    background-color: var(--disabled-bg-color);\n",
              "    fill: var(--disabled-fill-color);\n",
              "    box-shadow: none;\n",
              "  }\n",
              "\n",
              "  .colab-df-spinner {\n",
              "    border: 2px solid var(--fill-color);\n",
              "    border-color: transparent;\n",
              "    border-bottom-color: var(--fill-color);\n",
              "    animation:\n",
              "      spin 1s steps(1) infinite;\n",
              "  }\n",
              "\n",
              "  @keyframes spin {\n",
              "    0% {\n",
              "      border-color: transparent;\n",
              "      border-bottom-color: var(--fill-color);\n",
              "      border-left-color: var(--fill-color);\n",
              "    }\n",
              "    20% {\n",
              "      border-color: transparent;\n",
              "      border-left-color: var(--fill-color);\n",
              "      border-top-color: var(--fill-color);\n",
              "    }\n",
              "    30% {\n",
              "      border-color: transparent;\n",
              "      border-left-color: var(--fill-color);\n",
              "      border-top-color: var(--fill-color);\n",
              "      border-right-color: var(--fill-color);\n",
              "    }\n",
              "    40% {\n",
              "      border-color: transparent;\n",
              "      border-right-color: var(--fill-color);\n",
              "      border-top-color: var(--fill-color);\n",
              "    }\n",
              "    60% {\n",
              "      border-color: transparent;\n",
              "      border-right-color: var(--fill-color);\n",
              "    }\n",
              "    80% {\n",
              "      border-color: transparent;\n",
              "      border-right-color: var(--fill-color);\n",
              "      border-bottom-color: var(--fill-color);\n",
              "    }\n",
              "    90% {\n",
              "      border-color: transparent;\n",
              "      border-bottom-color: var(--fill-color);\n",
              "    }\n",
              "  }\n",
              "</style>\n",
              "\n",
              "      <script>\n",
              "        async function quickchart(key) {\n",
              "          const quickchartButtonEl =\n",
              "            document.querySelector('#' + key + ' button');\n",
              "          quickchartButtonEl.disabled = true;  // To prevent multiple clicks.\n",
              "          quickchartButtonEl.classList.add('colab-df-spinner');\n",
              "          try {\n",
              "            const charts = await google.colab.kernel.invokeFunction(\n",
              "                'suggestCharts', [key], {});\n",
              "          } catch (error) {\n",
              "            console.error('Error during call to suggestCharts:', error);\n",
              "          }\n",
              "          quickchartButtonEl.classList.remove('colab-df-spinner');\n",
              "          quickchartButtonEl.classList.add('colab-df-quickchart-complete');\n",
              "        }\n",
              "        (() => {\n",
              "          let quickchartButtonEl =\n",
              "            document.querySelector('#df-ce74405a-9fbc-4488-b820-cc5f79a02ea4 button');\n",
              "          quickchartButtonEl.style.display =\n",
              "            google.colab.kernel.accessAllowed ? 'block' : 'none';\n",
              "        })();\n",
              "      </script>\n",
              "    </div>\n",
              "\n",
              "    </div>\n",
              "  </div>\n"
            ],
            "application/vnd.google.colaboratory.intrinsic+json": {
              "type": "dataframe",
              "variable_name": "pandas_q1",
              "summary": "{\n  \"name\": \"pandas_q1\",\n  \"rows\": 81,\n  \"fields\": [\n    {\n      \"column\": \"ano_dec\",\n      \"properties\": {\n        \"dtype\": \"number\",\n        \"std\": 1,\n        \"min\": 2020,\n        \"max\": 2025,\n        \"num_unique_values\": 6,\n        \"samples\": [\n          2020,\n          2021,\n          2025\n        ],\n        \"semantic_type\": \"\",\n        \"description\": \"\"\n      }\n    },\n    {\n      \"column\": \"descricao_motivo\",\n      \"properties\": {\n        \"dtype\": \"category\",\n        \"num_unique_values\": 15,\n        \"samples\": [\n          \"Desligamento por morte\",\n          \"Admissao por reintegracao\",\n          \"Admissao por reemprego\"\n        ],\n        \"semantic_type\": \"\",\n        \"description\": \"\"\n      }\n    },\n    {\n      \"column\": \"qtd_mov\",\n      \"properties\": {\n        \"dtype\": \"number\",\n        \"std\": 5638193,\n        \"min\": 359,\n        \"max\": 26503963,\n        \"num_unique_values\": 81,\n        \"samples\": [\n          7075532,\n          26503963,\n          65813\n        ],\n        \"semantic_type\": \"\",\n        \"description\": \"\"\n      }\n    }\n  ]\n}"
            }
          },
          "metadata": {},
          "execution_count": 20
        }
      ]
    },
    {
      "cell_type": "code",
      "source": [
        "plt.figure(figsize=(14, 6))\n",
        "g = sns.barplot(data=pandas_q1, x=\"ano_dec\", y=\"qtd_mov\", hue=\"descricao_motivo\", palette=\"rocket\")\n",
        "\n",
        "plt.title(\"Quantidade de Movimentações por Ano e Motivo\")\n",
        "\n",
        "plt.xlabel(\"Ano da Declaração\", fontsize=12)\n",
        "plt.ylabel(\"Quantidade de Movimentações\", fontsize=12)\n",
        "\n",
        "ax = plt.gca()\n",
        "formatter = ScalarFormatter()\n",
        "formatter.set_scientific(False)\n",
        "formatter.set_useOffset(False)\n",
        "ax.yaxis.set_major_formatter(formatter)\n",
        "\n",
        "g.legend_.set_bbox_to_anchor((1, 1))\n",
        "g.legend_.set_title(\"Motivo\")\n",
        "plt.tight_layout()\n",
        "plt.show()"
      ],
      "metadata": {
        "id": "0HAQveYOnzpd",
        "colab": {
          "base_uri": "https://localhost:8080/",
          "height": 597
        },
        "outputId": "79a82353-b68c-4163-d769-03a248eb96fa"
      },
      "execution_count": 21,
      "outputs": [
        {
          "output_type": "display_data",
          "data": {
            "text/plain": [
              "<Figure size 1400x600 with 1 Axes>"
            ],
            "image/png": "[encoded data removed]"
          },
          "metadata": {}
        }
      ]
    },
    {
      "cell_type": "markdown",
      "source": [
        "## 2. Qual foi o principal motivo de movimentação em cada ano?"
      ],
      "metadata": {
        "id": "iGE81reYf1W8"
      }
    },
    {
      "cell_type": "code",
      "source": [
        "q2 = spark.sql(\"\"\"\n",
        "WITH ranked AS (\n",
        "    SELECT\n",
        "        f.ano_dec,\n",
        "        m.descricao_motivo,\n",
        "        COUNT(*) AS qtd_mov,\n",
        "        ROW_NUMBER() OVER (PARTITION BY f.ano_dec ORDER BY COUNT(*) DESC) AS rn\n",
        "    FROM fato_caged f\n",
        "    LEFT JOIN dim_motivo m\n",
        "        ON f.tipomovimentacao = m.tipomovimentacao\n",
        "    GROUP BY f.ano_dec, m.descricao_motivo\n",
        ")\n",
        "SELECT ano_dec, descricao_motivo, qtd_mov\n",
        "FROM ranked\n",
        "WHERE rn = 1\n",
        "ORDER BY ano_dec;\n",
        "\"\"\")"
      ],
      "metadata": {
        "id": "G1XMbv4lfs9M"
      },
      "execution_count": 22,
      "outputs": []
    },
    {
      "cell_type": "code",
      "source": [
        "q2.show()"
      ],
      "metadata": {
        "id": "ptTj-WUBiECt",
        "colab": {
          "base_uri": "https://localhost:8080/"
        },
        "outputId": "872fa7a8-e793-4e3d-f94d-079bb3b2deb3"
      },
      "execution_count": 23,
      "outputs": [
        {
          "output_type": "stream",
          "name": "stdout",
          "text": [
            "+-------+--------------------+--------+\n",
            "|ano_dec|    descricao_motivo| qtd_mov|\n",
            "+-------+--------------------+--------+\n",
            "|   NULL|                NULL|      10|\n",
            "|   2020|Admissao por reem...|26503963|\n",
            "|   2021|Admissao por reem...| 6467287|\n",
            "|   2022|Admissao de Tipo ...|16363600|\n",
            "|   2023|Admissao de Tipo ...|19319501|\n",
            "|   2024|Admissao de Tipo ...|25660394|\n",
            "|   2025|Admissao de Tipo ...|16251129|\n",
            "+-------+--------------------+--------+\n",
            "\n"
          ]
        }
      ]
    },
    {
      "cell_type": "code",
      "source": [
        "pandas_q2 = q2.toPandas()"
      ],
      "metadata": {
        "id": "9hlSNGXEpXh9"
      },
      "execution_count": 24,
      "outputs": []
    },
    {
      "cell_type": "code",
      "source": [
        "pandas_q2.head()"
      ],
      "metadata": {
        "id": "ksQ3yytlpZJV",
        "colab": {
          "base_uri": "https://localhost:8080/",
          "height": 206
        },
        "outputId": "56286410-1e89-438d-ede9-5a007a93284e"
      },
      "execution_count": 25,
      "outputs": [
        {
          "output_type": "execute_result",
          "data": {
            "text/plain": [
              "   ano_dec           descricao_motivo   qtd_mov\n",
              "0      NaN                       None        10\n",
              "1   2020.0     Admissao por reemprego  26503963\n",
              "2   2021.0     Admissao por reemprego   6467287\n",
              "3   2022.0  Admissao de Tipo Ignorado  16363600\n",
              "4   2023.0  Admissao de Tipo Ignorado  19319501"
            ],
            "text/html": [
              "\n",
              "  <div id=\"df-a770c720-bad6-4bf7-9ccb-ffe1b1e11604\" class=\"colab-df-container\">\n",
              "    <div>\n",
              "<style scoped>\n",
              "    .dataframe tbody tr th:only-of-type {\n",
              "        vertical-align: middle;\n",
              "    }\n",
              "\n",
              "    .dataframe tbody tr th {\n",
              "        vertical-align: top;\n",
              "    }\n",
              "\n",
              "    .dataframe thead th {\n",
              "        text-align: right;\n",
              "    }\n",
              "</style>\n",
              "<table border=\"1\" class=\"dataframe\">\n",
              "  <thead>\n",
              "    <tr style=\"text-align: right;\">\n",
              "      <th></th>\n",
              "      <th>ano_dec</th>\n",
              "      <th>descricao_motivo</th>\n",
              "      <th>qtd_mov</th>\n",
              "    </tr>\n",
              "  </thead>\n",
              "  <tbody>\n",
              "    <tr>\n",
              "      <th>0</th>\n",
              "      <td>NaN</td>\n",
              "      <td>None</td>\n",
              "      <td>10</td>\n",
              "    </tr>\n",
              "    <tr>\n",
              "      <th>1</th>\n",
              "      <td>2020.0</td>\n",
              "      <td>Admissao por reemprego</td>\n",
              "      <td>26503963</td>\n",
              "    </tr>\n",
              "    <tr>\n",
              "      <th>2</th>\n",
              "      <td>2021.0</td>\n",
              "      <td>Admissao por reemprego</td>\n",
              "      <td>6467287</td>\n",
              "    </tr>\n",
              "    <tr>\n",
              "      <th>3</th>\n",
              "      <td>2022.0</td>\n",
              "      <td>Admissao de Tipo Ignorado</td>\n",
              "      <td>16363600</td>\n",
              "    </tr>\n",
              "    <tr>\n",
              "      <th>4</th>\n",
              "      <td>2023.0</td>\n",
              "      <td>Admissao de Tipo Ignorado</td>\n",
              "      <td>19319501</td>\n",
              "    </tr>\n",
              "  </tbody>\n",
              "</table>\n",
              "</div>\n",
              "    <div class=\"colab-df-buttons\">\n",
              "\n",
              "  <div class=\"colab-df-container\">\n",
              "    <button class=\"colab-df-convert\" onclick=\"convertToInteractive('df-a770c720-bad6-4bf7-9ccb-ffe1b1e11604')\"\n",
              "            title=\"Convert this dataframe to an interactive table.\"\n",
              "            style=\"display:none;\">\n",
              "\n",
              "  <svg xmlns=\"http://www.w3.org/2000/svg\" height=\"24px\" viewBox=\"0 -960 960 960\">\n",
              "    <path d=\"M120-120v-720h720v720H120Zm60-500h600v-160H180v160Zm220 220h160v-160H400v160Zm0 220h160v-160H400v160ZM180-400h160v-160H180v160Zm440 0h160v-160H620v160ZM180-180h160v-160H180v160Zm440 0h160v-160H620v160Z\"/>\n",
              "  </svg>\n",
              "    </button>\n",
              "\n",
              "  <style>\n",
              "    .colab-df-container {\n",
              "      display:flex;\n",
              "      gap: 12px;\n",
              "    }\n",
              "\n",
              "    .colab-df-convert {\n",
              "      background-color: #E8F0FE;\n",
              "      border: none;\n",
              "      border-radius: 50%;\n",
              "      cursor: pointer;\n",
              "      display: none;\n",
              "      fill: #1967D2;\n",
              "      height: 32px;\n",
              "      padding: 0 0 0 0;\n",
              "      width: 32px;\n",
              "    }\n",
              "\n",
              "    .colab-df-convert:hover {\n",
              "      background-color: #E2EBFA;\n",
              "      box-shadow: 0px 1px 2px rgba(60, 64, 67, 0.3), 0px 1px 3px 1px rgba(60, 64, 67, 0.15);\n",
              "      fill: #174EA6;\n",
              "    }\n",
              "\n",
              "    .colab-df-buttons div {\n",
              "      margin-bottom: 4px;\n",
              "    }\n",
              "\n",
              "    [theme=dark] .colab-df-convert {\n",
              "      background-color: #3B4455;\n",
              "      fill: #D2E3FC;\n",
              "    }\n",
              "\n",
              "    [theme=dark] .colab-df-convert:hover {\n",
              "      background-color: #434B5C;\n",
              "      box-shadow: 0px 1px 3px 1px rgba(0, 0, 0, 0.15);\n",
              "      filter: drop-shadow(0px 1px 2px rgba(0, 0, 0, 0.3));\n",
              "      fill: #FFFFFF;\n",
              "    }\n",
              "  </style>\n",
              "\n",
              "    <script>\n",
              "      const buttonEl =\n",
              "        document.querySelector('#df-a770c720-bad6-4bf7-9ccb-ffe1b1e11604 button.colab-df-convert');\n",
              "      buttonEl.style.display =\n",
              "        google.colab.kernel.accessAllowed ? 'block' : 'none';\n",
              "\n",
              "      async function convertToInteractive(key) {\n",
              "        const element = document.querySelector('#df-a770c720-bad6-4bf7-9ccb-ffe1b1e11604');\n",
              "        const dataTable =\n",
              "          await google.colab.kernel.invokeFunction('convertToInteractive',\n",
              "                                                    [key], {});\n",
              "        if (!dataTable) return;\n",
              "\n",
              "        const docLinkHtml = 'Like what you see? Visit the ' +\n",
              "          '<a target=\"_blank\" href=https://colab.research.google.com/notebooks/data_table.ipynb>data table notebook</a>'\n",
              "          + ' to learn more about interactive tables.';\n",
              "        element.innerHTML = '';\n",
              "        dataTable['output_type'] = 'display_data';\n",
              "        await google.colab.output.renderOutput(dataTable, element);\n",
              "        const docLink = document.createElement('div');\n",
              "        docLink.innerHTML = docLinkHtml;\n",
              "        element.appendChild(docLink);\n",
              "      }\n",
              "    </script>\n",
              "  </div>\n",
              "\n",
              "\n",
              "    <div id=\"df-3729cb69-57f5-4196-812a-07ce0f61c914\">\n",
              "      <button class=\"colab-df-quickchart\" onclick=\"quickchart('df-3729cb69-57f5-4196-812a-07ce0f61c914')\"\n",
              "                title=\"Suggest charts\"\n",
              "                style=\"display:none;\">\n",
              "\n",
              "<svg xmlns=\"http://www.w3.org/2000/svg\" height=\"24px\"viewBox=\"0 0 24 24\"\n",
              "     width=\"24px\">\n",
              "    <g>\n",
              "        <path d=\"M19 3H5c-1.1 0-2 .9-2 2v14c0 1.1.9 2 2 2h14c1.1 0 2-.9 2-2V5c0-1.1-.9-2-2-2zM9 17H7v-7h2v7zm4 0h-2V7h2v10zm4 0h-2v-4h2v4z\"/>\n",
              "    </g>\n",
              "</svg>\n",
              "      </button>\n",
              "\n",
              "<style>\n",
              "  .colab-df-quickchart {\n",
              "      --bg-color: #E8F0FE;\n",
              "      --fill-color: #1967D2;\n",
              "      --hover-bg-color: #E2EBFA;\n",
              "      --hover-fill-color: #174EA6;\n",
              "      --disabled-fill-color: #AAA;\n",
              "      --disabled-bg-color: #DDD;\n",
              "  }\n",
              "\n",
              "  [theme=dark] .colab-df-quickchart {\n",
              "      --bg-color: #3B4455;\n",
              "      --fill-color: #D2E3FC;\n",
              "      --hover-bg-color: #434B5C;\n",
              "      --hover-fill-color: #FFFFFF;\n",
              "      --disabled-bg-color: #3B4455;\n",
              "      --disabled-fill-color: #666;\n",
              "  }\n",
              "\n",
              "  .colab-df-quickchart {\n",
              "    background-color: var(--bg-color);\n",
              "    border: none;\n",
              "    border-radius: 50%;\n",
              "    cursor: pointer;\n",
              "    display: none;\n",
              "    fill: var(--fill-color);\n",
              "    height: 32px;\n",
              "    padding: 0;\n",
              "    width: 32px;\n",
              "  }\n",
              "\n",
              "  .colab-df-quickchart:hover {\n",
              "    background-color: var(--hover-bg-color);\n",
              "    box-shadow: 0 1px 2px rgba(60, 64, 67, 0.3), 0 1px 3px 1px rgba(60, 64, 67, 0.15);\n",
              "    fill: var(--button-hover-fill-color);\n",
              "  }\n",
              "\n",
              "  .colab-df-quickchart-complete:disabled,\n",
              "  .colab-df-quickchart-complete:disabled:hover {\n",
              "    background-color: var(--disabled-bg-color);\n",
              "    fill: var(--disabled-fill-color);\n",
              "    box-shadow: none;\n",
              "  }\n",
              "\n",
              "  .colab-df-spinner {\n",
              "    border: 2px solid var(--fill-color);\n",
              "    border-color: transparent;\n",
              "    border-bottom-color: var(--fill-color);\n",
              "    animation:\n",
              "      spin 1s steps(1) infinite;\n",
              "  }\n",
              "\n",
              "  @keyframes spin {\n",
              "    0% {\n",
              "      border-color: transparent;\n",
              "      border-bottom-color: var(--fill-color);\n",
              "      border-left-color: var(--fill-color);\n",
              "    }\n",
              "    20% {\n",
              "      border-color: transparent;\n",
              "      border-left-color: var(--fill-color);\n",
              "      border-top-color: var(--fill-color);\n",
              "    }\n",
              "    30% {\n",
              "      border-color: transparent;\n",
              "      border-left-color: var(--fill-color);\n",
              "      border-top-color: var(--fill-color);\n",
              "      border-right-color: var(--fill-color);\n",
              "    }\n",
              "    40% {\n",
              "      border-color: transparent;\n",
              "      border-right-color: var(--fill-color);\n",
              "      border-top-color: var(--fill-color);\n",
              "    }\n",
              "    60% {\n",
              "      border-color: transparent;\n",
              "      border-right-color: var(--fill-color);\n",
              "    }\n",
              "    80% {\n",
              "      border-color: transparent;\n",
              "      border-right-color: var(--fill-color);\n",
              "      border-bottom-color: var(--fill-color);\n",
              "    }\n",
              "    90% {\n",
              "      border-color: transparent;\n",
              "      border-bottom-color: var(--fill-color);\n",
              "    }\n",
              "  }\n",
              "</style>\n",
              "\n",
              "      <script>\n",
              "        async function quickchart(key) {\n",
              "          const quickchartButtonEl =\n",
              "            document.querySelector('#' + key + ' button');\n",
              "          quickchartButtonEl.disabled = true;  // To prevent multiple clicks.\n",
              "          quickchartButtonEl.classList.add('colab-df-spinner');\n",
              "          try {\n",
              "            const charts = await google.colab.kernel.invokeFunction(\n",
              "                'suggestCharts', [key], {});\n",
              "          } catch (error) {\n",
              "            console.error('Error during call to suggestCharts:', error);\n",
              "          }\n",
              "          quickchartButtonEl.classList.remove('colab-df-spinner');\n",
              "          quickchartButtonEl.classList.add('colab-df-quickchart-complete');\n",
              "        }\n",
              "        (() => {\n",
              "          let quickchartButtonEl =\n",
              "            document.querySelector('#df-3729cb69-57f5-4196-812a-07ce0f61c914 button');\n",
              "          quickchartButtonEl.style.display =\n",
              "            google.colab.kernel.accessAllowed ? 'block' : 'none';\n",
              "        })();\n",
              "      </script>\n",
              "    </div>\n",
              "\n",
              "    </div>\n",
              "  </div>\n"
            ],
            "application/vnd.google.colaboratory.intrinsic+json": {
              "type": "dataframe",
              "variable_name": "pandas_q2",
              "summary": "{\n  \"name\": \"pandas_q2\",\n  \"rows\": 7,\n  \"fields\": [\n    {\n      \"column\": \"ano_dec\",\n      \"properties\": {\n        \"dtype\": \"number\",\n        \"std\": 1.8708286933869707,\n        \"min\": 2020.0,\n        \"max\": 2025.0,\n        \"num_unique_values\": 6,\n        \"samples\": [\n          2020.0,\n          2021.0,\n          2025.0\n        ],\n        \"semantic_type\": \"\",\n        \"description\": \"\"\n      }\n    },\n    {\n      \"column\": \"descricao_motivo\",\n      \"properties\": {\n        \"dtype\": \"category\",\n        \"num_unique_values\": 2,\n        \"samples\": [\n          \"Admissao de Tipo Ignorado\",\n          \"Admissao por reemprego\"\n        ],\n        \"semantic_type\": \"\",\n        \"description\": \"\"\n      }\n    },\n    {\n      \"column\": \"qtd_mov\",\n      \"properties\": {\n        \"dtype\": \"number\",\n        \"std\": 9673411,\n        \"min\": 10,\n        \"max\": 26503963,\n        \"num_unique_values\": 7,\n        \"samples\": [\n          10,\n          26503963\n        ],\n        \"semantic_type\": \"\",\n        \"description\": \"\"\n      }\n    }\n  ]\n}"
            }
          },
          "metadata": {},
          "execution_count": 25
        }
      ]
    },
    {
      "cell_type": "code",
      "source": [
        "pandas_q2.dropna(inplace=True)\n",
        "pandas_q2[\"ano_dec\"] = pandas_q2[\"ano_dec\"].astype(int)\n"
      ],
      "metadata": {
        "id": "4yj9ZB3Yp3_D"
      },
      "execution_count": 26,
      "outputs": []
    },
    {
      "cell_type": "code",
      "source": [
        "pandas_q2.head()"
      ],
      "metadata": {
        "id": "mIRjC7BwqPe8",
        "colab": {
          "base_uri": "https://localhost:8080/",
          "height": 206
        },
        "outputId": "26f4f1e2-75df-4a8a-97e3-0c26e22ae106"
      },
      "execution_count": 27,
      "outputs": [
        {
          "output_type": "execute_result",
          "data": {
            "text/plain": [
              "   ano_dec           descricao_motivo   qtd_mov\n",
              "1     2020     Admissao por reemprego  26503963\n",
              "2     2021     Admissao por reemprego   6467287\n",
              "3     2022  Admissao de Tipo Ignorado  16363600\n",
              "4     2023  Admissao de Tipo Ignorado  19319501\n",
              "5     2024  Admissao de Tipo Ignorado  25660394"
            ],
            "text/html": [
              "\n",
              "  <div id=\"df-347e1f0f-2162-47ee-b5c0-a1ecd6f43d0a\" class=\"colab-df-container\">\n",
              "    <div>\n",
              "<style scoped>\n",
              "    .dataframe tbody tr th:only-of-type {\n",
              "        vertical-align: middle;\n",
              "    }\n",
              "\n",
              "    .dataframe tbody tr th {\n",
              "        vertical-align: top;\n",
              "    }\n",
              "\n",
              "    .dataframe thead th {\n",
              "        text-align: right;\n",
              "    }\n",
              "</style>\n",
              "<table border=\"1\" class=\"dataframe\">\n",
              "  <thead>\n",
              "    <tr style=\"text-align: right;\">\n",
              "      <th></th>\n",
              "      <th>ano_dec</th>\n",
              "      <th>descricao_motivo</th>\n",
              "      <th>qtd_mov</th>\n",
              "    </tr>\n",
              "  </thead>\n",
              "  <tbody>\n",
              "    <tr>\n",
              "      <th>1</th>\n",
              "      <td>2020</td>\n",
              "      <td>Admissao por reemprego</td>\n",
              "      <td>26503963</td>\n",
              "    </tr>\n",
              "    <tr>\n",
              "      <th>2</th>\n",
              "      <td>2021</td>\n",
              "      <td>Admissao por reemprego</td>\n",
              "      <td>6467287</td>\n",
              "    </tr>\n",
              "    <tr>\n",
              "      <th>3</th>\n",
              "      <td>2022</td>\n",
              "      <td>Admissao de Tipo Ignorado</td>\n",
              "      <td>16363600</td>\n",
              "    </tr>\n",
              "    <tr>\n",
              "      <th>4</th>\n",
              "      <td>2023</td>\n",
              "      <td>Admissao de Tipo Ignorado</td>\n",
              "      <td>19319501</td>\n",
              "    </tr>\n",
              "    <tr>\n",
              "      <th>5</th>\n",
              "      <td>2024</td>\n",
              "      <td>Admissao de Tipo Ignorado</td>\n",
              "      <td>25660394</td>\n",
              "    </tr>\n",
              "  </tbody>\n",
              "</table>\n",
              "</div>\n",
              "    <div class=\"colab-df-buttons\">\n",
              "\n",
              "  <div class=\"colab-df-container\">\n",
              "    <button class=\"colab-df-convert\" onclick=\"convertToInteractive('df-347e1f0f-2162-47ee-b5c0-a1ecd6f43d0a')\"\n",
              "            title=\"Convert this dataframe to an interactive table.\"\n",
              "            style=\"display:none;\">\n",
              "\n",
              "  <svg xmlns=\"http://www.w3.org/2000/svg\" height=\"24px\" viewBox=\"0 -960 960 960\">\n",
              "    <path d=\"M120-120v-720h720v720H120Zm60-500h600v-160H180v160Zm220 220h160v-160H400v160Zm0 220h160v-160H400v160ZM180-400h160v-160H180v160Zm440 0h160v-160H620v160ZM180-180h160v-160H180v160Zm440 0h160v-160H620v160Z\"/>\n",
              "  </svg>\n",
              "    </button>\n",
              "\n",
              "  <style>\n",
              "    .colab-df-container {\n",
              "      display:flex;\n",
              "      gap: 12px;\n",
              "    }\n",
              "\n",
              "    .colab-df-convert {\n",
              "      background-color: #E8F0FE;\n",
              "      border: none;\n",
              "      border-radius: 50%;\n",
              "      cursor: pointer;\n",
              "      display: none;\n",
              "      fill: #1967D2;\n",
              "      height: 32px;\n",
              "      padding: 0 0 0 0;\n",
              "      width: 32px;\n",
              "    }\n",
              "\n",
              "    .colab-df-convert:hover {\n",
              "      background-color: #E2EBFA;\n",
              "      box-shadow: 0px 1px 2px rgba(60, 64, 67, 0.3), 0px 1px 3px 1px rgba(60, 64, 67, 0.15);\n",
              "      fill: #174EA6;\n",
              "    }\n",
              "\n",
              "    .colab-df-buttons div {\n",
              "      margin-bottom: 4px;\n",
              "    }\n",
              "\n",
              "    [theme=dark] .colab-df-convert {\n",
              "      background-color: #3B4455;\n",
              "      fill: #D2E3FC;\n",
              "    }\n",
              "\n",
              "    [theme=dark] .colab-df-convert:hover {\n",
              "      background-color: #434B5C;\n",
              "      box-shadow: 0px 1px 3px 1px rgba(0, 0, 0, 0.15);\n",
              "      filter: drop-shadow(0px 1px 2px rgba(0, 0, 0, 0.3));\n",
              "      fill: #FFFFFF;\n",
              "    }\n",
              "  </style>\n",
              "\n",
              "    <script>\n",
              "      const buttonEl =\n",
              "        document.querySelector('#df-347e1f0f-2162-47ee-b5c0-a1ecd6f43d0a button.colab-df-convert');\n",
              "      buttonEl.style.display =\n",
              "        google.colab.kernel.accessAllowed ? 'block' : 'none';\n",
              "\n",
              "      async function convertToInteractive(key) {\n",
              "        const element = document.querySelector('#df-347e1f0f-2162-47ee-b5c0-a1ecd6f43d0a');\n",
              "        const dataTable =\n",
              "          await google.colab.kernel.invokeFunction('convertToInteractive',\n",
              "                                                    [key], {});\n",
              "        if (!dataTable) return;\n",
              "\n",
              "        const docLinkHtml = 'Like what you see? Visit the ' +\n",
              "          '<a target=\"_blank\" href=https://colab.research.google.com/notebooks/data_table.ipynb>data table notebook</a>'\n",
              "          + ' to learn more about interactive tables.';\n",
              "        element.innerHTML = '';\n",
              "        dataTable['output_type'] = 'display_data';\n",
              "        await google.colab.output.renderOutput(dataTable, element);\n",
              "        const docLink = document.createElement('div');\n",
              "        docLink.innerHTML = docLinkHtml;\n",
              "        element.appendChild(docLink);\n",
              "      }\n",
              "    </script>\n",
              "  </div>\n",
              "\n",
              "\n",
              "    <div id=\"df-f24632fa-a585-499d-b388-5d6a7254e46a\">\n",
              "      <button class=\"colab-df-quickchart\" onclick=\"quickchart('df-f24632fa-a585-499d-b388-5d6a7254e46a')\"\n",
              "                title=\"Suggest charts\"\n",
              "                style=\"display:none;\">\n",
              "\n",
              "<svg xmlns=\"http://www.w3.org/2000/svg\" height=\"24px\"viewBox=\"0 0 24 24\"\n",
              "     width=\"24px\">\n",
              "    <g>\n",
              "        <path d=\"M19 3H5c-1.1 0-2 .9-2 2v14c0 1.1.9 2 2 2h14c1.1 0 2-.9 2-2V5c0-1.1-.9-2-2-2zM9 17H7v-7h2v7zm4 0h-2V7h2v10zm4 0h-2v-4h2v4z\"/>\n",
              "    </g>\n",
              "</svg>\n",
              "      </button>\n",
              "\n",
              "<style>\n",
              "  .colab-df-quickchart {\n",
              "      --bg-color: #E8F0FE;\n",
              "      --fill-color: #1967D2;\n",
              "      --hover-bg-color: #E2EBFA;\n",
              "      --hover-fill-color: #174EA6;\n",
              "      --disabled-fill-color: #AAA;\n",
              "      --disabled-bg-color: #DDD;\n",
              "  }\n",
              "\n",
              "  [theme=dark] .colab-df-quickchart {\n",
              "      --bg-color: #3B4455;\n",
              "      --fill-color: #D2E3FC;\n",
              "      --hover-bg-color: #434B5C;\n",
              "      --hover-fill-color: #FFFFFF;\n",
              "      --disabled-bg-color: #3B4455;\n",
              "      --disabled-fill-color: #666;\n",
              "  }\n",
              "\n",
              "  .colab-df-quickchart {\n",
              "    background-color: var(--bg-color);\n",
              "    border: none;\n",
              "    border-radius: 50%;\n",
              "    cursor: pointer;\n",
              "    display: none;\n",
              "    fill: var(--fill-color);\n",
              "    height: 32px;\n",
              "    padding: 0;\n",
              "    width: 32px;\n",
              "  }\n",
              "\n",
              "  .colab-df-quickchart:hover {\n",
              "    background-color: var(--hover-bg-color);\n",
              "    box-shadow: 0 1px 2px rgba(60, 64, 67, 0.3), 0 1px 3px 1px rgba(60, 64, 67, 0.15);\n",
              "    fill: var(--button-hover-fill-color);\n",
              "  }\n",
              "\n",
              "  .colab-df-quickchart-complete:disabled,\n",
              "  .colab-df-quickchart-complete:disabled:hover {\n",
              "    background-color: var(--disabled-bg-color);\n",
              "    fill: var(--disabled-fill-color);\n",
              "    box-shadow: none;\n",
              "  }\n",
              "\n",
              "  .colab-df-spinner {\n",
              "    border: 2px solid var(--fill-color);\n",
              "    border-color: transparent;\n",
              "    border-bottom-color: var(--fill-color);\n",
              "    animation:\n",
              "      spin 1s steps(1) infinite;\n",
              "  }\n",
              "\n",
              "  @keyframes spin {\n",
              "    0% {\n",
              "      border-color: transparent;\n",
              "      border-bottom-color: var(--fill-color);\n",
              "      border-left-color: var(--fill-color);\n",
              "    }\n",
              "    20% {\n",
              "      border-color: transparent;\n",
              "      border-left-color: var(--fill-color);\n",
              "      border-top-color: var(--fill-color);\n",
              "    }\n",
              "    30% {\n",
              "      border-color: transparent;\n",
              "      border-left-color: var(--fill-color);\n",
              "      border-top-color: var(--fill-color);\n",
              "      border-right-color: var(--fill-color);\n",
              "    }\n",
              "    40% {\n",
              "      border-color: transparent;\n",
              "      border-right-color: var(--fill-color);\n",
              "      border-top-color: var(--fill-color);\n",
              "    }\n",
              "    60% {\n",
              "      border-color: transparent;\n",
              "      border-right-color: var(--fill-color);\n",
              "    }\n",
              "    80% {\n",
              "      border-color: transparent;\n",
              "      border-right-color: var(--fill-color);\n",
              "      border-bottom-color: var(--fill-color);\n",
              "    }\n",
              "    90% {\n",
              "      border-color: transparent;\n",
              "      border-bottom-color: var(--fill-color);\n",
              "    }\n",
              "  }\n",
              "</style>\n",
              "\n",
              "      <script>\n",
              "        async function quickchart(key) {\n",
              "          const quickchartButtonEl =\n",
              "            document.querySelector('#' + key + ' button');\n",
              "          quickchartButtonEl.disabled = true;  // To prevent multiple clicks.\n",
              "          quickchartButtonEl.classList.add('colab-df-spinner');\n",
              "          try {\n",
              "            const charts = await google.colab.kernel.invokeFunction(\n",
              "                'suggestCharts', [key], {});\n",
              "          } catch (error) {\n",
              "            console.error('Error during call to suggestCharts:', error);\n",
              "          }\n",
              "          quickchartButtonEl.classList.remove('colab-df-spinner');\n",
              "          quickchartButtonEl.classList.add('colab-df-quickchart-complete');\n",
              "        }\n",
              "        (() => {\n",
              "          let quickchartButtonEl =\n",
              "            document.querySelector('#df-f24632fa-a585-499d-b388-5d6a7254e46a button');\n",
              "          quickchartButtonEl.style.display =\n",
              "            google.colab.kernel.accessAllowed ? 'block' : 'none';\n",
              "        })();\n",
              "      </script>\n",
              "    </div>\n",
              "\n",
              "    </div>\n",
              "  </div>\n"
            ],
            "application/vnd.google.colaboratory.intrinsic+json": {
              "type": "dataframe",
              "variable_name": "pandas_q2",
              "summary": "{\n  \"name\": \"pandas_q2\",\n  \"rows\": 6,\n  \"fields\": [\n    {\n      \"column\": \"ano_dec\",\n      \"properties\": {\n        \"dtype\": \"number\",\n        \"std\": 1,\n        \"min\": 2020,\n        \"max\": 2025,\n        \"num_unique_values\": 6,\n        \"samples\": [\n          2020,\n          2021,\n          2025\n        ],\n        \"semantic_type\": \"\",\n        \"description\": \"\"\n      }\n    },\n    {\n      \"column\": \"descricao_motivo\",\n      \"properties\": {\n        \"dtype\": \"category\",\n        \"num_unique_values\": 2,\n        \"samples\": [\n          \"Admissao de Tipo Ignorado\",\n          \"Admissao por reemprego\"\n        ],\n        \"semantic_type\": \"\",\n        \"description\": \"\"\n      }\n    },\n    {\n      \"column\": \"qtd_mov\",\n      \"properties\": {\n        \"dtype\": \"number\",\n        \"std\": 7353674,\n        \"min\": 6467287,\n        \"max\": 26503963,\n        \"num_unique_values\": 6,\n        \"samples\": [\n          26503963,\n          6467287\n        ],\n        \"semantic_type\": \"\",\n        \"description\": \"\"\n      }\n    }\n  ]\n}"
            }
          },
          "metadata": {},
          "execution_count": 27
        }
      ]
    },
    {
      "cell_type": "code",
      "source": [
        "plt.figure(figsize=(14,6))\n",
        "\n",
        "sns.barplot(\n",
        "    data=pandas_q2,\n",
        "    x=\"ano_dec\",\n",
        "    y=\"qtd_mov\",\n",
        "    hue=\"descricao_motivo\",\n",
        "    dodge=False,\n",
        "    palette=\"rocket\"\n",
        ")\n",
        "\n",
        "plt.xlabel(\"Ano da Declaração\", fontsize=12)\n",
        "plt.ylabel(\"Quantidade de Movimentações\", fontsize=12)\n",
        "plt.title(\"Principal Motivo de Movimentação por Ano\", fontsize=14, fontweight=\"bold\")\n",
        "\n",
        "\n",
        "plt.legend(loc='upper left', bbox_to_anchor=(1,1), title=\"Motivo\")\n",
        "\n",
        "ax = plt.gca()\n",
        "formatter = ScalarFormatter()\n",
        "formatter.set_scientific(False)\n",
        "formatter.set_useOffset(False)\n",
        "ax.yaxis.set_major_formatter(formatter)\n",
        "\n",
        "plt.tight_layout()\n",
        "plt.show()\n"
      ],
      "metadata": {
        "id": "hFCrGqT2pnTB",
        "colab": {
          "base_uri": "https://localhost:8080/",
          "height": 597
        },
        "outputId": "710fdd36-7a90-4a18-a3eb-2dd8ab04db38"
      },
      "execution_count": 28,
      "outputs": [
        {
          "output_type": "display_data",
          "data": {
            "text/plain": [
              "<Figure size 1400x600 with 1 Axes>"
            ],
            "image/png": "[encoded data removed]"
          },
          "metadata": {}
        }
      ]
    },
    {
      "cell_type": "markdown",
      "source": [
        "## 3. Quais regiões geraram mais empregos ao longo do período analisado?"
      ],
      "metadata": {
        "id": "Ava2Te92f9a0"
      }
    },
    {
      "cell_type": "code",
      "source": [
        "q3 = spark.sql(\"\"\"\n",
        "SELECT\n",
        "    r.descricao_regiao,\n",
        "    SUM(f.saldomovimentacao) AS saldo_emprego\n",
        "FROM fato_caged f\n",
        "LEFT JOIN dim_regiao r\n",
        "    ON f.regiao = r.regiao\n",
        "GROUP BY r.descricao_regiao\n",
        "ORDER BY saldo_emprego DESC;\n",
        "\"\"\")"
      ],
      "metadata": {
        "id": "7B5XW14vgU6f"
      },
      "execution_count": 29,
      "outputs": []
    },
    {
      "cell_type": "code",
      "source": [
        "q3.show()"
      ],
      "metadata": {
        "id": "XcFfSnI3iJ2m",
        "colab": {
          "base_uri": "https://localhost:8080/"
        },
        "outputId": "df0809fb-9287-4360-b476-08db34387b32"
      },
      "execution_count": 30,
      "outputs": [
        {
          "output_type": "stream",
          "name": "stdout",
          "text": [
            "+----------------+-------------+\n",
            "|descricao_regiao|saldo_emprego|\n",
            "+----------------+-------------+\n",
            "|         Sudeste|      3018904|\n",
            "|             Sul|      1346098|\n",
            "|        Nordeste|      1227059|\n",
            "|    Centro-Oeste|       777832|\n",
            "|           Norte|       519793|\n",
            "|            NULL|        28419|\n",
            "|Nao identificado|        17756|\n",
            "+----------------+-------------+\n",
            "\n"
          ]
        }
      ]
    },
    {
      "cell_type": "code",
      "source": [
        "pandas_q3 = q3.toPandas()"
      ],
      "metadata": {
        "id": "4ua7jJ5tszHE"
      },
      "execution_count": 31,
      "outputs": []
    },
    {
      "cell_type": "code",
      "source": [
        "pandas_q3.head()"
      ],
      "metadata": {
        "id": "NppPoKCas2zh",
        "colab": {
          "base_uri": "https://localhost:8080/",
          "height": 206
        },
        "outputId": "b621f369-5cf8-4d65-8933-fe5787b40070"
      },
      "execution_count": 32,
      "outputs": [
        {
          "output_type": "execute_result",
          "data": {
            "text/plain": [
              "  descricao_regiao  saldo_emprego\n",
              "0          Sudeste        3018904\n",
              "1              Sul        1346098\n",
              "2         Nordeste        1227059\n",
              "3     Centro-Oeste         777832\n",
              "4            Norte         519793"
            ],
            "text/html": [
              "\n",
              "  <div id=\"df-59ff4635-9050-4261-915c-4f0ecb8859f9\" class=\"colab-df-container\">\n",
              "    <div>\n",
              "<style scoped>\n",
              "    .dataframe tbody tr th:only-of-type {\n",
              "        vertical-align: middle;\n",
              "    }\n",
              "\n",
              "    .dataframe tbody tr th {\n",
              "        vertical-align: top;\n",
              "    }\n",
              "\n",
              "    .dataframe thead th {\n",
              "        text-align: right;\n",
              "    }\n",
              "</style>\n",
              "<table border=\"1\" class=\"dataframe\">\n",
              "  <thead>\n",
              "    <tr style=\"text-align: right;\">\n",
              "      <th></th>\n",
              "      <th>descricao_regiao</th>\n",
              "      <th>saldo_emprego</th>\n",
              "    </tr>\n",
              "  </thead>\n",
              "  <tbody>\n",
              "    <tr>\n",
              "      <th>0</th>\n",
              "      <td>Sudeste</td>\n",
              "      <td>3018904</td>\n",
              "    </tr>\n",
              "    <tr>\n",
              "      <th>1</th>\n",
              "      <td>Sul</td>\n",
              "      <td>1346098</td>\n",
              "    </tr>\n",
              "    <tr>\n",
              "      <th>2</th>\n",
              "      <td>Nordeste</td>\n",
              "      <td>1227059</td>\n",
              "    </tr>\n",
              "    <tr>\n",
              "      <th>3</th>\n",
              "      <td>Centro-Oeste</td>\n",
              "      <td>777832</td>\n",
              "    </tr>\n",
              "    <tr>\n",
              "      <th>4</th>\n",
              "      <td>Norte</td>\n",
              "      <td>519793</td>\n",
              "    </tr>\n",
              "  </tbody>\n",
              "</table>\n",
              "</div>\n",
              "    <div class=\"colab-df-buttons\">\n",
              "\n",
              "  <div class=\"colab-df-container\">\n",
              "    <button class=\"colab-df-convert\" onclick=\"convertToInteractive('df-59ff4635-9050-4261-915c-4f0ecb8859f9')\"\n",
              "            title=\"Convert this dataframe to an interactive table.\"\n",
              "            style=\"display:none;\">\n",
              "\n",
              "  <svg xmlns=\"http://www.w3.org/2000/svg\" height=\"24px\" viewBox=\"0 -960 960 960\">\n",
              "    <path d=\"M120-120v-720h720v720H120Zm60-500h600v-160H180v160Zm220 220h160v-160H400v160Zm0 220h160v-160H400v160ZM180-400h160v-160H180v160Zm440 0h160v-160H620v160ZM180-180h160v-160H180v160Zm440 0h160v-160H620v160Z\"/>\n",
              "  </svg>\n",
              "    </button>\n",
              "\n",
              "  <style>\n",
              "    .colab-df-container {\n",
              "      display:flex;\n",
              "      gap: 12px;\n",
              "    }\n",
              "\n",
              "    .colab-df-convert {\n",
              "      background-color: #E8F0FE;\n",
              "      border: none;\n",
              "      border-radius: 50%;\n",
              "      cursor: pointer;\n",
              "      display: none;\n",
              "      fill: #1967D2;\n",
              "      height: 32px;\n",
              "      padding: 0 0 0 0;\n",
              "      width: 32px;\n",
              "    }\n",
              "\n",
              "    .colab-df-convert:hover {\n",
              "      background-color: #E2EBFA;\n",
              "      box-shadow: 0px 1px 2px rgba(60, 64, 67, 0.3), 0px 1px 3px 1px rgba(60, 64, 67, 0.15);\n",
              "      fill: #174EA6;\n",
              "    }\n",
              "\n",
              "    .colab-df-buttons div {\n",
              "      margin-bottom: 4px;\n",
              "    }\n",
              "\n",
              "    [theme=dark] .colab-df-convert {\n",
              "      background-color: #3B4455;\n",
              "      fill: #D2E3FC;\n",
              "    }\n",
              "\n",
              "    [theme=dark] .colab-df-convert:hover {\n",
              "      background-color: #434B5C;\n",
              "      box-shadow: 0px 1px 3px 1px rgba(0, 0, 0, 0.15);\n",
              "      filter: drop-shadow(0px 1px 2px rgba(0, 0, 0, 0.3));\n",
              "      fill: #FFFFFF;\n",
              "    }\n",
              "  </style>\n",
              "\n",
              "    <script>\n",
              "      const buttonEl =\n",
              "        document.querySelector('#df-59ff4635-9050-4261-915c-4f0ecb8859f9 button.colab-df-convert');\n",
              "      buttonEl.style.display =\n",
              "        google.colab.kernel.accessAllowed ? 'block' : 'none';\n",
              "\n",
              "      async function convertToInteractive(key) {\n",
              "        const element = document.querySelector('#df-59ff4635-9050-4261-915c-4f0ecb8859f9');\n",
              "        const dataTable =\n",
              "          await google.colab.kernel.invokeFunction('convertToInteractive',\n",
              "                                                    [key], {});\n",
              "        if (!dataTable) return;\n",
              "\n",
              "        const docLinkHtml = 'Like what you see? Visit the ' +\n",
              "          '<a target=\"_blank\" href=https://colab.research.google.com/notebooks/data_table.ipynb>data table notebook</a>'\n",
              "          + ' to learn more about interactive tables.';\n",
              "        element.innerHTML = '';\n",
              "        dataTable['output_type'] = 'display_data';\n",
              "        await google.colab.output.renderOutput(dataTable, element);\n",
              "        const docLink = document.createElement('div');\n",
              "        docLink.innerHTML = docLinkHtml;\n",
              "        element.appendChild(docLink);\n",
              "      }\n",
              "    </script>\n",
              "  </div>\n",
              "\n",
              "\n",
              "    <div id=\"df-5085e874-7762-4dd4-bd61-883f20ed76f3\">\n",
              "      <button class=\"colab-df-quickchart\" onclick=\"quickchart('df-5085e874-7762-4dd4-bd61-883f20ed76f3')\"\n",
              "                title=\"Suggest charts\"\n",
              "                style=\"display:none;\">\n",
              "\n",
              "<svg xmlns=\"http://www.w3.org/2000/svg\" height=\"24px\"viewBox=\"0 0 24 24\"\n",
              "     width=\"24px\">\n",
              "    <g>\n",
              "        <path d=\"M19 3H5c-1.1 0-2 .9-2 2v14c0 1.1.9 2 2 2h14c1.1 0 2-.9 2-2V5c0-1.1-.9-2-2-2zM9 17H7v-7h2v7zm4 0h-2V7h2v10zm4 0h-2v-4h2v4z\"/>\n",
              "    </g>\n",
              "</svg>\n",
              "      </button>\n",
              "\n",
              "<style>\n",
              "  .colab-df-quickchart {\n",
              "      --bg-color: #E8F0FE;\n",
              "      --fill-color: #1967D2;\n",
              "      --hover-bg-color: #E2EBFA;\n",
              "      --hover-fill-color: #174EA6;\n",
              "      --disabled-fill-color: #AAA;\n",
              "      --disabled-bg-color: #DDD;\n",
              "  }\n",
              "\n",
              "  [theme=dark] .colab-df-quickchart {\n",
              "      --bg-color: #3B4455;\n",
              "      --fill-color: #D2E3FC;\n",
              "      --hover-bg-color: #434B5C;\n",
              "      --hover-fill-color: #FFFFFF;\n",
              "      --disabled-bg-color: #3B4455;\n",
              "      --disabled-fill-color: #666;\n",
              "  }\n",
              "\n",
              "  .colab-df-quickchart {\n",
              "    background-color: var(--bg-color);\n",
              "    border: none;\n",
              "    border-radius: 50%;\n",
              "    cursor: pointer;\n",
              "    display: none;\n",
              "    fill: var(--fill-color);\n",
              "    height: 32px;\n",
              "    padding: 0;\n",
              "    width: 32px;\n",
              "  }\n",
              "\n",
              "  .colab-df-quickchart:hover {\n",
              "    background-color: var(--hover-bg-color);\n",
              "    box-shadow: 0 1px 2px rgba(60, 64, 67, 0.3), 0 1px 3px 1px rgba(60, 64, 67, 0.15);\n",
              "    fill: var(--button-hover-fill-color);\n",
              "  }\n",
              "\n",
              "  .colab-df-quickchart-complete:disabled,\n",
              "  .colab-df-quickchart-complete:disabled:hover {\n",
              "    background-color: var(--disabled-bg-color);\n",
              "    fill: var(--disabled-fill-color);\n",
              "    box-shadow: none;\n",
              "  }\n",
              "\n",
              "  .colab-df-spinner {\n",
              "    border: 2px solid var(--fill-color);\n",
              "    border-color: transparent;\n",
              "    border-bottom-color: var(--fill-color);\n",
              "    animation:\n",
              "      spin 1s steps(1) infinite;\n",
              "  }\n",
              "\n",
              "  @keyframes spin {\n",
              "    0% {\n",
              "      border-color: transparent;\n",
              "      border-bottom-color: var(--fill-color);\n",
              "      border-left-color: var(--fill-color);\n",
              "    }\n",
              "    20% {\n",
              "      border-color: transparent;\n",
              "      border-left-color: var(--fill-color);\n",
              "      border-top-color: var(--fill-color);\n",
              "    }\n",
              "    30% {\n",
              "      border-color: transparent;\n",
              "      border-left-color: var(--fill-color);\n",
              "      border-top-color: var(--fill-color);\n",
              "      border-right-color: var(--fill-color);\n",
              "    }\n",
              "    40% {\n",
              "      border-color: transparent;\n",
              "      border-right-color: var(--fill-color);\n",
              "      border-top-color: var(--fill-color);\n",
              "    }\n",
              "    60% {\n",
              "      border-color: transparent;\n",
              "      border-right-color: var(--fill-color);\n",
              "    }\n",
              "    80% {\n",
              "      border-color: transparent;\n",
              "      border-right-color: var(--fill-color);\n",
              "      border-bottom-color: var(--fill-color);\n",
              "    }\n",
              "    90% {\n",
              "      border-color: transparent;\n",
              "      border-bottom-color: var(--fill-color);\n",
              "    }\n",
              "  }\n",
              "</style>\n",
              "\n",
              "      <script>\n",
              "        async function quickchart(key) {\n",
              "          const quickchartButtonEl =\n",
              "            document.querySelector('#' + key + ' button');\n",
              "          quickchartButtonEl.disabled = true;  // To prevent multiple clicks.\n",
              "          quickchartButtonEl.classList.add('colab-df-spinner');\n",
              "          try {\n",
              "            const charts = await google.colab.kernel.invokeFunction(\n",
              "                'suggestCharts', [key], {});\n",
              "          } catch (error) {\n",
              "            console.error('Error during call to suggestCharts:', error);\n",
              "          }\n",
              "          quickchartButtonEl.classList.remove('colab-df-spinner');\n",
              "          quickchartButtonEl.classList.add('colab-df-quickchart-complete');\n",
              "        }\n",
              "        (() => {\n",
              "          let quickchartButtonEl =\n",
              "            document.querySelector('#df-5085e874-7762-4dd4-bd61-883f20ed76f3 button');\n",
              "          quickchartButtonEl.style.display =\n",
              "            google.colab.kernel.accessAllowed ? 'block' : 'none';\n",
              "        })();\n",
              "      </script>\n",
              "    </div>\n",
              "\n",
              "    </div>\n",
              "  </div>\n"
            ],
            "application/vnd.google.colaboratory.intrinsic+json": {
              "type": "dataframe",
              "variable_name": "pandas_q3",
              "summary": "{\n  \"name\": \"pandas_q3\",\n  \"rows\": 7,\n  \"fields\": [\n    {\n      \"column\": \"descricao_regiao\",\n      \"properties\": {\n        \"dtype\": \"string\",\n        \"num_unique_values\": 6,\n        \"samples\": [\n          \"Sudeste\",\n          \"Sul\",\n          \"Nao identificado\"\n        ],\n        \"semantic_type\": \"\",\n        \"description\": \"\"\n      }\n    },\n    {\n      \"column\": \"saldo_emprego\",\n      \"properties\": {\n        \"dtype\": \"number\",\n        \"std\": 1035652,\n        \"min\": 17756,\n        \"max\": 3018904,\n        \"num_unique_values\": 7,\n        \"samples\": [\n          3018904,\n          1346098,\n          28419\n        ],\n        \"semantic_type\": \"\",\n        \"description\": \"\"\n      }\n    }\n  ]\n}"
            }
          },
          "metadata": {},
          "execution_count": 32
        }
      ]
    },
    {
      "cell_type": "code",
      "source": [
        "plt.figure(figsize=(8,6))\n",
        "\n",
        "sns.barplot(\n",
        "    data=pandas_q3,\n",
        "    y=\"descricao_regiao\",\n",
        "    x=\"saldo_emprego\",\n",
        "    hue=\"descricao_regiao\",\n",
        "    palette=\"rocket\"\n",
        ")\n",
        "\n",
        "plt.ylabel(\"Região\", fontsize=12)\n",
        "plt.xlabel(\"Saldo de Emprego\", fontsize=12)\n",
        "plt.title(\"Saldo de Emprego por Região\", fontsize=14, fontweight=\"bold\")\n",
        "\n",
        "ax = plt.gca()\n",
        "formatter = ScalarFormatter()\n",
        "formatter.set_scientific(False)\n",
        "formatter.set_useOffset(False)\n",
        "ax.xaxis.set_major_formatter(formatter)\n",
        "\n",
        "plt.legend().remove()\n",
        "\n",
        "plt.tight_layout()\n",
        "plt.show()\n"
      ],
      "metadata": {
        "id": "qGoqRpP1tI0p",
        "colab": {
          "base_uri": "https://localhost:8080/",
          "height": 607
        },
        "outputId": "c5327c77-92a9-4794-bf70-6d13c5b1ea40"
      },
      "execution_count": 33,
      "outputs": [
        {
          "output_type": "display_data",
          "data": {
            "text/plain": [
              "<Figure size 800x600 with 1 Axes>"
            ],
            "image/png": "[encoded data removed]"
          },
          "metadata": {}
        }
      ]
    },
    {
      "cell_type": "markdown",
      "source": [
        "## 4. Em quais estados o saldo de empregos foi mais positivo ou negativo?"
      ],
      "metadata": {
        "id": "vtw81Gapgb_3"
      }
    },
    {
      "cell_type": "code",
      "source": [
        "q4 = spark.sql(\"\"\"\n",
        "SELECT\n",
        "    u.descricao_uf,\n",
        "    SUM(f.saldomovimentacao) AS saldo_emprego\n",
        "FROM fato_caged f\n",
        "LEFT JOIN dim_uf u\n",
        "    ON f.uf = u.uf\n",
        "GROUP BY u.descricao_uf\n",
        "ORDER BY saldo_emprego DESC;\n",
        "\"\"\")"
      ],
      "metadata": {
        "id": "1leyaLVugfqw"
      },
      "execution_count": 34,
      "outputs": []
    },
    {
      "cell_type": "code",
      "source": [
        "q4.show()"
      ],
      "metadata": {
        "id": "cLtNqgg-iLzD",
        "colab": {
          "base_uri": "https://localhost:8080/"
        },
        "outputId": "03faabf7-4747-48e4-9378-e28288349e2b"
      },
      "execution_count": 35,
      "outputs": [
        {
          "output_type": "stream",
          "name": "stdout",
          "text": [
            "+-------------------+-------------+\n",
            "|       descricao_uf|saldo_emprego|\n",
            "+-------------------+-------------+\n",
            "|          Sao Paulo|      1886798|\n",
            "|       Minas Gerais|       697153|\n",
            "|             Parana|       563080|\n",
            "|     Santa Catarina|       511230|\n",
            "|              Bahia|       352834|\n",
            "|              Goias|       308573|\n",
            "|     Rio de Janeiro|       275255|\n",
            "|  Rio Grande do Sul|       271788|\n",
            "|              Ceara|       217782|\n",
            "|               Para|       215956|\n",
            "|        Mato Grosso|       204040|\n",
            "|         Pernambuco|       200780|\n",
            "|     Espirito Santo|       159698|\n",
            "|           Maranhao|       139082|\n",
            "|   Distrito Federal|       135804|\n",
            "| Mato Grosso do Sul|       129417|\n",
            "|           Amazonas|       121107|\n",
            "|Rio Grande do Norte|        86531|\n",
            "|            Paraiba|        81427|\n",
            "|            Alagoas|        57837|\n",
            "+-------------------+-------------+\n",
            "only showing top 20 rows\n",
            "\n"
          ]
        }
      ]
    },
    {
      "cell_type": "code",
      "source": [
        "pandas_q4 = q4.toPandas()"
      ],
      "metadata": {
        "id": "yVJo7eGDuU_n"
      },
      "execution_count": 36,
      "outputs": []
    },
    {
      "cell_type": "code",
      "source": [
        "pandas_q4.head()"
      ],
      "metadata": {
        "id": "EkSPHz8LunK5",
        "colab": {
          "base_uri": "https://localhost:8080/",
          "height": 206
        },
        "outputId": "90d1918b-3ace-4127-a9f0-6f5c54a6bda8"
      },
      "execution_count": 37,
      "outputs": [
        {
          "output_type": "execute_result",
          "data": {
            "text/plain": [
              "     descricao_uf  saldo_emprego\n",
              "0       Sao Paulo      1886798.0\n",
              "1    Minas Gerais       697153.0\n",
              "2          Parana       563080.0\n",
              "3  Santa Catarina       511230.0\n",
              "4           Bahia       352834.0"
            ],
            "text/html": [
              "\n",
              "  <div id=\"df-d1d053bb-d28d-4175-8415-88af4f132bb7\" class=\"colab-df-container\">\n",
              "    <div>\n",
              "<style scoped>\n",
              "    .dataframe tbody tr th:only-of-type {\n",
              "        vertical-align: middle;\n",
              "    }\n",
              "\n",
              "    .dataframe tbody tr th {\n",
              "        vertical-align: top;\n",
              "    }\n",
              "\n",
              "    .dataframe thead th {\n",
              "        text-align: right;\n",
              "    }\n",
              "</style>\n",
              "<table border=\"1\" class=\"dataframe\">\n",
              "  <thead>\n",
              "    <tr style=\"text-align: right;\">\n",
              "      <th></th>\n",
              "      <th>descricao_uf</th>\n",
              "      <th>saldo_emprego</th>\n",
              "    </tr>\n",
              "  </thead>\n",
              "  <tbody>\n",
              "    <tr>\n",
              "      <th>0</th>\n",
              "      <td>Sao Paulo</td>\n",
              "      <td>1886798.0</td>\n",
              "    </tr>\n",
              "    <tr>\n",
              "      <th>1</th>\n",
              "      <td>Minas Gerais</td>\n",
              "      <td>697153.0</td>\n",
              "    </tr>\n",
              "    <tr>\n",
              "      <th>2</th>\n",
              "      <td>Parana</td>\n",
              "      <td>563080.0</td>\n",
              "    </tr>\n",
              "    <tr>\n",
              "      <th>3</th>\n",
              "      <td>Santa Catarina</td>\n",
              "      <td>511230.0</td>\n",
              "    </tr>\n",
              "    <tr>\n",
              "      <th>4</th>\n",
              "      <td>Bahia</td>\n",
              "      <td>352834.0</td>\n",
              "    </tr>\n",
              "  </tbody>\n",
              "</table>\n",
              "</div>\n",
              "    <div class=\"colab-df-buttons\">\n",
              "\n",
              "  <div class=\"colab-df-container\">\n",
              "    <button class=\"colab-df-convert\" onclick=\"convertToInteractive('df-d1d053bb-d28d-4175-8415-88af4f132bb7')\"\n",
              "            title=\"Convert this dataframe to an interactive table.\"\n",
              "            style=\"display:none;\">\n",
              "\n",
              "  <svg xmlns=\"http://www.w3.org/2000/svg\" height=\"24px\" viewBox=\"0 -960 960 960\">\n",
              "    <path d=\"M120-120v-720h720v720H120Zm60-500h600v-160H180v160Zm220 220h160v-160H400v160Zm0 220h160v-160H400v160ZM180-400h160v-160H180v160Zm440 0h160v-160H620v160ZM180-180h160v-160H180v160Zm440 0h160v-160H620v160Z\"/>\n",
              "  </svg>\n",
              "    </button>\n",
              "\n",
              "  <style>\n",
              "    .colab-df-container {\n",
              "      display:flex;\n",
              "      gap: 12px;\n",
              "    }\n",
              "\n",
              "    .colab-df-convert {\n",
              "      background-color: #E8F0FE;\n",
              "      border: none;\n",
              "      border-radius: 50%;\n",
              "      cursor: pointer;\n",
              "      display: none;\n",
              "      fill: #1967D2;\n",
              "      height: 32px;\n",
              "      padding: 0 0 0 0;\n",
              "      width: 32px;\n",
              "    }\n",
              "\n",
              "    .colab-df-convert:hover {\n",
              "      background-color: #E2EBFA;\n",
              "      box-shadow: 0px 1px 2px rgba(60, 64, 67, 0.3), 0px 1px 3px 1px rgba(60, 64, 67, 0.15);\n",
              "      fill: #174EA6;\n",
              "    }\n",
              "\n",
              "    .colab-df-buttons div {\n",
              "      margin-bottom: 4px;\n",
              "    }\n",
              "\n",
              "    [theme=dark] .colab-df-convert {\n",
              "      background-color: #3B4455;\n",
              "      fill: #D2E3FC;\n",
              "    }\n",
              "\n",
              "    [theme=dark] .colab-df-convert:hover {\n",
              "      background-color: #434B5C;\n",
              "      box-shadow: 0px 1px 3px 1px rgba(0, 0, 0, 0.15);\n",
              "      filter: drop-shadow(0px 1px 2px rgba(0, 0, 0, 0.3));\n",
              "      fill: #FFFFFF;\n",
              "    }\n",
              "  </style>\n",
              "\n",
              "    <script>\n",
              "      const buttonEl =\n",
              "        document.querySelector('#df-d1d053bb-d28d-4175-8415-88af4f132bb7 button.colab-df-convert');\n",
              "      buttonEl.style.display =\n",
              "        google.colab.kernel.accessAllowed ? 'block' : 'none';\n",
              "\n",
              "      async function convertToInteractive(key) {\n",
              "        const element = document.querySelector('#df-d1d053bb-d28d-4175-8415-88af4f132bb7');\n",
              "        const dataTable =\n",
              "          await google.colab.kernel.invokeFunction('convertToInteractive',\n",
              "                                                    [key], {});\n",
              "        if (!dataTable) return;\n",
              "\n",
              "        const docLinkHtml = 'Like what you see? Visit the ' +\n",
              "          '<a target=\"_blank\" href=https://colab.research.google.com/notebooks/data_table.ipynb>data table notebook</a>'\n",
              "          + ' to learn more about interactive tables.';\n",
              "        element.innerHTML = '';\n",
              "        dataTable['output_type'] = 'display_data';\n",
              "        await google.colab.output.renderOutput(dataTable, element);\n",
              "        const docLink = document.createElement('div');\n",
              "        docLink.innerHTML = docLinkHtml;\n",
              "        element.appendChild(docLink);\n",
              "      }\n",
              "    </script>\n",
              "  </div>\n",
              "\n",
              "\n",
              "    <div id=\"df-14780b42-18c2-4da7-a62a-f726d1584ee4\">\n",
              "      <button class=\"colab-df-quickchart\" onclick=\"quickchart('df-14780b42-18c2-4da7-a62a-f726d1584ee4')\"\n",
              "                title=\"Suggest charts\"\n",
              "                style=\"display:none;\">\n",
              "\n",
              "<svg xmlns=\"http://www.w3.org/2000/svg\" height=\"24px\"viewBox=\"0 0 24 24\"\n",
              "     width=\"24px\">\n",
              "    <g>\n",
              "        <path d=\"M19 3H5c-1.1 0-2 .9-2 2v14c0 1.1.9 2 2 2h14c1.1 0 2-.9 2-2V5c0-1.1-.9-2-2-2zM9 17H7v-7h2v7zm4 0h-2V7h2v10zm4 0h-2v-4h2v4z\"/>\n",
              "    </g>\n",
              "</svg>\n",
              "      </button>\n",
              "\n",
              "<style>\n",
              "  .colab-df-quickchart {\n",
              "      --bg-color: #E8F0FE;\n",
              "      --fill-color: #1967D2;\n",
              "      --hover-bg-color: #E2EBFA;\n",
              "      --hover-fill-color: #174EA6;\n",
              "      --disabled-fill-color: #AAA;\n",
              "      --disabled-bg-color: #DDD;\n",
              "  }\n",
              "\n",
              "  [theme=dark] .colab-df-quickchart {\n",
              "      --bg-color: #3B4455;\n",
              "      --fill-color: #D2E3FC;\n",
              "      --hover-bg-color: #434B5C;\n",
              "      --hover-fill-color: #FFFFFF;\n",
              "      --disabled-bg-color: #3B4455;\n",
              "      --disabled-fill-color: #666;\n",
              "  }\n",
              "\n",
              "  .colab-df-quickchart {\n",
              "    background-color: var(--bg-color);\n",
              "    border: none;\n",
              "    border-radius: 50%;\n",
              "    cursor: pointer;\n",
              "    display: none;\n",
              "    fill: var(--fill-color);\n",
              "    height: 32px;\n",
              "    padding: 0;\n",
              "    width: 32px;\n",
              "  }\n",
              "\n",
              "  .colab-df-quickchart:hover {\n",
              "    background-color: var(--hover-bg-color);\n",
              "    box-shadow: 0 1px 2px rgba(60, 64, 67, 0.3), 0 1px 3px 1px rgba(60, 64, 67, 0.15);\n",
              "    fill: var(--button-hover-fill-color);\n",
              "  }\n",
              "\n",
              "  .colab-df-quickchart-complete:disabled,\n",
              "  .colab-df-quickchart-complete:disabled:hover {\n",
              "    background-color: var(--disabled-bg-color);\n",
              "    fill: var(--disabled-fill-color);\n",
              "    box-shadow: none;\n",
              "  }\n",
              "\n",
              "  .colab-df-spinner {\n",
              "    border: 2px solid var(--fill-color);\n",
              "    border-color: transparent;\n",
              "    border-bottom-color: var(--fill-color);\n",
              "    animation:\n",
              "      spin 1s steps(1) infinite;\n",
              "  }\n",
              "\n",
              "  @keyframes spin {\n",
              "    0% {\n",
              "      border-color: transparent;\n",
              "      border-bottom-color: var(--fill-color);\n",
              "      border-left-color: var(--fill-color);\n",
              "    }\n",
              "    20% {\n",
              "      border-color: transparent;\n",
              "      border-left-color: var(--fill-color);\n",
              "      border-top-color: var(--fill-color);\n",
              "    }\n",
              "    30% {\n",
              "      border-color: transparent;\n",
              "      border-left-color: var(--fill-color);\n",
              "      border-top-color: var(--fill-color);\n",
              "      border-right-color: var(--fill-color);\n",
              "    }\n",
              "    40% {\n",
              "      border-color: transparent;\n",
              "      border-right-color: var(--fill-color);\n",
              "      border-top-color: var(--fill-color);\n",
              "    }\n",
              "    60% {\n",
              "      border-color: transparent;\n",
              "      border-right-color: var(--fill-color);\n",
              "    }\n",
              "    80% {\n",
              "      border-color: transparent;\n",
              "      border-right-color: var(--fill-color);\n",
              "      border-bottom-color: var(--fill-color);\n",
              "    }\n",
              "    90% {\n",
              "      border-color: transparent;\n",
              "      border-bottom-color: var(--fill-color);\n",
              "    }\n",
              "  }\n",
              "</style>\n",
              "\n",
              "      <script>\n",
              "        async function quickchart(key) {\n",
              "          const quickchartButtonEl =\n",
              "            document.querySelector('#' + key + ' button');\n",
              "          quickchartButtonEl.disabled = true;  // To prevent multiple clicks.\n",
              "          quickchartButtonEl.classList.add('colab-df-spinner');\n",
              "          try {\n",
              "            const charts = await google.colab.kernel.invokeFunction(\n",
              "                'suggestCharts', [key], {});\n",
              "          } catch (error) {\n",
              "            console.error('Error during call to suggestCharts:', error);\n",
              "          }\n",
              "          quickchartButtonEl.classList.remove('colab-df-spinner');\n",
              "          quickchartButtonEl.classList.add('colab-df-quickchart-complete');\n",
              "        }\n",
              "        (() => {\n",
              "          let quickchartButtonEl =\n",
              "            document.querySelector('#df-14780b42-18c2-4da7-a62a-f726d1584ee4 button');\n",
              "          quickchartButtonEl.style.display =\n",
              "            google.colab.kernel.accessAllowed ? 'block' : 'none';\n",
              "        })();\n",
              "      </script>\n",
              "    </div>\n",
              "\n",
              "    </div>\n",
              "  </div>\n"
            ],
            "application/vnd.google.colaboratory.intrinsic+json": {
              "type": "dataframe",
              "variable_name": "pandas_q4",
              "summary": "{\n  \"name\": \"pandas_q4\",\n  \"rows\": 29,\n  \"fields\": [\n    {\n      \"column\": \"descricao_uf\",\n      \"properties\": {\n        \"dtype\": \"string\",\n        \"num_unique_values\": 28,\n        \"samples\": [\n          \"Para\",\n          \"Acre\",\n          \"Ceara\"\n        ],\n        \"semantic_type\": \"\",\n        \"description\": \"\"\n      }\n    },\n    {\n      \"column\": \"saldo_emprego\",\n      \"properties\": {\n        \"dtype\": \"number\",\n        \"std\": 364014.7290346259,\n        \"min\": 26829.0,\n        \"max\": 1886798.0,\n        \"num_unique_values\": 28,\n        \"samples\": [\n          215956.0,\n          28207.0,\n          217782.0\n        ],\n        \"semantic_type\": \"\",\n        \"description\": \"\"\n      }\n    }\n  ]\n}"
            }
          },
          "metadata": {},
          "execution_count": 37
        }
      ]
    },
    {
      "cell_type": "code",
      "source": [
        "plt.figure(figsize=(10,8))\n",
        "\n",
        "sns.barplot(\n",
        "    data=pandas_q4,\n",
        "    y=\"descricao_uf\",\n",
        "    x=\"saldo_emprego\",\n",
        "    hue=\"descricao_uf\",\n",
        "    palette=\"rocket\"  )\n",
        "\n",
        "plt.xlabel(\"Saldo de Emprego\", fontsize=12)\n",
        "plt.ylabel(\"Estado\", fontsize=12)\n",
        "plt.title(\"Saldo de Emprego por Estado\", fontsize=14, fontweight=\"bold\")\n",
        "\n",
        "ax = plt.gca()\n",
        "formatter = ScalarFormatter()\n",
        "formatter.set_scientific(False)\n",
        "formatter.set_useOffset(False)\n",
        "ax.xaxis.set_major_formatter(formatter)\n",
        "\n",
        "plt.legend().remove()\n",
        "\n",
        "plt.tight_layout()\n",
        "plt.show()\n"
      ],
      "metadata": {
        "id": "0jyYSqESuX77",
        "colab": {
          "base_uri": "https://localhost:8080/",
          "height": 807
        },
        "outputId": "5ea107b8-ab08-424f-d935-a253b4b49392"
      },
      "execution_count": 38,
      "outputs": [
        {
          "output_type": "display_data",
          "data": {
            "text/plain": [
              "<Figure size 1000x800 with 1 Axes>"
            ],
            "image/png": "[encoded data removed]"
          },
          "metadata": {}
        }
      ]
    },
    {
      "cell_type": "markdown",
      "source": [
        "## 5. Existe alguma concentração de saldo de empregos em determinada região do país?"
      ],
      "metadata": {
        "id": "neDymDsug8tG"
      }
    },
    {
      "cell_type": "code",
      "source": [
        "q5 = spark.sql(\"\"\"\n",
        "SELECT\n",
        "    r.descricao_regiao,\n",
        "    SUM(f.saldomovimentacao) AS saldo_regiao,\n",
        "    ROUND(100.0 * SUM(f.saldomovimentacao) / SUM(SUM(f.saldomovimentacao)) OVER (), 2) AS perc_nacional\n",
        "FROM fato_caged f\n",
        "LEFT JOIN dim_regiao r\n",
        "    ON f.regiao = r.regiao\n",
        "GROUP BY r.descricao_regiao\n",
        "ORDER BY perc_nacional DESC;\n",
        "\"\"\")"
      ],
      "metadata": {
        "id": "vOxJHxOYhBdT"
      },
      "execution_count": 39,
      "outputs": []
    },
    {
      "cell_type": "code",
      "source": [
        "q5.show()"
      ],
      "metadata": {
        "id": "P79OCbDiiNPO",
        "colab": {
          "base_uri": "https://localhost:8080/"
        },
        "outputId": "200e89f3-5e5e-4c1a-ac2d-b293e8fbff4e"
      },
      "execution_count": 40,
      "outputs": [
        {
          "output_type": "stream",
          "name": "stdout",
          "text": [
            "+----------------+------------+-------------+\n",
            "|descricao_regiao|saldo_regiao|perc_nacional|\n",
            "+----------------+------------+-------------+\n",
            "|         Sudeste|     3018904|        43.53|\n",
            "|             Sul|     1346098|        19.41|\n",
            "|        Nordeste|     1227059|        17.69|\n",
            "|    Centro-Oeste|      777832|        11.21|\n",
            "|           Norte|      519793|         7.49|\n",
            "|            NULL|       28419|         0.41|\n",
            "|Nao identificado|       17756|         0.26|\n",
            "+----------------+------------+-------------+\n",
            "\n"
          ]
        }
      ]
    },
    {
      "cell_type": "code",
      "source": [
        "pandas_q5 = q5.toPandas()"
      ],
      "metadata": {
        "id": "lVspFDucJKyk"
      },
      "execution_count": 41,
      "outputs": []
    },
    {
      "cell_type": "code",
      "source": [
        "pandas_q5[\"descricao_regiao\"] = pandas_q5[\"descricao_regiao\"].fillna(\"Nao identificado\")\n",
        "pandas_q5[\"saldo_regiao\"] = pandas_q5[\"saldo_regiao\"].astype(int)\n",
        "pandas_q5[\"perc_nacional\"] = pandas_q5[\"perc_nacional\"].astype(float)"
      ],
      "metadata": {
        "id": "iA82VSsEJLtG"
      },
      "execution_count": 42,
      "outputs": []
    },
    {
      "cell_type": "code",
      "source": [
        "pandas_q5 = pandas_q5.groupby(\"descricao_regiao\", as_index=False).sum()\n",
        "pandas_q5 = pandas_q5.sort_values(\"perc_nacional\", ascending=False).reset_index(drop=True)"
      ],
      "metadata": {
        "id": "ppE5yenGLzkT"
      },
      "execution_count": 43,
      "outputs": []
    },
    {
      "cell_type": "code",
      "source": [
        "pandas_q5.head(10)"
      ],
      "metadata": {
        "id": "u6yVqY8sLa2_",
        "colab": {
          "base_uri": "https://localhost:8080/",
          "height": 238
        },
        "outputId": "e750bd87-9185-4766-cddf-11a8011c34c1"
      },
      "execution_count": 44,
      "outputs": [
        {
          "output_type": "execute_result",
          "data": {
            "text/plain": [
              "   descricao_regiao  saldo_regiao  perc_nacional\n",
              "0           Sudeste       3018904          43.53\n",
              "1               Sul       1346098          19.41\n",
              "2          Nordeste       1227059          17.69\n",
              "3      Centro-Oeste        777832          11.21\n",
              "4             Norte        519793           7.49\n",
              "5  Nao identificado         46175           0.67"
            ],
            "text/html": [
              "\n",
              "  <div id=\"df-a9084076-8ec0-4416-8663-bca5e4f2b9b6\" class=\"colab-df-container\">\n",
              "    <div>\n",
              "<style scoped>\n",
              "    .dataframe tbody tr th:only-of-type {\n",
              "        vertical-align: middle;\n",
              "    }\n",
              "\n",
              "    .dataframe tbody tr th {\n",
              "        vertical-align: top;\n",
              "    }\n",
              "\n",
              "    .dataframe thead th {\n",
              "        text-align: right;\n",
              "    }\n",
              "</style>\n",
              "<table border=\"1\" class=\"dataframe\">\n",
              "  <thead>\n",
              "    <tr style=\"text-align: right;\">\n",
              "      <th></th>\n",
              "      <th>descricao_regiao</th>\n",
              "      <th>saldo_regiao</th>\n",
              "      <th>perc_nacional</th>\n",
              "    </tr>\n",
              "  </thead>\n",
              "  <tbody>\n",
              "    <tr>\n",
              "      <th>0</th>\n",
              "      <td>Sudeste</td>\n",
              "      <td>3018904</td>\n",
              "      <td>43.53</td>\n",
              "    </tr>\n",
              "    <tr>\n",
              "      <th>1</th>\n",
              "      <td>Sul</td>\n",
              "      <td>1346098</td>\n",
              "      <td>19.41</td>\n",
              "    </tr>\n",
              "    <tr>\n",
              "      <th>2</th>\n",
              "      <td>Nordeste</td>\n",
              "      <td>1227059</td>\n",
              "      <td>17.69</td>\n",
              "    </tr>\n",
              "    <tr>\n",
              "      <th>3</th>\n",
              "      <td>Centro-Oeste</td>\n",
              "      <td>777832</td>\n",
              "      <td>11.21</td>\n",
              "    </tr>\n",
              "    <tr>\n",
              "      <th>4</th>\n",
              "      <td>Norte</td>\n",
              "      <td>519793</td>\n",
              "      <td>7.49</td>\n",
              "    </tr>\n",
              "    <tr>\n",
              "      <th>5</th>\n",
              "      <td>Nao identificado</td>\n",
              "      <td>46175</td>\n",
              "      <td>0.67</td>\n",
              "    </tr>\n",
              "  </tbody>\n",
              "</table>\n",
              "</div>\n",
              "    <div class=\"colab-df-buttons\">\n",
              "\n",
              "  <div class=\"colab-df-container\">\n",
              "    <button class=\"colab-df-convert\" onclick=\"convertToInteractive('df-a9084076-8ec0-4416-8663-bca5e4f2b9b6')\"\n",
              "            title=\"Convert this dataframe to an interactive table.\"\n",
              "            style=\"display:none;\">\n",
              "\n",
              "  <svg xmlns=\"http://www.w3.org/2000/svg\" height=\"24px\" viewBox=\"0 -960 960 960\">\n",
              "    <path d=\"M120-120v-720h720v720H120Zm60-500h600v-160H180v160Zm220 220h160v-160H400v160Zm0 220h160v-160H400v160ZM180-400h160v-160H180v160Zm440 0h160v-160H620v160ZM180-180h160v-160H180v160Zm440 0h160v-160H620v160Z\"/>\n",
              "  </svg>\n",
              "    </button>\n",
              "\n",
              "  <style>\n",
              "    .colab-df-container {\n",
              "      display:flex;\n",
              "      gap: 12px;\n",
              "    }\n",
              "\n",
              "    .colab-df-convert {\n",
              "      background-color: #E8F0FE;\n",
              "      border: none;\n",
              "      border-radius: 50%;\n",
              "      cursor: pointer;\n",
              "      display: none;\n",
              "      fill: #1967D2;\n",
              "      height: 32px;\n",
              "      padding: 0 0 0 0;\n",
              "      width: 32px;\n",
              "    }\n",
              "\n",
              "    .colab-df-convert:hover {\n",
              "      background-color: #E2EBFA;\n",
              "      box-shadow: 0px 1px 2px rgba(60, 64, 67, 0.3), 0px 1px 3px 1px rgba(60, 64, 67, 0.15);\n",
              "      fill: #174EA6;\n",
              "    }\n",
              "\n",
              "    .colab-df-buttons div {\n",
              "      margin-bottom: 4px;\n",
              "    }\n",
              "\n",
              "    [theme=dark] .colab-df-convert {\n",
              "      background-color: #3B4455;\n",
              "      fill: #D2E3FC;\n",
              "    }\n",
              "\n",
              "    [theme=dark] .colab-df-convert:hover {\n",
              "      background-color: #434B5C;\n",
              "      box-shadow: 0px 1px 3px 1px rgba(0, 0, 0, 0.15);\n",
              "      filter: drop-shadow(0px 1px 2px rgba(0, 0, 0, 0.3));\n",
              "      fill: #FFFFFF;\n",
              "    }\n",
              "  </style>\n",
              "\n",
              "    <script>\n",
              "      const buttonEl =\n",
              "        document.querySelector('#df-a9084076-8ec0-4416-8663-bca5e4f2b9b6 button.colab-df-convert');\n",
              "      buttonEl.style.display =\n",
              "        google.colab.kernel.accessAllowed ? 'block' : 'none';\n",
              "\n",
              "      async function convertToInteractive(key) {\n",
              "        const element = document.querySelector('#df-a9084076-8ec0-4416-8663-bca5e4f2b9b6');\n",
              "        const dataTable =\n",
              "          await google.colab.kernel.invokeFunction('convertToInteractive',\n",
              "                                                    [key], {});\n",
              "        if (!dataTable) return;\n",
              "\n",
              "        const docLinkHtml = 'Like what you see? Visit the ' +\n",
              "          '<a target=\"_blank\" href=https://colab.research.google.com/notebooks/data_table.ipynb>data table notebook</a>'\n",
              "          + ' to learn more about interactive tables.';\n",
              "        element.innerHTML = '';\n",
              "        dataTable['output_type'] = 'display_data';\n",
              "        await google.colab.output.renderOutput(dataTable, element);\n",
              "        const docLink = document.createElement('div');\n",
              "        docLink.innerHTML = docLinkHtml;\n",
              "        element.appendChild(docLink);\n",
              "      }\n",
              "    </script>\n",
              "  </div>\n",
              "\n",
              "\n",
              "    <div id=\"df-eaba6ff4-7221-47fe-861f-b65f30b9f8fb\">\n",
              "      <button class=\"colab-df-quickchart\" onclick=\"quickchart('df-eaba6ff4-7221-47fe-861f-b65f30b9f8fb')\"\n",
              "                title=\"Suggest charts\"\n",
              "                style=\"display:none;\">\n",
              "\n",
              "<svg xmlns=\"http://www.w3.org/2000/svg\" height=\"24px\"viewBox=\"0 0 24 24\"\n",
              "     width=\"24px\">\n",
              "    <g>\n",
              "        <path d=\"M19 3H5c-1.1 0-2 .9-2 2v14c0 1.1.9 2 2 2h14c1.1 0 2-.9 2-2V5c0-1.1-.9-2-2-2zM9 17H7v-7h2v7zm4 0h-2V7h2v10zm4 0h-2v-4h2v4z\"/>\n",
              "    </g>\n",
              "</svg>\n",
              "      </button>\n",
              "\n",
              "<style>\n",
              "  .colab-df-quickchart {\n",
              "      --bg-color: #E8F0FE;\n",
              "      --fill-color: #1967D2;\n",
              "      --hover-bg-color: #E2EBFA;\n",
              "      --hover-fill-color: #174EA6;\n",
              "      --disabled-fill-color: #AAA;\n",
              "      --disabled-bg-color: #DDD;\n",
              "  }\n",
              "\n",
              "  [theme=dark] .colab-df-quickchart {\n",
              "      --bg-color: #3B4455;\n",
              "      --fill-color: #D2E3FC;\n",
              "      --hover-bg-color: #434B5C;\n",
              "      --hover-fill-color: #FFFFFF;\n",
              "      --disabled-bg-color: #3B4455;\n",
              "      --disabled-fill-color: #666;\n",
              "  }\n",
              "\n",
              "  .colab-df-quickchart {\n",
              "    background-color: var(--bg-color);\n",
              "    border: none;\n",
              "    border-radius: 50%;\n",
              "    cursor: pointer;\n",
              "    display: none;\n",
              "    fill: var(--fill-color);\n",
              "    height: 32px;\n",
              "    padding: 0;\n",
              "    width: 32px;\n",
              "  }\n",
              "\n",
              "  .colab-df-quickchart:hover {\n",
              "    background-color: var(--hover-bg-color);\n",
              "    box-shadow: 0 1px 2px rgba(60, 64, 67, 0.3), 0 1px 3px 1px rgba(60, 64, 67, 0.15);\n",
              "    fill: var(--button-hover-fill-color);\n",
              "  }\n",
              "\n",
              "  .colab-df-quickchart-complete:disabled,\n",
              "  .colab-df-quickchart-complete:disabled:hover {\n",
              "    background-color: var(--disabled-bg-color);\n",
              "    fill: var(--disabled-fill-color);\n",
              "    box-shadow: none;\n",
              "  }\n",
              "\n",
              "  .colab-df-spinner {\n",
              "    border: 2px solid var(--fill-color);\n",
              "    border-color: transparent;\n",
              "    border-bottom-color: var(--fill-color);\n",
              "    animation:\n",
              "      spin 1s steps(1) infinite;\n",
              "  }\n",
              "\n",
              "  @keyframes spin {\n",
              "    0% {\n",
              "      border-color: transparent;\n",
              "      border-bottom-color: var(--fill-color);\n",
              "      border-left-color: var(--fill-color);\n",
              "    }\n",
              "    20% {\n",
              "      border-color: transparent;\n",
              "      border-left-color: var(--fill-color);\n",
              "      border-top-color: var(--fill-color);\n",
              "    }\n",
              "    30% {\n",
              "      border-color: transparent;\n",
              "      border-left-color: var(--fill-color);\n",
              "      border-top-color: var(--fill-color);\n",
              "      border-right-color: var(--fill-color);\n",
              "    }\n",
              "    40% {\n",
              "      border-color: transparent;\n",
              "      border-right-color: var(--fill-color);\n",
              "      border-top-color: var(--fill-color);\n",
              "    }\n",
              "    60% {\n",
              "      border-color: transparent;\n",
              "      border-right-color: var(--fill-color);\n",
              "    }\n",
              "    80% {\n",
              "      border-color: transparent;\n",
              "      border-right-color: var(--fill-color);\n",
              "      border-bottom-color: var(--fill-color);\n",
              "    }\n",
              "    90% {\n",
              "      border-color: transparent;\n",
              "      border-bottom-color: var(--fill-color);\n",
              "    }\n",
              "  }\n",
              "</style>\n",
              "\n",
              "      <script>\n",
              "        async function quickchart(key) {\n",
              "          const quickchartButtonEl =\n",
              "            document.querySelector('#' + key + ' button');\n",
              "          quickchartButtonEl.disabled = true;  // To prevent multiple clicks.\n",
              "          quickchartButtonEl.classList.add('colab-df-spinner');\n",
              "          try {\n",
              "            const charts = await google.colab.kernel.invokeFunction(\n",
              "                'suggestCharts', [key], {});\n",
              "          } catch (error) {\n",
              "            console.error('Error during call to suggestCharts:', error);\n",
              "          }\n",
              "          quickchartButtonEl.classList.remove('colab-df-spinner');\n",
              "          quickchartButtonEl.classList.add('colab-df-quickchart-complete');\n",
              "        }\n",
              "        (() => {\n",
              "          let quickchartButtonEl =\n",
              "            document.querySelector('#df-eaba6ff4-7221-47fe-861f-b65f30b9f8fb button');\n",
              "          quickchartButtonEl.style.display =\n",
              "            google.colab.kernel.accessAllowed ? 'block' : 'none';\n",
              "        })();\n",
              "      </script>\n",
              "    </div>\n",
              "\n",
              "    </div>\n",
              "  </div>\n"
            ],
            "application/vnd.google.colaboratory.intrinsic+json": {
              "type": "dataframe",
              "variable_name": "pandas_q5",
              "summary": "{\n  \"name\": \"pandas_q5\",\n  \"rows\": 6,\n  \"fields\": [\n    {\n      \"column\": \"descricao_regiao\",\n      \"properties\": {\n        \"dtype\": \"string\",\n        \"num_unique_values\": 6,\n        \"samples\": [\n          \"Sudeste\",\n          \"Sul\",\n          \"Nao identificado\"\n        ],\n        \"semantic_type\": \"\",\n        \"description\": \"\"\n      }\n    },\n    {\n      \"column\": \"saldo_regiao\",\n      \"properties\": {\n        \"dtype\": \"number\",\n        \"std\": 1028696,\n        \"min\": 46175,\n        \"max\": 3018904,\n        \"num_unique_values\": 6,\n        \"samples\": [\n          3018904,\n          1346098,\n          46175\n        ],\n        \"semantic_type\": \"\",\n        \"description\": \"\"\n      }\n    },\n    {\n      \"column\": \"perc_nacional\",\n      \"properties\": {\n        \"dtype\": \"number\",\n        \"std\": 14.833014078961385,\n        \"min\": 0.6699999999999999,\n        \"max\": 43.53,\n        \"num_unique_values\": 6,\n        \"samples\": [\n          43.53,\n          19.41,\n          0.6699999999999999\n        ],\n        \"semantic_type\": \"\",\n        \"description\": \"\"\n      }\n    }\n  ]\n}"
            }
          },
          "metadata": {},
          "execution_count": 44
        }
      ]
    },
    {
      "cell_type": "code",
      "source": [
        "sns.barplot(\n",
        "    data=pandas_q5,\n",
        "    y=\"descricao_regiao\",\n",
        "    x=\"saldo_regiao\",\n",
        "    hue=\"descricao_regiao\",\n",
        "    palette=\"rocket\"\n",
        ")\n",
        "\n",
        "plt.xlabel(\"Saldo de Emprego\", fontsize=12)\n",
        "plt.ylabel(\"Região\", fontsize=12)\n",
        "plt.title(\"Saldo de Emprego por Região\", fontsize=14, fontweight=\"bold\")\n",
        "\n",
        "ax = plt.gca()\n",
        "formatter = ScalarFormatter()\n",
        "formatter.set_scientific(False)\n",
        "formatter.set_useOffset(False)\n",
        "ax.xaxis.set_major_formatter(formatter)\n",
        "\n",
        "plt.tight_layout()\n",
        "plt.show()"
      ],
      "metadata": {
        "id": "QZG53C6NJSDv",
        "colab": {
          "base_uri": "https://localhost:8080/",
          "height": 487
        },
        "outputId": "72d7ad77-8570-4116-c966-a6762fcd177f"
      },
      "execution_count": 45,
      "outputs": [
        {
          "output_type": "display_data",
          "data": {
            "text/plain": [
              "<Figure size 640x480 with 1 Axes>"
            ],
            "image/png": "[encoded data removed]"
          },
          "metadata": {}
        }
      ]
    },
    {
      "cell_type": "markdown",
      "source": [
        "## 6. Quais setores da economia mais contrataram ou desligaram trabalhadores em 2025?"
      ],
      "metadata": {
        "id": "37ToJ0MNhCF4"
      }
    },
    {
      "cell_type": "code",
      "source": [
        "q6 = spark.sql(\"\"\"\n",
        "SELECT\n",
        "    s.descricao_secao,\n",
        "    COUNT(*) AS qtd_mov\n",
        "FROM fato_caged f\n",
        "LEFT JOIN dim_secao s\n",
        "    ON f.secao = s.secao\n",
        "GROUP BY s.descricao_secao\n",
        "ORDER BY qtd_mov DESC;\n",
        "\"\"\")"
      ],
      "metadata": {
        "id": "DOUkBvdVhHYL"
      },
      "execution_count": 46,
      "outputs": []
    },
    {
      "cell_type": "code",
      "source": [
        "q6.show()"
      ],
      "metadata": {
        "id": "OsXhW25XiOvF",
        "colab": {
          "base_uri": "https://localhost:8080/"
        },
        "outputId": "1e4077bf-c91b-495f-d753-365016d0b694"
      },
      "execution_count": 47,
      "outputs": [
        {
          "output_type": "stream",
          "name": "stdout",
          "text": [
            "+--------------------+--------+\n",
            "|     descricao_secao| qtd_mov|\n",
            "+--------------------+--------+\n",
            "|Comercio, Reparac...|54662477|\n",
            "|Atividades Admini...|39188020|\n",
            "|Industrias de Tra...|34262772|\n",
            "|          Construcao|22659013|\n",
            "|Alojamento e Alim...|14082277|\n",
            "|Transporte, Armaz...|12382976|\n",
            "|Agricultura, Pecu...|12271339|\n",
            "|Saude Humana e Se...|10735224|\n",
            "|Atividades Profis...| 8029338|\n",
            "|            Educacao| 6543656|\n",
            "|Informacao e Comu...| 4584891|\n",
            "|Outras Atividades...| 4516311|\n",
            "|Atividades Financ...| 2297056|\n",
            "|Artes, Cultura, E...| 1454803|\n",
            "|Agua, Esgoto, Ati...| 1260484|\n",
            "|Administracao Pub...| 1203584|\n",
            "|Atividades Imobil...|  843204|\n",
            "|Industrias Extrat...|  660975|\n",
            "|  Eletricidade e Gas|  210553|\n",
            "| Servicos Domesticos|   11929|\n",
            "+--------------------+--------+\n",
            "only showing top 20 rows\n",
            "\n"
          ]
        }
      ]
    },
    {
      "cell_type": "code",
      "source": [
        "pandas_q6 = q6.toPandas()"
      ],
      "metadata": {
        "id": "YRg1Uw2rMVkv"
      },
      "execution_count": 48,
      "outputs": []
    },
    {
      "cell_type": "code",
      "source": [
        "pandas_q6.head()"
      ],
      "metadata": {
        "id": "-5KUrU5UMYxa",
        "colab": {
          "base_uri": "https://localhost:8080/",
          "height": 206
        },
        "outputId": "07c87a98-6a99-45d0-c410-74064bc905f4"
      },
      "execution_count": 49,
      "outputs": [
        {
          "output_type": "execute_result",
          "data": {
            "text/plain": [
              "                                     descricao_secao   qtd_mov\n",
              "0  Comercio, Reparacao de Veiculos Automotores e ...  54662477\n",
              "1  Atividades Administrativas e Servicos Compleme...  39188020\n",
              "2                        Industrias de Transformacao  34262772\n",
              "3                                         Construcao  22659013\n",
              "4                           Alojamento e Alimentacao  14082277"
            ],
            "text/html": [
              "\n",
              "  <div id=\"df-b741e653-4529-437c-977a-0a6c54716e1b\" class=\"colab-df-container\">\n",
              "    <div>\n",
              "<style scoped>\n",
              "    .dataframe tbody tr th:only-of-type {\n",
              "        vertical-align: middle;\n",
              "    }\n",
              "\n",
              "    .dataframe tbody tr th {\n",
              "        vertical-align: top;\n",
              "    }\n",
              "\n",
              "    .dataframe thead th {\n",
              "        text-align: right;\n",
              "    }\n",
              "</style>\n",
              "<table border=\"1\" class=\"dataframe\">\n",
              "  <thead>\n",
              "    <tr style=\"text-align: right;\">\n",
              "      <th></th>\n",
              "      <th>descricao_secao</th>\n",
              "      <th>qtd_mov</th>\n",
              "    </tr>\n",
              "  </thead>\n",
              "  <tbody>\n",
              "    <tr>\n",
              "      <th>0</th>\n",
              "      <td>Comercio, Reparacao de Veiculos Automotores e ...</td>\n",
              "      <td>54662477</td>\n",
              "    </tr>\n",
              "    <tr>\n",
              "      <th>1</th>\n",
              "      <td>Atividades Administrativas e Servicos Compleme...</td>\n",
              "      <td>39188020</td>\n",
              "    </tr>\n",
              "    <tr>\n",
              "      <th>2</th>\n",
              "      <td>Industrias de Transformacao</td>\n",
              "      <td>34262772</td>\n",
              "    </tr>\n",
              "    <tr>\n",
              "      <th>3</th>\n",
              "      <td>Construcao</td>\n",
              "      <td>22659013</td>\n",
              "    </tr>\n",
              "    <tr>\n",
              "      <th>4</th>\n",
              "      <td>Alojamento e Alimentacao</td>\n",
              "      <td>14082277</td>\n",
              "    </tr>\n",
              "  </tbody>\n",
              "</table>\n",
              "</div>\n",
              "    <div class=\"colab-df-buttons\">\n",
              "\n",
              "  <div class=\"colab-df-container\">\n",
              "    <button class=\"colab-df-convert\" onclick=\"convertToInteractive('df-b741e653-4529-437c-977a-0a6c54716e1b')\"\n",
              "            title=\"Convert this dataframe to an interactive table.\"\n",
              "            style=\"display:none;\">\n",
              "\n",
              "  <svg xmlns=\"http://www.w3.org/2000/svg\" height=\"24px\" viewBox=\"0 -960 960 960\">\n",
              "    <path d=\"M120-120v-720h720v720H120Zm60-500h600v-160H180v160Zm220 220h160v-160H400v160Zm0 220h160v-160H400v160ZM180-400h160v-160H180v160Zm440 0h160v-160H620v160ZM180-180h160v-160H180v160Zm440 0h160v-160H620v160Z\"/>\n",
              "  </svg>\n",
              "    </button>\n",
              "\n",
              "  <style>\n",
              "    .colab-df-container {\n",
              "      display:flex;\n",
              "      gap: 12px;\n",
              "    }\n",
              "\n",
              "    .colab-df-convert {\n",
              "      background-color: #E8F0FE;\n",
              "      border: none;\n",
              "      border-radius: 50%;\n",
              "      cursor: pointer;\n",
              "      display: none;\n",
              "      fill: #1967D2;\n",
              "      height: 32px;\n",
              "      padding: 0 0 0 0;\n",
              "      width: 32px;\n",
              "    }\n",
              "\n",
              "    .colab-df-convert:hover {\n",
              "      background-color: #E2EBFA;\n",
              "      box-shadow: 0px 1px 2px rgba(60, 64, 67, 0.3), 0px 1px 3px 1px rgba(60, 64, 67, 0.15);\n",
              "      fill: #174EA6;\n",
              "    }\n",
              "\n",
              "    .colab-df-buttons div {\n",
              "      margin-bottom: 4px;\n",
              "    }\n",
              "\n",
              "    [theme=dark] .colab-df-convert {\n",
              "      background-color: #3B4455;\n",
              "      fill: #D2E3FC;\n",
              "    }\n",
              "\n",
              "    [theme=dark] .colab-df-convert:hover {\n",
              "      background-color: #434B5C;\n",
              "      box-shadow: 0px 1px 3px 1px rgba(0, 0, 0, 0.15);\n",
              "      filter: drop-shadow(0px 1px 2px rgba(0, 0, 0, 0.3));\n",
              "      fill: #FFFFFF;\n",
              "    }\n",
              "  </style>\n",
              "\n",
              "    <script>\n",
              "      const buttonEl =\n",
              "        document.querySelector('#df-b741e653-4529-437c-977a-0a6c54716e1b button.colab-df-convert');\n",
              "      buttonEl.style.display =\n",
              "        google.colab.kernel.accessAllowed ? 'block' : 'none';\n",
              "\n",
              "      async function convertToInteractive(key) {\n",
              "        const element = document.querySelector('#df-b741e653-4529-437c-977a-0a6c54716e1b');\n",
              "        const dataTable =\n",
              "          await google.colab.kernel.invokeFunction('convertToInteractive',\n",
              "                                                    [key], {});\n",
              "        if (!dataTable) return;\n",
              "\n",
              "        const docLinkHtml = 'Like what you see? Visit the ' +\n",
              "          '<a target=\"_blank\" href=https://colab.research.google.com/notebooks/data_table.ipynb>data table notebook</a>'\n",
              "          + ' to learn more about interactive tables.';\n",
              "        element.innerHTML = '';\n",
              "        dataTable['output_type'] = 'display_data';\n",
              "        await google.colab.output.renderOutput(dataTable, element);\n",
              "        const docLink = document.createElement('div');\n",
              "        docLink.innerHTML = docLinkHtml;\n",
              "        element.appendChild(docLink);\n",
              "      }\n",
              "    </script>\n",
              "  </div>\n",
              "\n",
              "\n",
              "    <div id=\"df-c223afc2-4cd1-4fda-98f4-491ba683cd95\">\n",
              "      <button class=\"colab-df-quickchart\" onclick=\"quickchart('df-c223afc2-4cd1-4fda-98f4-491ba683cd95')\"\n",
              "                title=\"Suggest charts\"\n",
              "                style=\"display:none;\">\n",
              "\n",
              "<svg xmlns=\"http://www.w3.org/2000/svg\" height=\"24px\"viewBox=\"0 0 24 24\"\n",
              "     width=\"24px\">\n",
              "    <g>\n",
              "        <path d=\"M19 3H5c-1.1 0-2 .9-2 2v14c0 1.1.9 2 2 2h14c1.1 0 2-.9 2-2V5c0-1.1-.9-2-2-2zM9 17H7v-7h2v7zm4 0h-2V7h2v10zm4 0h-2v-4h2v4z\"/>\n",
              "    </g>\n",
              "</svg>\n",
              "      </button>\n",
              "\n",
              "<style>\n",
              "  .colab-df-quickchart {\n",
              "      --bg-color: #E8F0FE;\n",
              "      --fill-color: #1967D2;\n",
              "      --hover-bg-color: #E2EBFA;\n",
              "      --hover-fill-color: #174EA6;\n",
              "      --disabled-fill-color: #AAA;\n",
              "      --disabled-bg-color: #DDD;\n",
              "  }\n",
              "\n",
              "  [theme=dark] .colab-df-quickchart {\n",
              "      --bg-color: #3B4455;\n",
              "      --fill-color: #D2E3FC;\n",
              "      --hover-bg-color: #434B5C;\n",
              "      --hover-fill-color: #FFFFFF;\n",
              "      --disabled-bg-color: #3B4455;\n",
              "      --disabled-fill-color: #666;\n",
              "  }\n",
              "\n",
              "  .colab-df-quickchart {\n",
              "    background-color: var(--bg-color);\n",
              "    border: none;\n",
              "    border-radius: 50%;\n",
              "    cursor: pointer;\n",
              "    display: none;\n",
              "    fill: var(--fill-color);\n",
              "    height: 32px;\n",
              "    padding: 0;\n",
              "    width: 32px;\n",
              "  }\n",
              "\n",
              "  .colab-df-quickchart:hover {\n",
              "    background-color: var(--hover-bg-color);\n",
              "    box-shadow: 0 1px 2px rgba(60, 64, 67, 0.3), 0 1px 3px 1px rgba(60, 64, 67, 0.15);\n",
              "    fill: var(--button-hover-fill-color);\n",
              "  }\n",
              "\n",
              "  .colab-df-quickchart-complete:disabled,\n",
              "  .colab-df-quickchart-complete:disabled:hover {\n",
              "    background-color: var(--disabled-bg-color);\n",
              "    fill: var(--disabled-fill-color);\n",
              "    box-shadow: none;\n",
              "  }\n",
              "\n",
              "  .colab-df-spinner {\n",
              "    border: 2px solid var(--fill-color);\n",
              "    border-color: transparent;\n",
              "    border-bottom-color: var(--fill-color);\n",
              "    animation:\n",
              "      spin 1s steps(1) infinite;\n",
              "  }\n",
              "\n",
              "  @keyframes spin {\n",
              "    0% {\n",
              "      border-color: transparent;\n",
              "      border-bottom-color: var(--fill-color);\n",
              "      border-left-color: var(--fill-color);\n",
              "    }\n",
              "    20% {\n",
              "      border-color: transparent;\n",
              "      border-left-color: var(--fill-color);\n",
              "      border-top-color: var(--fill-color);\n",
              "    }\n",
              "    30% {\n",
              "      border-color: transparent;\n",
              "      border-left-color: var(--fill-color);\n",
              "      border-top-color: var(--fill-color);\n",
              "      border-right-color: var(--fill-color);\n",
              "    }\n",
              "    40% {\n",
              "      border-color: transparent;\n",
              "      border-right-color: var(--fill-color);\n",
              "      border-top-color: var(--fill-color);\n",
              "    }\n",
              "    60% {\n",
              "      border-color: transparent;\n",
              "      border-right-color: var(--fill-color);\n",
              "    }\n",
              "    80% {\n",
              "      border-color: transparent;\n",
              "      border-right-color: var(--fill-color);\n",
              "      border-bottom-color: var(--fill-color);\n",
              "    }\n",
              "    90% {\n",
              "      border-color: transparent;\n",
              "      border-bottom-color: var(--fill-color);\n",
              "    }\n",
              "  }\n",
              "</style>\n",
              "\n",
              "      <script>\n",
              "        async function quickchart(key) {\n",
              "          const quickchartButtonEl =\n",
              "            document.querySelector('#' + key + ' button');\n",
              "          quickchartButtonEl.disabled = true;  // To prevent multiple clicks.\n",
              "          quickchartButtonEl.classList.add('colab-df-spinner');\n",
              "          try {\n",
              "            const charts = await google.colab.kernel.invokeFunction(\n",
              "                'suggestCharts', [key], {});\n",
              "          } catch (error) {\n",
              "            console.error('Error during call to suggestCharts:', error);\n",
              "          }\n",
              "          quickchartButtonEl.classList.remove('colab-df-spinner');\n",
              "          quickchartButtonEl.classList.add('colab-df-quickchart-complete');\n",
              "        }\n",
              "        (() => {\n",
              "          let quickchartButtonEl =\n",
              "            document.querySelector('#df-c223afc2-4cd1-4fda-98f4-491ba683cd95 button');\n",
              "          quickchartButtonEl.style.display =\n",
              "            google.colab.kernel.accessAllowed ? 'block' : 'none';\n",
              "        })();\n",
              "      </script>\n",
              "    </div>\n",
              "\n",
              "    </div>\n",
              "  </div>\n"
            ],
            "application/vnd.google.colaboratory.intrinsic+json": {
              "type": "dataframe",
              "variable_name": "pandas_q6",
              "summary": "{\n  \"name\": \"pandas_q6\",\n  \"rows\": 23,\n  \"fields\": [\n    {\n      \"column\": \"descricao_secao\",\n      \"properties\": {\n        \"dtype\": \"string\",\n        \"num_unique_values\": 22,\n        \"samples\": [\n          \"Comercio, Reparacao de Veiculos Automotores e Motocicletas\",\n          \"Artes, Cultura, Esporte e Recreacao\",\n          \"Atividades Profissionais, Cientificas e Tecnicas\"\n        ],\n        \"semantic_type\": \"\",\n        \"description\": \"\"\n      }\n    },\n    {\n      \"column\": \"qtd_mov\",\n      \"properties\": {\n        \"dtype\": \"number\",\n        \"std\": 14540504,\n        \"min\": 2,\n        \"max\": 54662477,\n        \"num_unique_values\": 23,\n        \"samples\": [\n          1203584,\n          6543656,\n          54662477\n        ],\n        \"semantic_type\": \"\",\n        \"description\": \"\"\n      }\n    }\n  ]\n}"
            }
          },
          "metadata": {},
          "execution_count": 49
        }
      ]
    },
    {
      "cell_type": "code",
      "source": [
        "plt.figure(figsize=(10,8))\n",
        "\n",
        "sns.barplot(\n",
        "    data=pandas_q6,\n",
        "    y=\"descricao_secao\",\n",
        "    x=\"qtd_mov\",\n",
        "    hue=\"descricao_secao\",\n",
        "    palette=\"rocket\"\n",
        ")\n",
        "\n",
        "plt.xlabel(\"Quantidade de Movimentações\", fontsize=12)\n",
        "plt.ylabel(\"Seção Econômica\", fontsize=12)\n",
        "plt.title(\"Quantidade de Movimentações por Seção Econômica\", fontsize=14, fontweight=\"bold\")\n",
        "\n",
        "ax = plt.gca()\n",
        "formatter = ScalarFormatter()\n",
        "formatter.set_scientific(False)\n",
        "formatter.set_useOffset(False)\n",
        "ax.xaxis.set_major_formatter(formatter)\n",
        "\n",
        "plt.legend().remove()\n",
        "\n",
        "plt.tight_layout()\n",
        "plt.show()"
      ],
      "metadata": {
        "id": "X_0d0YDcOMyu",
        "colab": {
          "base_uri": "https://localhost:8080/",
          "height": 807
        },
        "outputId": "d895f5f5-965c-4616-ff40-4ae9234c639b"
      },
      "execution_count": 50,
      "outputs": [
        {
          "output_type": "display_data",
          "data": {
            "text/plain": [
              "<Figure size 1000x800 with 1 Axes>"
            ],
            "image/png": "[encoded data removed]"
          },
          "metadata": {}
        }
      ]
    },
    {
      "cell_type": "markdown",
      "source": [
        "## 7. Qual setor apresentou o maior saldo líquido de empregos?"
      ],
      "metadata": {
        "id": "HqAufFW8iP_C"
      }
    },
    {
      "cell_type": "code",
      "source": [
        "q7 = spark.sql(\"\"\"\n",
        "SELECT\n",
        "    s.descricao_secao,\n",
        "    SUM(f.saldomovimentacao) AS saldo_emprego\n",
        "FROM fato_caged f\n",
        "LEFT JOIN dim_secao s\n",
        "    ON f.secao = s.secao\n",
        "GROUP BY s.descricao_secao\n",
        "ORDER BY saldo_emprego DESC\n",
        "LIMIT 1;\n",
        "\"\"\")"
      ],
      "metadata": {
        "id": "bGAyE2AchgRJ"
      },
      "execution_count": 51,
      "outputs": []
    },
    {
      "cell_type": "code",
      "source": [
        "q7.show()"
      ],
      "metadata": {
        "id": "7jq-vgBJibai",
        "colab": {
          "base_uri": "https://localhost:8080/"
        },
        "outputId": "d69b06ff-8894-4fee-f094-7f44ef9beef3"
      },
      "execution_count": 52,
      "outputs": [
        {
          "output_type": "stream",
          "name": "stdout",
          "text": [
            "+--------------------+-------------+\n",
            "|     descricao_secao|saldo_emprego|\n",
            "+--------------------+-------------+\n",
            "|Atividades Admini...|      1283308|\n",
            "+--------------------+-------------+\n",
            "\n"
          ]
        }
      ]
    },
    {
      "cell_type": "code",
      "source": [
        "pandas_q7 = q7.toPandas()"
      ],
      "metadata": {
        "id": "zPFnWQg6OQ8j"
      },
      "execution_count": 53,
      "outputs": []
    },
    {
      "cell_type": "code",
      "source": [
        "print(f'O setor com o maior saldo líquido de empregos é o {pandas_q7['descricao_secao'][0]} com saldo de {pandas_q7['saldo_emprego'][0]} empregos no período analisado.')"
      ],
      "metadata": {
        "id": "64k3RHyhO3Ry",
        "colab": {
          "base_uri": "https://localhost:8080/"
        },
        "outputId": "fd905584-6422-44b9-ad5c-8cfcae64e753"
      },
      "execution_count": 54,
      "outputs": [
        {
          "output_type": "stream",
          "name": "stdout",
          "text": [
            "O setor com o maior saldo líquido de empregos é o Atividades Administrativas e Servicos Complementares com saldo de 1283308 empregos no período analisado.\n"
          ]
        }
      ]
    },
    {
      "cell_type": "markdown",
      "source": [
        "## 8. Há setores que consistentemente apresentam saldos negativos?"
      ],
      "metadata": {
        "id": "Zqu9swFSiikn"
      }
    },
    {
      "cell_type": "code",
      "source": [
        "q8 = spark.sql(\"\"\"\n",
        "SELECT\n",
        "    f.ano_dec,\n",
        "    s.descricao_secao,\n",
        "    SUM(f.saldomovimentacao) AS saldo_emprego\n",
        "FROM fato_caged f\n",
        "LEFT JOIN dim_secao s\n",
        "    ON f.secao = s.secao\n",
        "GROUP BY f.ano_dec, s.descricao_secao\n",
        "HAVING SUM(f.saldomovimentacao) < 0\n",
        "ORDER BY s.descricao_secao, f.ano_dec;\n",
        "\"\"\")"
      ],
      "metadata": {
        "id": "dgQK4D-Ahhed"
      },
      "execution_count": 55,
      "outputs": []
    },
    {
      "cell_type": "code",
      "source": [
        "q8.show()"
      ],
      "metadata": {
        "id": "Oz7OYTMFim7h",
        "colab": {
          "base_uri": "https://localhost:8080/"
        },
        "outputId": "6f777f17-a6a7-44b1-d490-011faf2cdb33"
      },
      "execution_count": 56,
      "outputs": [
        {
          "output_type": "stream",
          "name": "stdout",
          "text": [
            "+-------+--------------------+-------------+\n",
            "|ano_dec|     descricao_secao|saldo_emprego|\n",
            "+-------+--------------------+-------------+\n",
            "|   2020|Alojamento e Alim...|      -577433|\n",
            "|   2020|Artes, Cultura, E...|       -54745|\n",
            "|   NULL|Atividades Admini...|           -1|\n",
            "|   2020|Atividades Financ...|        -5381|\n",
            "|   NULL|Comercio, Reparac...|           -2|\n",
            "|   2020|Comercio, Reparac...|      -119138|\n",
            "|   2020|            Educacao|      -109864|\n",
            "|   2022|  Eletricidade e Gas|         -972|\n",
            "|   NULL|Industrias de Tra...|           -1|\n",
            "|   2020|    Nao identificado|           -4|\n",
            "|   2021|    Nao identificado|           -3|\n",
            "|   2022|    Nao identificado|           -3|\n",
            "|   2023|    Nao identificado|          -12|\n",
            "|   2020|Organismos Intern...|           -2|\n",
            "|   2025|Organismos Intern...|          -63|\n",
            "|   2020|Outras Atividades...|       -53736|\n",
            "|   2020|Transporte, Armaz...|      -117394|\n",
            "+-------+--------------------+-------------+\n",
            "\n"
          ]
        }
      ]
    },
    {
      "cell_type": "markdown",
      "source": [
        "## 9. Qual é o nível de escolaridade predominante entre os admitidos?"
      ],
      "metadata": {
        "id": "2i9EtSqEiopJ"
      }
    },
    {
      "cell_type": "code",
      "source": [
        "q9 = spark.sql(\"\"\"\n",
        "SELECT\n",
        "    g.descricao_instrucao,\n",
        "    COUNT(*) AS qtd\n",
        "FROM fato_caged f\n",
        "LEFT JOIN dim_graudeinstrucao g\n",
        "    ON f.graudeinstrucao = g.graudeinstrucao\n",
        "WHERE f.tipomovimentacao IN (10, 20, 25, 35, 70, 97)\n",
        "GROUP BY g.descricao_instrucao\n",
        "ORDER BY qtd DESC\n",
        "LIMIT 1;\n",
        "\"\"\")"
      ],
      "metadata": {
        "id": "QO1txQvxhpYM"
      },
      "execution_count": 58,
      "outputs": []
    },
    {
      "cell_type": "code",
      "source": [
        "q9.show()"
      ],
      "metadata": {
        "id": "6Ro5RVtrhqir",
        "colab": {
          "base_uri": "https://localhost:8080/"
        },
        "outputId": "d29e8b20-daa0-46b6-d118-4e7b1faf3f22"
      },
      "execution_count": 59,
      "outputs": [
        {
          "output_type": "stream",
          "name": "stdout",
          "text": [
            "+-------------------+--------+\n",
            "|descricao_instrucao|     qtd|\n",
            "+-------------------+--------+\n",
            "|     Medio Completo|75739475|\n",
            "+-------------------+--------+\n",
            "\n"
          ]
        }
      ]
    },
    {
      "cell_type": "markdown",
      "source": [
        "## 10. O perfil de escolaridade dos admitidos mudou ao longo dos anos?"
      ],
      "metadata": {
        "id": "F5eopu0fixLw"
      }
    },
    {
      "cell_type": "code",
      "source": [
        "q10 = spark.sql(\"\"\"\n",
        "SELECT\n",
        "    f.ano_dec,\n",
        "    g.descricao_instrucao,\n",
        "    COUNT(*) AS qtd\n",
        "FROM fato_caged f\n",
        "LEFT JOIN dim_graudeinstrucao g\n",
        "    ON f.graudeinstrucao = g.graudeinstrucao\n",
        "WHERE f.tipomovimentacao IN (10, 20, 25, 35, 70, 97)\n",
        "GROUP BY f.ano_dec, g.descricao_instrucao\n",
        "ORDER BY f.ano_dec, qtd DESC;\n",
        "\"\"\")"
      ],
      "metadata": {
        "id": "IcQAJIFuix8g"
      },
      "execution_count": 60,
      "outputs": []
    },
    {
      "cell_type": "code",
      "source": [
        "q10.show()"
      ],
      "metadata": {
        "id": "v9Nkk6u9i45V",
        "colab": {
          "base_uri": "https://localhost:8080/"
        },
        "outputId": "cf0c5171-ada3-448e-ae8e-c66cb0a55c6b"
      },
      "execution_count": 61,
      "outputs": [
        {
          "output_type": "stream",
          "name": "stdout",
          "text": [
            "+-------+--------------------+--------+\n",
            "|ano_dec| descricao_instrucao|     qtd|\n",
            "+-------+--------------------+--------+\n",
            "|   NULL|      Medio Completo|       2|\n",
            "|   NULL| Superior Incompleto|       1|\n",
            "|   2020|      Medio Completo|17410658|\n",
            "|   2020|   Superior Completo| 2560720|\n",
            "|   2020|Fundamental Completo| 2238012|\n",
            "|   2020|    Medio Incompleto| 2175129|\n",
            "|   2020| 6a a 9a Fundamental| 1401203|\n",
            "|   2020| Superior Incompleto| 1186701|\n",
            "|   2020|   Ate 5a Incompleto|  686248|\n",
            "|   2020|5a Completo Funda...|  499893|\n",
            "|   2020|Pos-Graduacao Com...|  240738|\n",
            "|   2020|          Analfabeto|  128497|\n",
            "|   2020|            Mestrado|   58410|\n",
            "|   2020|           Doutorado|   21637|\n",
            "|   2021|      Medio Completo| 8067744|\n",
            "|   2021|   Superior Completo| 1192515|\n",
            "|   2021|    Medio Incompleto| 1001403|\n",
            "|   2021|Fundamental Completo|  973485|\n",
            "|   2021| 6a a 9a Fundamental|  581150|\n",
            "|   2021| Superior Incompleto|  549403|\n",
            "+-------+--------------------+--------+\n",
            "only showing top 20 rows\n",
            "\n"
          ]
        }
      ]
    },
    {
      "cell_type": "markdown",
      "source": [
        "## 11. Trabalhadores com ensino superior têm participação relevante nas admissões?"
      ],
      "metadata": {
        "id": "23PssxqXi5Jb"
      }
    },
    {
      "cell_type": "code",
      "source": [
        "q11 = spark.sql(\"\"\"\n",
        "SELECT\n",
        "    f.ano_dec,\n",
        "    CASE\n",
        "        WHEN g.graudeinstrucao >= 9 THEN 'Nível Superior Completo ou acima'\n",
        "        ELSE 'Até Nível Médio'\n",
        "    END AS nivel,\n",
        "    COUNT(*) AS qtd\n",
        "FROM fato_caged f\n",
        "LEFT JOIN dim_graudeinstrucao g\n",
        "    ON f.graudeinstrucao = g.graudeinstrucao\n",
        "WHERE f.tipomovimentacao IN (10, 20, 25, 35, 70, 97)\n",
        "GROUP BY f.ano_dec,\n",
        "    CASE\n",
        "        WHEN g.graudeinstrucao >= 9 THEN 'Nível Superior Completo ou acima'\n",
        "        ELSE 'Até Nível Médio'\n",
        "    END\n",
        "ORDER BY f.ano_dec, nivel;\n",
        "\"\"\")"
      ],
      "metadata": {
        "id": "zBhhsd4ci67_"
      },
      "execution_count": 62,
      "outputs": []
    },
    {
      "cell_type": "code",
      "source": [
        "q11.show()"
      ],
      "metadata": {
        "id": "0kWgldCJjFSP",
        "colab": {
          "base_uri": "https://localhost:8080/"
        },
        "outputId": "9f2a3453-d285-4c7b-8868-4c1b8dfed0ca"
      },
      "execution_count": 63,
      "outputs": [
        {
          "output_type": "stream",
          "name": "stdout",
          "text": [
            "+-------+--------------------+--------+\n",
            "|ano_dec|               nivel|     qtd|\n",
            "+-------+--------------------+--------+\n",
            "|   NULL|     Até Nível Médio|       3|\n",
            "|   2020|     Até Nível Médio|25726341|\n",
            "|   2020|Nível Superior Co...| 2881505|\n",
            "|   2021|     Até Nível Médio|11704848|\n",
            "|   2021|Nível Superior Co...| 1356817|\n",
            "|   2022|     Até Nível Médio|14808319|\n",
            "|   2022|Nível Superior Co...| 1646595|\n",
            "|   2023|     Até Nível Médio|17537354|\n",
            "|   2023|Nível Superior Co...| 1799197|\n",
            "|   2024|     Até Nível Médio|23307182|\n",
            "|   2024|Nível Superior Co...| 2370715|\n",
            "|   2025|     Até Nível Médio|14737334|\n",
            "|   2025|Nível Superior Co...| 1525132|\n",
            "+-------+--------------------+--------+\n",
            "\n"
          ]
        }
      ]
    },
    {
      "cell_type": "markdown",
      "source": [
        "## 12. Qual faixa etária concentra mais admissões?"
      ],
      "metadata": {
        "id": "ojQNOCdXjFlO"
      }
    },
    {
      "cell_type": "code",
      "source": [
        "q12 = spark.sql(\"\"\"\n",
        "SELECT\n",
        "    f.faixa_etaria,\n",
        "    COUNT(*) AS qtd_admissoes\n",
        "FROM fato_caged f\n",
        "WHERE f.tipomovimentacao IN (10, 20, 25, 35, 70, 97)\n",
        "GROUP BY f.faixa_etaria\n",
        "ORDER BY qtd_admissoes DESC\n",
        "LIMIT 1;\n",
        "\"\"\")"
      ],
      "metadata": {
        "id": "Wok5GMmxjGNF"
      },
      "execution_count": 64,
      "outputs": []
    },
    {
      "cell_type": "code",
      "source": [
        "q12.show()"
      ],
      "metadata": {
        "id": "KWBaaTm8jOXv",
        "colab": {
          "base_uri": "https://localhost:8080/"
        },
        "outputId": "1e894bcd-e00f-44f1-9a5e-1f8cc127bf0f"
      },
      "execution_count": 65,
      "outputs": [
        {
          "output_type": "stream",
          "name": "stdout",
          "text": [
            "+------------+-------------+\n",
            "|faixa_etaria|qtd_admissoes|\n",
            "+------------+-------------+\n",
            "|       25-34|     38596918|\n",
            "+------------+-------------+\n",
            "\n"
          ]
        }
      ]
    },
    {
      "cell_type": "markdown",
      "source": [
        "## 13. Qual faixa etária apresenta mais desligamentos a pedido?"
      ],
      "metadata": {
        "id": "AIlY30eNjOqv"
      }
    },
    {
      "cell_type": "code",
      "source": [
        "q13 = spark.sql(\"\"\"\n",
        "SELECT\n",
        "    f.faixa_etaria,\n",
        "    COUNT(*) AS qtd_desligamentos\n",
        "FROM fato_caged f\n",
        "WHERE f.tipomovimentacao = 40\n",
        "GROUP BY f.faixa_etaria\n",
        "ORDER BY qtd_desligamentos DESC\n",
        "LIMIT 1;\n",
        "\"\"\")"
      ],
      "metadata": {
        "id": "ljTd4i3ZjPFz"
      },
      "execution_count": 66,
      "outputs": []
    },
    {
      "cell_type": "code",
      "source": [
        "q13.show()"
      ],
      "metadata": {
        "id": "ImtJgEvOjPej",
        "colab": {
          "base_uri": "https://localhost:8080/"
        },
        "outputId": "25af101a-f54e-4c55-8451-36d085893a5b"
      },
      "execution_count": 67,
      "outputs": [
        {
          "output_type": "stream",
          "name": "stdout",
          "text": [
            "+------------+-----------------+\n",
            "|faixa_etaria|qtd_desligamentos|\n",
            "+------------+-----------------+\n",
            "|       25-34|         12449044|\n",
            "+------------+-----------------+\n",
            "\n"
          ]
        }
      ]
    },
    {
      "cell_type": "markdown",
      "source": [
        "## 14. Jovens (até 24 anos) são mais contratados em primeiro emprego ou em reemprego?"
      ],
      "metadata": {
        "id": "u3vgvjQyjY_b"
      }
    },
    {
      "cell_type": "code",
      "source": [
        "q14 = spark.sql(\"\"\"\n",
        "SELECT\n",
        "    CASE\n",
        "        WHEN f.tipomovimentacao = 10 THEN 'Primeiro emprego'\n",
        "        WHEN f.tipomovimentacao = 20 THEN 'Reemprego'\n",
        "    END AS tipo_admissao,\n",
        "    COUNT(*) AS qtd\n",
        "FROM fato_caged f\n",
        "WHERE f.idade <= 24.0\n",
        "  AND f.tipomovimentacao IN (10, 20)\n",
        "GROUP BY\n",
        "    CASE\n",
        "        WHEN f.tipomovimentacao = 10 THEN 'Primeiro emprego'\n",
        "        WHEN f.tipomovimentacao = 20 THEN 'Reemprego'\n",
        "    END\n",
        "ORDER BY qtd DESC;\n",
        "\"\"\")"
      ],
      "metadata": {
        "id": "_8mZ3zYwjZRp"
      },
      "execution_count": 68,
      "outputs": []
    },
    {
      "cell_type": "code",
      "source": [
        "q14.show()"
      ],
      "metadata": {
        "id": "rjswK5Z5jZae"
      },
      "execution_count": null,
      "outputs": []
    },
    {
      "cell_type": "markdown",
      "source": [
        "## 15. Trabalhadores acima de 60 anos são desligados majoritariamente por aposentadoria ou por outros motivos?"
      ],
      "metadata": {
        "id": "mYyl5pCGjsdx"
      }
    },
    {
      "cell_type": "code",
      "source": [
        "q15 = spark.sql(\"\"\"\n",
        "SELECT\n",
        "    CASE\n",
        "        WHEN f.tipomovimentacao = 50 THEN 'Aposentadoria'\n",
        "        ELSE 'Outros desligamentos'\n",
        "    END AS tipo_desligamento,\n",
        "    COUNT(*) AS qtd\n",
        "FROM fato_caged f\n",
        "WHERE f.idade >= 60.0\n",
        "  AND f.tipomovimentacao IN (31, 32, 40, 43, 45, 50, 60, 80, 90, 98, 99)\n",
        "GROUP BY\n",
        "    CASE\n",
        "        WHEN f.tipomovimentacao = 50 THEN 'Aposentadoria'\n",
        "        ELSE 'Outros desligamentos'\n",
        "    END\n",
        "ORDER BY qtd DESC;\n",
        "\"\"\")"
      ],
      "metadata": {
        "id": "D6gxfdk9jujp"
      },
      "execution_count": 72,
      "outputs": []
    },
    {
      "cell_type": "code",
      "source": [
        "q15.show()"
      ],
      "metadata": {
        "id": "pHy5EO6yM92L"
      },
      "execution_count": null,
      "outputs": []
    },
    {
      "cell_type": "markdown",
      "source": [
        "## 16. Quais ocupações mais geraram movimentações no período analisado (2020-2025)?"
      ],
      "metadata": {
        "id": "LH5mOxhXjypn"
      }
    },
    {
      "cell_type": "code",
      "source": [
        "q16 = spark.sql(\"\"\"\n",
        "SELECT\n",
        "    c.descricao_cbo,\n",
        "    COUNT(*) AS qtd_mov\n",
        "FROM fato_caged f\n",
        "LEFT JOIN dim_cbo c\n",
        "    ON f.cbo2002ocupacao = c.cbo\n",
        "GROUP BY c.descricao_cbo\n",
        "ORDER BY qtd_mov DESC\n",
        "LIMIT 20;\n",
        "\"\"\")"
      ],
      "metadata": {
        "id": "SrgAcLd2jy7k"
      },
      "execution_count": 76,
      "outputs": []
    },
    {
      "cell_type": "code",
      "source": [
        "q16.show()"
      ],
      "metadata": {
        "id": "G65CztfMjzLv",
        "colab": {
          "base_uri": "https://localhost:8080/"
        },
        "outputId": "8a524679-0392-4c24-c0f0-95beb4c2c868"
      },
      "execution_count": 77,
      "outputs": [
        {
          "output_type": "stream",
          "name": "stdout",
          "text": [
            "+--------------------+--------+\n",
            "|       descricao_cbo| qtd_mov|\n",
            "+--------------------+--------+\n",
            "|Vendedor de Comer...|11984052|\n",
            "|Alimentador de Li...|10714853|\n",
            "|Faxineiro (Desati...|10622248|\n",
            "|Auxiliar de Escri...| 8229424|\n",
            "|   Servente de Obras| 7527142|\n",
            "|Assistente Admini...| 6723210|\n",
            "|   Operador de Caixa| 6325155|\n",
            "|Motorista de Cami...| 5578578|\n",
            "|Atendente de Loja...| 4853531|\n",
            "|Repositor de Merc...| 4548335|\n",
            "|Auxiliar nos Serv...| 3780975|\n",
            "|Atendente de Lanc...| 3489110|\n",
            "|Recepcionista, em...| 3268183|\n",
            "|            Pedreiro| 3173278|\n",
            "|Auxiliar de Logis...| 2683591|\n",
            "|Operador de Telem...| 2668993|\n",
            "|    Cozinheiro Geral| 2484498|\n",
            "|          Almoxarife| 2339287|\n",
            "|Porteiro de Edifi...| 2289245|\n",
            "|Trabalhador Agrop...| 2283920|\n",
            "+--------------------+--------+\n",
            "\n"
          ]
        }
      ]
    },
    {
      "cell_type": "markdown",
      "source": [
        "## 17. Quais cargos mais contribuíram para o saldo positivo de empregos?"
      ],
      "metadata": {
        "id": "lsOeU2txj89Q"
      }
    },
    {
      "cell_type": "code",
      "source": [
        "q17 = spark.sql(\"\"\"\n",
        "SELECT\n",
        "    c.descricao_cbo,\n",
        "    SUM(f.saldomovimentacao) AS saldo_emprego\n",
        "FROM fato_caged f\n",
        "LEFT JOIN dim_cbo c\n",
        "    ON f.cbo2002ocupacao = c.cbo\n",
        "GROUP BY c.descricao_cbo\n",
        "ORDER BY saldo_emprego DESC\n",
        "LIMIT 20;\n",
        "\"\"\")"
      ],
      "metadata": {
        "id": "XH6giRwpj9Os"
      },
      "execution_count": 78,
      "outputs": []
    },
    {
      "cell_type": "code",
      "source": [
        "q17.show()"
      ],
      "metadata": {
        "id": "N57BZb3Zj90c",
        "colab": {
          "base_uri": "https://localhost:8080/"
        },
        "outputId": "7c995e15-3a09-4fd5-cc7d-d0fbdb7f7918"
      },
      "execution_count": 79,
      "outputs": [
        {
          "output_type": "stream",
          "name": "stdout",
          "text": [
            "+--------------------+-------------+\n",
            "|       descricao_cbo|saldo_emprego|\n",
            "+--------------------+-------------+\n",
            "|Alimentador de Li...|      1004609|\n",
            "|Faxineiro (Desati...|       559486|\n",
            "|   Servente de Obras|       504572|\n",
            "|Atendente de Loja...|       318923|\n",
            "|Assistente Admini...|       318736|\n",
            "|Auxiliar de Escri...|       296566|\n",
            "|Auxiliar de Logis...|       272059|\n",
            "|Tecnico de Enferm...|       221245|\n",
            "|Repositor de Merc...|       216113|\n",
            "|Motorista de Cami...|       205672|\n",
            "|Recepcionista, em...|       158483|\n",
            "|Auxiliar nos Serv...|       146471|\n",
            "|    Embalador, a Mao|       138056|\n",
            "|   Operador de Caixa|       130945|\n",
            "|Ajudante de Motor...|       123933|\n",
            "|         Armazenista|       120288|\n",
            "|Trabalhador Volan...|        97737|\n",
            "|          Enfermeiro|        95642|\n",
            "|          Estoquista|        91605|\n",
            "|          Almoxarife|        85841|\n",
            "+--------------------+-------------+\n",
            "\n"
          ]
        }
      ]
    },
    {
      "cell_type": "markdown",
      "source": [
        "## 18. Existem ocupações com grande volume de admissões mas também alto volume de desligamentos?"
      ],
      "metadata": {
        "id": "fRr5uuBzkJqS"
      }
    },
    {
      "cell_type": "code",
      "source": [
        "q18 = spark.sql(\"\"\"\n",
        "SELECT\n",
        "    c.descricao_cbo,\n",
        "    SUM(CASE WHEN f.saldomovimentacao = 1  THEN 1 ELSE 0 END) AS qtd_admissoes,\n",
        "    SUM(CASE WHEN f.saldomovimentacao = -1 THEN 1 ELSE 0 END) AS qtd_desligamentos\n",
        "FROM fato_caged f\n",
        "LEFT JOIN dim_cbo c\n",
        "    ON f.cbo2002ocupacao = c.cbo\n",
        "GROUP BY c.descricao_cbo\n",
        "HAVING SUM(CASE WHEN f.saldomovimentacao = 1  THEN 1 ELSE 0 END) > 50000\n",
        "   AND SUM(CASE WHEN f.saldomovimentacao = -1 THEN 1 ELSE 0 END) > 50000\n",
        "ORDER BY qtd_admissoes DESC, qtd_desligamentos DESC\n",
        "LIMIT 20;\n",
        "\"\"\")"
      ],
      "metadata": {
        "id": "Pm9ipNOHkKu8"
      },
      "execution_count": 74,
      "outputs": []
    },
    {
      "cell_type": "code",
      "source": [
        "q18.show()"
      ],
      "metadata": {
        "id": "eyWY3NI2k8To",
        "colab": {
          "base_uri": "https://localhost:8080/"
        },
        "outputId": "e4aae1dd-f17a-45ce-aade-6cf54e136dda"
      },
      "execution_count": 75,
      "outputs": [
        {
          "output_type": "stream",
          "name": "stdout",
          "text": [
            "+--------------------+-------------+-----------------+\n",
            "|       descricao_cbo|qtd_admissoes|qtd_desligamentos|\n",
            "+--------------------+-------------+-----------------+\n",
            "|Vendedor de Comer...|      5954146|          6029906|\n",
            "|Alimentador de Li...|      5859731|          4855122|\n",
            "|Faxineiro (Desati...|      5590867|          5031381|\n",
            "|Auxiliar de Escri...|      4262995|          3966429|\n",
            "|   Servente de Obras|      4015857|          3511285|\n",
            "|Assistente Admini...|      3520973|          3202237|\n",
            "|   Operador de Caixa|      3228050|          3097105|\n",
            "|Motorista de Cami...|      2892125|          2686453|\n",
            "|Atendente de Loja...|      2586227|          2267304|\n",
            "|Repositor de Merc...|      2382224|          2166111|\n",
            "|Auxiliar nos Serv...|      1963723|          1817252|\n",
            "|Atendente de Lanc...|      1759048|          1730062|\n",
            "|Recepcionista, em...|      1713333|          1554850|\n",
            "|            Pedreiro|      1618005|          1555273|\n",
            "|Auxiliar de Logis...|      1477825|          1205766|\n",
            "|Operador de Telem...|      1365937|          1303056|\n",
            "|Tecnico de Enferm...|      1213945|           992700|\n",
            "|          Almoxarife|      1212564|          1126723|\n",
            "|    Cozinheiro Geral|      1208216|          1276282|\n",
            "|Trabalhador Agrop...|      1174760|          1109160|\n",
            "+--------------------+-------------+-----------------+\n",
            "\n"
          ]
        }
      ]
    },
    {
      "cell_type": "code",
      "source": [],
      "metadata": {
        "id": "Cqi-l2_tD7Ug"
      },
      "execution_count": null,
      "outputs": []
    }
  ]
}