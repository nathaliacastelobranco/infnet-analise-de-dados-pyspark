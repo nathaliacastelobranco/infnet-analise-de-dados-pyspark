{
  "nbformat": 4,
  "nbformat_minor": 0,
  "metadata": {
    "colab": {
      "provenance": [],
      "authorship_tag": "ABX9TyMD/VT5Y70gdq8wJd/mDqEH",
      "include_colab_link": true
    },
    "kernelspec": {
      "name": "python3",
      "display_name": "Python 3"
    },
    "language_info": {
      "name": "python"
    }
  },
  "cells": [
    {
      "cell_type": "markdown",
      "metadata": {
        "id": "view-in-github",
        "colab_type": "text"
      },
      "source": [
        "<a href=\"https://colab.research.google.com/github/nathaliacastelobranco/infnet-analise-de-dados-pyspark/blob/main/02_MLib_An%C3%A1lise_de_dados_PySpark.ipynb\" target=\"_parent\"><img src=\"https://colab.research.google.com/assets/colab-badge.svg\" alt=\"Open In Colab\"/></a>"
      ]
    },
    {
      "cell_type": "markdown",
      "source": [
        "# Análise de dados com PySpark []\n",
        "\n",
        "Nathalia Castelo Branco\n",
        "\n",
        "---\n",
        "\n",
        "### Parte 2\n",
        "Desenvolva um notebook bem documentado em Python utilizando a biblioteca PySpark para treinar um modelo de aprendizado de máquina\n",
        "\n",
        "- Contextualize bem o problema e os dados disponíveis, assim como o algoritmo ou técnica que será utilizada (regressão linear, regressão logística, clusterização, etc.)\n",
        "- Mostre o tratamento realizado no dataframe\n",
        "- Divida os dados em dois conjuntos diferentes: um de treinamento e outro de teste\n",
        "- Treine um modelo e apresente métricas de desempenho do modelo gerado\n",
        "- Aplique o modelo na base de teste e compare o desempenho com a base de treinamento\n",
        "- Proponha sugestões para melhorar a qualidade do modelo e, se for possível, teste se essas sugestões melhoram o primeiro resultado obtido\n",
        "\n",
        "---"
      ],
      "metadata": {
        "id": "i_Uk6496lRMn"
      }
    },
    {
      "cell_type": "markdown",
      "source": [
        "# Predição de Custos de Seguro de Saúde utilizando Regressão Linear no PySpark MLlib\n",
        "\n",
        "O presente trabalho tem como objetivo desenvolver um modelo de regressão linear utilizando o PySpark MLlib, com o intuito de estimar os custos de seguro de saúde com base em características demográficas e comportamentais de indivíduos.\n",
        "\n",
        "Para isso, foi utilizado o [Medical Cost Personal Dataset](https://www.kaggle.com/datasets/mirichoi0218/insurance), disponibilizado publicamente no portal Kaggle.\n",
        "O conjunto de dados contém 1.338 registros de beneficiários de planos de saúde nos Estados Unidos e 7 variáveis que descrevem informações pessoais, médicas e de custo.\n",
        "\n",
        "A análise busca compreender como fatores como idade, índice de massa corporal (IMC) e hábito de fumar influenciam no valor final do seguro (charges).\n",
        "Além disso, foram aplicadas técnicas de análise exploratória, correlação de Pearson e modelagem preditiva com o objetivo de avaliar o desempenho do modelo e interpretar os resultados obtidos.\n",
        "\n",
        "### **Dicionário de Dados — Insurance Dataset**\n",
        "\n",
        "| Variável | Tipo | Descrição | Unidade / Categoria |\n",
        "|-----------|------|------------|----------------------|\n",
        "| `age` | Numérica (inteira) | Idade do beneficiário do plano de saúde. | Anos |\n",
        "| `sex` | Categórica | Sexo biológico do beneficiário (`male`, `female`). | - |\n",
        "| `bmi` | Numérica (float) | Índice de Massa Corporal (IMC), calculado como peso (kg) / altura² (m²). | kg/m² |\n",
        "| `children` | Numérica (inteira) | Número de filhos ou dependentes cobertos pelo seguro. | Quantidade |\n",
        "| `smoker` | Categórica | Indica se o beneficiário é fumante (`yes`, `no`). | - |\n",
        "| `region` | Categórica | Região geográfica de residência (`northeast`, `southeast`, `southwest`, `northwest`). | - |\n",
        "| `charges` | Numérica (float) | Valor total cobrado pelo plano de saúde (variável alvo). | Dólares (USD) |"
      ],
      "metadata": {
        "id": "x34d09ueWmNi"
      }
    },
    {
      "cell_type": "code",
      "source": [
        "# ==============================================\n",
        "# 0. Instalações\n",
        "# ==============================================\n",
        "\n",
        "!pip install pyspark\n",
        "\n",
        "!pip install gcsfs pyarrow fastparquet -q\n",
        "\n",
        "!apt-get install openjdk-11-jdk-headless -qq > /dev/null\n",
        "!wget -q https://repo1.maven.org/maven2/com/google/cloud/bigdataoss/gcs-connector/hadoop3-2.2.5/gcs-connector-hadoop3-2.2.5-shaded.jar -O gcs-connector.jar"
      ],
      "metadata": {
        "colab": {
          "base_uri": "https://localhost:8080/"
        },
        "id": "qGbs878PNPbP",
        "outputId": "e35d050c-5854-482b-b93a-a5f165c0bf45"
      },
      "execution_count": 2,
      "outputs": [
        {
          "output_type": "stream",
          "name": "stdout",
          "text": [
            "Requirement already satisfied: pyspark in /usr/local/lib/python3.12/dist-packages (3.5.1)\n",
            "Requirement already satisfied: py4j==0.10.9.7 in /usr/local/lib/python3.12/dist-packages (from pyspark) (0.10.9.7)\n",
            "\u001b[2K   \u001b[90m━━━━━━━━━━━━━━━━━━━━━━━━━━━━━━━━━━━━━━━━\u001b[0m \u001b[32m1.8/1.8 MB\u001b[0m \u001b[31m24.3 MB/s\u001b[0m eta \u001b[36m0:00:00\u001b[0m\n",
            "\u001b[?25h"
          ]
        }
      ]
    },
    {
      "cell_type": "code",
      "execution_count": 58,
      "metadata": {
        "id": "HQDIi1HtlQak"
      },
      "outputs": [],
      "source": [
        "# ==============================================\n",
        "# 1. Dependências, autenticação e configurações\n",
        "# ==============================================\n",
        "from pyspark.sql import SparkSession\n",
        "from pyspark.sql.functions import count, desc, col, max, when, isnan, substring, when, col, lit\n",
        "from pyspark.sql.types import NumericType\n",
        "from pyspark.ml.feature import StringIndexer, VectorAssembler\n",
        "from pyspark.ml import Pipeline\n",
        "from pyspark.ml.regression import LinearRegression\n",
        "from pyspark.ml.evaluation import RegressionEvaluator\n",
        "\n",
        "\n",
        "import matplotlib.pyplot as plt\n",
        "import seaborn as sns\n",
        "import pandas as pd\n",
        "import kagglehub"
      ]
    },
    {
      "cell_type": "code",
      "source": [
        "# ========================================\n",
        "# 2. Sessão Spark e Exploração dos dados\n",
        "# ========================================\n",
        "spark = SparkSession \\\n",
        "        .builder \\\n",
        "        .appName(\"Insurance_MLlib\") \\\n",
        "        .getOrCreate()"
      ],
      "metadata": {
        "id": "i21f5yJCLHOa"
      },
      "execution_count": 38,
      "outputs": []
    },
    {
      "cell_type": "code",
      "source": [
        "data = spark.read.csv(\"/content/insurance.csv\", header=True, inferSchema=True, sep=\",\")"
      ],
      "metadata": {
        "id": "4EzNGKk0TnZ-"
      },
      "execution_count": 43,
      "outputs": []
    },
    {
      "cell_type": "code",
      "source": [
        "data.show()"
      ],
      "metadata": {
        "colab": {
          "base_uri": "https://localhost:8080/"
        },
        "id": "YtnaDKgbT41J",
        "outputId": "98a169a1-d35c-4e25-bba0-99a2ede73f24"
      },
      "execution_count": 44,
      "outputs": [
        {
          "output_type": "stream",
          "name": "stdout",
          "text": [
            "+---+------+------+--------+------+---------+-----------+\n",
            "|age|   sex|   bmi|children|smoker|   region|    charges|\n",
            "+---+------+------+--------+------+---------+-----------+\n",
            "| 19|female|  27.9|       0|   yes|southwest|  16884.924|\n",
            "| 18|  male| 33.77|       1|    no|southeast|  1725.5523|\n",
            "| 28|  male|  33.0|       3|    no|southeast|   4449.462|\n",
            "| 33|  male|22.705|       0|    no|northwest|21984.47061|\n",
            "| 32|  male| 28.88|       0|    no|northwest|  3866.8552|\n",
            "| 31|female| 25.74|       0|    no|southeast|  3756.6216|\n",
            "| 46|female| 33.44|       1|    no|southeast|  8240.5896|\n",
            "| 37|female| 27.74|       3|    no|northwest|  7281.5056|\n",
            "| 37|  male| 29.83|       2|    no|northeast|  6406.4107|\n",
            "| 60|female| 25.84|       0|    no|northwest|28923.13692|\n",
            "| 25|  male| 26.22|       0|    no|northeast|  2721.3208|\n",
            "| 62|female| 26.29|       0|   yes|southeast| 27808.7251|\n",
            "| 23|  male|  34.4|       0|    no|southwest|   1826.843|\n",
            "| 56|female| 39.82|       0|    no|southeast| 11090.7178|\n",
            "| 27|  male| 42.13|       0|   yes|southeast| 39611.7577|\n",
            "| 19|  male|  24.6|       1|    no|southwest|   1837.237|\n",
            "| 52|female| 30.78|       1|    no|northeast| 10797.3362|\n",
            "| 23|  male|23.845|       0|    no|northeast| 2395.17155|\n",
            "| 56|  male|  40.3|       0|    no|southwest|  10602.385|\n",
            "| 30|  male|  35.3|       0|   yes|southwest|  36837.467|\n",
            "+---+------+------+--------+------+---------+-----------+\n",
            "only showing top 20 rows\n",
            "\n"
          ]
        }
      ]
    },
    {
      "cell_type": "code",
      "source": [
        "data.printSchema()"
      ],
      "metadata": {
        "colab": {
          "base_uri": "https://localhost:8080/"
        },
        "id": "Xkdvwjx1M0J8",
        "outputId": "76729c06-277d-4abd-fe06-d71b9f9b2df6"
      },
      "execution_count": 45,
      "outputs": [
        {
          "output_type": "stream",
          "name": "stdout",
          "text": [
            "root\n",
            " |-- age: integer (nullable = true)\n",
            " |-- sex: string (nullable = true)\n",
            " |-- bmi: double (nullable = true)\n",
            " |-- children: integer (nullable = true)\n",
            " |-- smoker: string (nullable = true)\n",
            " |-- region: string (nullable = true)\n",
            " |-- charges: double (nullable = true)\n",
            "\n"
          ]
        }
      ]
    },
    {
      "cell_type": "markdown",
      "source": [
        "### Tratamento de dados"
      ],
      "metadata": {
        "id": "UlreTRH0QP0z"
      }
    },
    {
      "cell_type": "code",
      "source": [
        "# ========================================\n",
        "# 4. Tratamento dos dados\n",
        "# ========================================\n",
        "indexer_sex = StringIndexer(inputCol=\"sex\", outputCol=\"sex_index\")\n",
        "indexer_smoker = StringIndexer(inputCol=\"smoker\", outputCol=\"smoker_index\")\n",
        "indexer_region = StringIndexer(inputCol=\"region\", outputCol=\"region_index\")"
      ],
      "metadata": {
        "id": "-oNuAocJ_7ql"
      },
      "execution_count": 48,
      "outputs": []
    },
    {
      "cell_type": "code",
      "source": [
        "pipeline = Pipeline(stages=[indexer_sex, indexer_smoker, indexer_region])"
      ],
      "metadata": {
        "id": "4Ur57jU5VgNS"
      },
      "execution_count": 50,
      "outputs": []
    },
    {
      "cell_type": "code",
      "source": [
        "data_indexed = pipeline.fit(data).transform(data)"
      ],
      "metadata": {
        "id": "8uecCKC4Vj2u"
      },
      "execution_count": 51,
      "outputs": []
    },
    {
      "cell_type": "code",
      "source": [
        "# Vetor de features\n",
        "feature_cols = [\"age\", \"bmi\", \"children\", \"sex_index\", \"smoker_index\", \"region_index\"]\n",
        "assembler = VectorAssembler(inputCols=feature_cols, outputCol=\"features\")"
      ],
      "metadata": {
        "id": "ApwyEkURVn5N"
      },
      "execution_count": 52,
      "outputs": []
    },
    {
      "cell_type": "code",
      "source": [
        "final_data = assembler.transform(data_indexed).select(\"features\", \"charges\")\n",
        "final_data.show(5)"
      ],
      "metadata": {
        "colab": {
          "base_uri": "https://localhost:8080/"
        },
        "id": "l02TxZUiVuVy",
        "outputId": "b2103d6f-1277-474b-f81b-2bc8339b3638"
      },
      "execution_count": 53,
      "outputs": [
        {
          "output_type": "stream",
          "name": "stdout",
          "text": [
            "+--------------------+-----------+\n",
            "|            features|    charges|\n",
            "+--------------------+-----------+\n",
            "|[19.0,27.9,0.0,1....|  16884.924|\n",
            "|[18.0,33.77,1.0,0...|  1725.5523|\n",
            "|[28.0,33.0,3.0,0....|   4449.462|\n",
            "|[33.0,22.705,0.0,...|21984.47061|\n",
            "|[32.0,28.88,0.0,0...|  3866.8552|\n",
            "+--------------------+-----------+\n",
            "only showing top 5 rows\n",
            "\n"
          ]
        }
      ]
    },
    {
      "cell_type": "markdown",
      "source": [
        "**Matriz de correlação das variáveis**"
      ],
      "metadata": {
        "id": "D02SZN1oXR5X"
      }
    },
    {
      "cell_type": "code",
      "source": [
        "numeric_cols = [f.name for f in data_indexed.schema.fields if isinstance(f.dataType, NumericType)]\n",
        "numeric_df = data_indexed.select(numeric_cols)\n",
        "numeric_df.show(5)"
      ],
      "metadata": {
        "colab": {
          "base_uri": "https://localhost:8080/"
        },
        "id": "QTUOSctKXJc3",
        "outputId": "f14e3282-e9cd-4217-d30e-d919741700fe"
      },
      "execution_count": 61,
      "outputs": [
        {
          "output_type": "stream",
          "name": "stdout",
          "text": [
            "+---+------+--------+-----------+---------+------------+------------+\n",
            "|age|   bmi|children|    charges|sex_index|smoker_index|region_index|\n",
            "+---+------+--------+-----------+---------+------------+------------+\n",
            "| 19|  27.9|       0|  16884.924|      1.0|         1.0|         2.0|\n",
            "| 18| 33.77|       1|  1725.5523|      0.0|         0.0|         0.0|\n",
            "| 28|  33.0|       3|   4449.462|      0.0|         0.0|         0.0|\n",
            "| 33|22.705|       0|21984.47061|      0.0|         0.0|         1.0|\n",
            "| 32| 28.88|       0|  3866.8552|      0.0|         0.0|         1.0|\n",
            "+---+------+--------+-----------+---------+------------+------------+\n",
            "only showing top 5 rows\n",
            "\n"
          ]
        }
      ]
    },
    {
      "cell_type": "code",
      "source": [
        "numeric_pd = numeric_df.toPandas()"
      ],
      "metadata": {
        "id": "BEHlWiVgXRGR"
      },
      "execution_count": 62,
      "outputs": []
    },
    {
      "cell_type": "code",
      "source": [
        "corr_matrix = numeric_pd.corr(method=\"pearson\")\n",
        "corr_with_target = corr_matrix[\"charges\"].sort_values(ascending=False)\n",
        "\n",
        "print(\"Correlação com charges:\")\n",
        "print(corr_with_target)"
      ],
      "metadata": {
        "colab": {
          "base_uri": "https://localhost:8080/"
        },
        "id": "k4vHK5RQXXW8",
        "outputId": "054ee036-e3aa-483b-834f-4efd4baf39b8"
      },
      "execution_count": 63,
      "outputs": [
        {
          "output_type": "stream",
          "name": "stdout",
          "text": [
            "Correlação com charges:\n",
            "charges         1.000000\n",
            "smoker_index    0.787251\n",
            "age             0.299008\n",
            "bmi             0.198341\n",
            "children        0.067998\n",
            "region_index   -0.040728\n",
            "sex_index      -0.057292\n",
            "Name: charges, dtype: float64\n"
          ]
        }
      ]
    },
    {
      "cell_type": "code",
      "source": [
        "plt.figure(figsize=(8,6))\n",
        "sns.heatmap(corr_matrix, annot=True, cmap=\"Spectral\", center=0)\n",
        "plt.title(\"Matriz de Correlação - Dataset Insurance\")\n",
        "plt.show()"
      ],
      "metadata": {
        "colab": {
          "base_uri": "https://localhost:8080/",
          "height": 627
        },
        "id": "mINd6VvZXcbd",
        "outputId": "12274251-837d-412a-b2be-339c0d153be7"
      },
      "execution_count": 66,
      "outputs": [
        {
          "output_type": "display_data",
          "data": {
            "text/plain": [
              "<Figure size 800x600 with 2 Axes>"
            ],
            "image/png": "[encoded data removed]"
          },
          "metadata": {}
        }
      ]
    },
    {
      "cell_type": "markdown",
      "source": [
        "As variáveis com maior correlação com o custo do seguro saúde são:\n",
        "\n",
        "1. smoker_index: Fumante ou não fumante\n",
        "2. age: Idade\n",
        "3. bmi: Índice de massa corporal\n",
        "\n"
      ],
      "metadata": {
        "id": "SraGX6qNX4A8"
      }
    },
    {
      "cell_type": "markdown",
      "source": [
        "#### **Correlação de Pearson**\n",
        "\n",
        "O coeficiente mede a força e a direção linear entre duas variáveis, variando entre 1 e -1.\n",
        "\n",
        "- Correlação linear positiva perfeita: 1\n",
        "- Nenhuma correlação: 0\n",
        "- Correlação linear negativa perfeita: -1\n",
        "\n",
        "As faixas de correlação mais praticadas são:\n",
        "- Fraca: 0.2\n",
        "- Moderada: 0.4\n",
        "- Forte: 0.7\n",
        "- Muito forte: 0.9\n",
        "\n",
        "Ou seja, `smoker_index` tem uma correlação forte com o valor do seguro saúde, enquanto `age` e `bmi` possuem uma correlação fraca."
      ],
      "metadata": {
        "id": "Q3if_wErYf1T"
      }
    },
    {
      "cell_type": "markdown",
      "source": [
        "## Regressão Linear"
      ],
      "metadata": {
        "id": "gyb8a1yAV5xE"
      }
    },
    {
      "cell_type": "code",
      "source": [
        "# ========================================\n",
        "# 5. Treinamento do modelo e avaliação\n",
        "# ========================================\n",
        "\n",
        "# Divisão entre treino (80%) e teste (20%)\n",
        "train, test = final_data.randomSplit([0.8, 0.2], seed=42)"
      ],
      "metadata": {
        "id": "O9mjGT4sVyCE"
      },
      "execution_count": 55,
      "outputs": []
    },
    {
      "cell_type": "code",
      "source": [
        "# Regressão Linear\n",
        "lr = LinearRegression(featuresCol=\"features\", labelCol=\"charges\")\n",
        "lr_model = lr.fit(train)"
      ],
      "metadata": {
        "id": "MECpVpvtWDKV"
      },
      "execution_count": 56,
      "outputs": []
    },
    {
      "cell_type": "code",
      "source": [
        "# Métricas do modelo\n",
        "print(\"Coeficientes:\", lr_model.coefficients)\n",
        "print(\"Intercepto:\", lr_model.intercept)"
      ],
      "metadata": {
        "colab": {
          "base_uri": "https://localhost:8080/"
        },
        "id": "VNmp9FyhWGuM",
        "outputId": "4b10bbe6-af1f-4dcc-ada0-6c0424266677"
      },
      "execution_count": 57,
      "outputs": [
        {
          "output_type": "stream",
          "name": "stdout",
          "text": [
            "Coeficientes: [253.41062689867144,339.83064105925865,457.93005591206827,348.02171562844006,23837.78995963429,282.44477833847736]\n",
            "Intercepto: -13123.44207690876\n"
          ]
        }
      ]
    },
    {
      "cell_type": "code",
      "source": [
        "# O quanto cada feature impacta no resultado da Regressão Linear\n",
        "for i in range(0, len(feature_cols)):\n",
        "  print(f\"{feature_cols[i]}: {lr_model.coefficients[i]}\")"
      ],
      "metadata": {
        "colab": {
          "base_uri": "https://localhost:8080/"
        },
        "id": "rm0cNt_ZaMiE",
        "outputId": "eb173689-1204-41c6-b719-470ec8dbd4c8"
      },
      "execution_count": 70,
      "outputs": [
        {
          "output_type": "stream",
          "name": "stdout",
          "text": [
            "age: 253.41062689867144\n",
            "bmi: 339.83064105925865\n",
            "children: 457.93005591206827\n",
            "sex_index: 348.02171562844006\n",
            "smoker_index: 23837.78995963429\n",
            "region_index: 282.44477833847736\n"
          ]
        }
      ]
    },
    {
      "cell_type": "markdown",
      "source": [
        "### Avaliação do modelo de regressão linear"
      ],
      "metadata": {
        "id": "9Nzw9F__WQW5"
      }
    },
    {
      "cell_type": "code",
      "source": [
        "predictions = lr_model.transform(test)\n",
        "\n",
        "evaluator = RegressionEvaluator(labelCol=\"charges\", predictionCol=\"prediction\")\n",
        "rmse = evaluator.evaluate(predictions, {evaluator.metricName: \"rmse\"})\n",
        "r2 = evaluator.evaluate(predictions, {evaluator.metricName: \"r2\"})\n",
        "\n",
        "print(f\"RMSE = {rmse:.2f}\")\n",
        "print(f\"R² = {r2:.3f}\")"
      ],
      "metadata": {
        "colab": {
          "base_uri": "https://localhost:8080/"
        },
        "id": "GHOv5DI7WJcj",
        "outputId": "1a86c013-08c9-450a-9f20-187d8d6280ba"
      },
      "execution_count": 59,
      "outputs": [
        {
          "output_type": "stream",
          "name": "stdout",
          "text": [
            "RMSE = 6392.75\n",
            "R² = 0.719\n"
          ]
        }
      ]
    },
    {
      "cell_type": "markdown",
      "source": [
        "O modelo de Regressão Linear explica aproximadamente 72% da variação (R²) nos custos do seguro saúde, o que indica boa adequação ao problema. Já o erro quadrático médio (RMSE) indica que as previsões do modelo possuem um desvio de USD 6.392,75, em média."
      ],
      "metadata": {
        "id": "OPv8P2qMa3Jj"
      }
    },
    {
      "cell_type": "markdown",
      "source": [
        "## Propostas de melhoria:\n",
        "\n",
        "- Alterar normalização das variáveis categóricas para One Hot Enconding\n",
        "- Avaliar a linearidade dos dados\n",
        "- Testar o uso de outros modelos, como RandomForest"
      ],
      "metadata": {
        "id": "NftJ5GBNdVF5"
      }
    },
    {
      "cell_type": "code",
      "source": [],
      "metadata": {
        "id": "KoyCmzsZefTo"
      },
      "execution_count": null,
      "outputs": []
    }
  ]
}